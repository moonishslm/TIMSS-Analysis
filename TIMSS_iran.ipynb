{
  "nbformat": 4,
  "nbformat_minor": 0,
  "metadata": {
    "colab": {
      "provenance": []
    },
    "kernelspec": {
      "name": "python3",
      "display_name": "Python 3"
    },
    "language_info": {
      "name": "python"
    }
  },
  "cells": [
    {
      "cell_type": "markdown",
      "source": [
        "# Import the needed Libraries"
      ],
      "metadata": {
        "id": "Ug33YxZ2PxTS"
      }
    },
    {
      "cell_type": "code",
      "execution_count": 80,
      "metadata": {
        "id": "XUyBF7epSd9X"
      },
      "outputs": [],
      "source": [
        "import pandas as pd\n",
        "from sklearn import preprocessing\n",
        "from sklearn.tree import DecisionTreeClassifier, export_graphviz\n",
        "import matplotlib.pyplot as plt\n",
        "from scipy.stats import zscore\n",
        "import subprocess\n",
        "import scipy.stats as stats\n",
        "import seaborn as sns\n",
        "import random\n",
        "from sklearn.ensemble import RandomForestClassifier\n",
        "from pandas.api.types import CategoricalDtype"
      ]
    },
    {
      "cell_type": "markdown",
      "source": [
        "# Reading the dataset"
      ],
      "metadata": {
        "id": "pVXxr8nOP8Fi"
      }
    },
    {
      "cell_type": "code",
      "source": [
        "df = pd.read_excel('/content/drive/MyDrive/Colab Notebooks/TIMSS2019.xlsx')"
      ],
      "metadata": {
        "id": "hdQcQz69SuPS"
      },
      "execution_count": 81,
      "outputs": []
    },
    {
      "cell_type": "markdown",
      "source": [
        "make a copy of dataframe"
      ],
      "metadata": {
        "id": "qcUGKgRwA-pK"
      }
    },
    {
      "cell_type": "code",
      "source": [
        "df1 = df.copy()"
      ],
      "metadata": {
        "id": "loCfknGmA60e"
      },
      "execution_count": 82,
      "outputs": []
    },
    {
      "cell_type": "markdown",
      "source": [
        "# Explore in Data\n"
      ],
      "metadata": {
        "id": "JxyMQy-wDW7m"
      }
    },
    {
      "cell_type": "code",
      "source": [
        "df1.head()"
      ],
      "metadata": {
        "id": "UaZhsnJC9IIH",
        "colab": {
          "base_uri": "https://localhost:8080/",
          "height": 299
        },
        "outputId": "278618c9-7524-4b40-88af-b7fa0562aeaf"
      },
      "execution_count": 83,
      "outputs": [
        {
          "output_type": "execute_result",
          "data": {
            "text/plain": [
              "   IDCNTRY  IDBOOK  IDSCHOOL  IDCLASS    IDSTUD finalscore  totalscore  \\\n",
              "0      364       1      5001   500104  50010404          D        14.0   \n",
              "1      364       1      5001   500104  50010418          D        11.0   \n",
              "2      364       1      5001   500104  50010432          B        31.0   \n",
              "3      364       1      5002   500201  50020114          E         6.0   \n",
              "4      364       1      5002   500201  50020128          D        15.0   \n",
              "\n",
              "  finalscorealgebra finalscoredat finalscoregeo  ... BTBM23  BTDGEAS  BTDGLSN  \\\n",
              "0                 A             D             E  ...      5        3        2   \n",
              "1                 D             D             E  ...      5        3        2   \n",
              "2                 B             D             C  ...      5        3        2   \n",
              "3                 D             E             E  ...      4        2        2   \n",
              "4                 D             C             E  ...      4        2        2   \n",
              "\n",
              "   BTDGSOS  BTDGTJS  BTDMMME  BTDMNUM   BTDMALG   BTDMGEO   BTDMDAT  \n",
              "0        1        1        2    100.0  28.57143  83.33333  83.33333  \n",
              "1        1        1        2    100.0  28.57143  83.33333  83.33333  \n",
              "2        1        1        2    100.0  28.57143  83.33333  83.33333  \n",
              "3        2        2        3    100.0  28.57143  83.33333  16.66667  \n",
              "4        2        2        3    100.0  28.57143  83.33333  16.66667  \n",
              "\n",
              "[5 rows x 338 columns]"
            ],
            "text/html": [
              "\n",
              "  <div id=\"df-93e63051-68ff-4b7e-b0f6-c50d4149e02c\">\n",
              "    <div class=\"colab-df-container\">\n",
              "      <div>\n",
              "<style scoped>\n",
              "    .dataframe tbody tr th:only-of-type {\n",
              "        vertical-align: middle;\n",
              "    }\n",
              "\n",
              "    .dataframe tbody tr th {\n",
              "        vertical-align: top;\n",
              "    }\n",
              "\n",
              "    .dataframe thead th {\n",
              "        text-align: right;\n",
              "    }\n",
              "</style>\n",
              "<table border=\"1\" class=\"dataframe\">\n",
              "  <thead>\n",
              "    <tr style=\"text-align: right;\">\n",
              "      <th></th>\n",
              "      <th>IDCNTRY</th>\n",
              "      <th>IDBOOK</th>\n",
              "      <th>IDSCHOOL</th>\n",
              "      <th>IDCLASS</th>\n",
              "      <th>IDSTUD</th>\n",
              "      <th>finalscore</th>\n",
              "      <th>totalscore</th>\n",
              "      <th>finalscorealgebra</th>\n",
              "      <th>finalscoredat</th>\n",
              "      <th>finalscoregeo</th>\n",
              "      <th>...</th>\n",
              "      <th>BTBM23</th>\n",
              "      <th>BTDGEAS</th>\n",
              "      <th>BTDGLSN</th>\n",
              "      <th>BTDGSOS</th>\n",
              "      <th>BTDGTJS</th>\n",
              "      <th>BTDMMME</th>\n",
              "      <th>BTDMNUM</th>\n",
              "      <th>BTDMALG</th>\n",
              "      <th>BTDMGEO</th>\n",
              "      <th>BTDMDAT</th>\n",
              "    </tr>\n",
              "  </thead>\n",
              "  <tbody>\n",
              "    <tr>\n",
              "      <th>0</th>\n",
              "      <td>364</td>\n",
              "      <td>1</td>\n",
              "      <td>5001</td>\n",
              "      <td>500104</td>\n",
              "      <td>50010404</td>\n",
              "      <td>D</td>\n",
              "      <td>14.0</td>\n",
              "      <td>A</td>\n",
              "      <td>D</td>\n",
              "      <td>E</td>\n",
              "      <td>...</td>\n",
              "      <td>5</td>\n",
              "      <td>3</td>\n",
              "      <td>2</td>\n",
              "      <td>1</td>\n",
              "      <td>1</td>\n",
              "      <td>2</td>\n",
              "      <td>100.0</td>\n",
              "      <td>28.57143</td>\n",
              "      <td>83.33333</td>\n",
              "      <td>83.33333</td>\n",
              "    </tr>\n",
              "    <tr>\n",
              "      <th>1</th>\n",
              "      <td>364</td>\n",
              "      <td>1</td>\n",
              "      <td>5001</td>\n",
              "      <td>500104</td>\n",
              "      <td>50010418</td>\n",
              "      <td>D</td>\n",
              "      <td>11.0</td>\n",
              "      <td>D</td>\n",
              "      <td>D</td>\n",
              "      <td>E</td>\n",
              "      <td>...</td>\n",
              "      <td>5</td>\n",
              "      <td>3</td>\n",
              "      <td>2</td>\n",
              "      <td>1</td>\n",
              "      <td>1</td>\n",
              "      <td>2</td>\n",
              "      <td>100.0</td>\n",
              "      <td>28.57143</td>\n",
              "      <td>83.33333</td>\n",
              "      <td>83.33333</td>\n",
              "    </tr>\n",
              "    <tr>\n",
              "      <th>2</th>\n",
              "      <td>364</td>\n",
              "      <td>1</td>\n",
              "      <td>5001</td>\n",
              "      <td>500104</td>\n",
              "      <td>50010432</td>\n",
              "      <td>B</td>\n",
              "      <td>31.0</td>\n",
              "      <td>B</td>\n",
              "      <td>D</td>\n",
              "      <td>C</td>\n",
              "      <td>...</td>\n",
              "      <td>5</td>\n",
              "      <td>3</td>\n",
              "      <td>2</td>\n",
              "      <td>1</td>\n",
              "      <td>1</td>\n",
              "      <td>2</td>\n",
              "      <td>100.0</td>\n",
              "      <td>28.57143</td>\n",
              "      <td>83.33333</td>\n",
              "      <td>83.33333</td>\n",
              "    </tr>\n",
              "    <tr>\n",
              "      <th>3</th>\n",
              "      <td>364</td>\n",
              "      <td>1</td>\n",
              "      <td>5002</td>\n",
              "      <td>500201</td>\n",
              "      <td>50020114</td>\n",
              "      <td>E</td>\n",
              "      <td>6.0</td>\n",
              "      <td>D</td>\n",
              "      <td>E</td>\n",
              "      <td>E</td>\n",
              "      <td>...</td>\n",
              "      <td>4</td>\n",
              "      <td>2</td>\n",
              "      <td>2</td>\n",
              "      <td>2</td>\n",
              "      <td>2</td>\n",
              "      <td>3</td>\n",
              "      <td>100.0</td>\n",
              "      <td>28.57143</td>\n",
              "      <td>83.33333</td>\n",
              "      <td>16.66667</td>\n",
              "    </tr>\n",
              "    <tr>\n",
              "      <th>4</th>\n",
              "      <td>364</td>\n",
              "      <td>1</td>\n",
              "      <td>5002</td>\n",
              "      <td>500201</td>\n",
              "      <td>50020128</td>\n",
              "      <td>D</td>\n",
              "      <td>15.0</td>\n",
              "      <td>D</td>\n",
              "      <td>C</td>\n",
              "      <td>E</td>\n",
              "      <td>...</td>\n",
              "      <td>4</td>\n",
              "      <td>2</td>\n",
              "      <td>2</td>\n",
              "      <td>2</td>\n",
              "      <td>2</td>\n",
              "      <td>3</td>\n",
              "      <td>100.0</td>\n",
              "      <td>28.57143</td>\n",
              "      <td>83.33333</td>\n",
              "      <td>16.66667</td>\n",
              "    </tr>\n",
              "  </tbody>\n",
              "</table>\n",
              "<p>5 rows × 338 columns</p>\n",
              "</div>\n",
              "      <button class=\"colab-df-convert\" onclick=\"convertToInteractive('df-93e63051-68ff-4b7e-b0f6-c50d4149e02c')\"\n",
              "              title=\"Convert this dataframe to an interactive table.\"\n",
              "              style=\"display:none;\">\n",
              "        \n",
              "  <svg xmlns=\"http://www.w3.org/2000/svg\" height=\"24px\"viewBox=\"0 0 24 24\"\n",
              "       width=\"24px\">\n",
              "    <path d=\"M0 0h24v24H0V0z\" fill=\"none\"/>\n",
              "    <path d=\"M18.56 5.44l.94 2.06.94-2.06 2.06-.94-2.06-.94-.94-2.06-.94 2.06-2.06.94zm-11 1L8.5 8.5l.94-2.06 2.06-.94-2.06-.94L8.5 2.5l-.94 2.06-2.06.94zm10 10l.94 2.06.94-2.06 2.06-.94-2.06-.94-.94-2.06-.94 2.06-2.06.94z\"/><path d=\"M17.41 7.96l-1.37-1.37c-.4-.4-.92-.59-1.43-.59-.52 0-1.04.2-1.43.59L10.3 9.45l-7.72 7.72c-.78.78-.78 2.05 0 2.83L4 21.41c.39.39.9.59 1.41.59.51 0 1.02-.2 1.41-.59l7.78-7.78 2.81-2.81c.8-.78.8-2.07 0-2.86zM5.41 20L4 18.59l7.72-7.72 1.47 1.35L5.41 20z\"/>\n",
              "  </svg>\n",
              "      </button>\n",
              "      \n",
              "  <style>\n",
              "    .colab-df-container {\n",
              "      display:flex;\n",
              "      flex-wrap:wrap;\n",
              "      gap: 12px;\n",
              "    }\n",
              "\n",
              "    .colab-df-convert {\n",
              "      background-color: #E8F0FE;\n",
              "      border: none;\n",
              "      border-radius: 50%;\n",
              "      cursor: pointer;\n",
              "      display: none;\n",
              "      fill: #1967D2;\n",
              "      height: 32px;\n",
              "      padding: 0 0 0 0;\n",
              "      width: 32px;\n",
              "    }\n",
              "\n",
              "    .colab-df-convert:hover {\n",
              "      background-color: #E2EBFA;\n",
              "      box-shadow: 0px 1px 2px rgba(60, 64, 67, 0.3), 0px 1px 3px 1px rgba(60, 64, 67, 0.15);\n",
              "      fill: #174EA6;\n",
              "    }\n",
              "\n",
              "    [theme=dark] .colab-df-convert {\n",
              "      background-color: #3B4455;\n",
              "      fill: #D2E3FC;\n",
              "    }\n",
              "\n",
              "    [theme=dark] .colab-df-convert:hover {\n",
              "      background-color: #434B5C;\n",
              "      box-shadow: 0px 1px 3px 1px rgba(0, 0, 0, 0.15);\n",
              "      filter: drop-shadow(0px 1px 2px rgba(0, 0, 0, 0.3));\n",
              "      fill: #FFFFFF;\n",
              "    }\n",
              "  </style>\n",
              "\n",
              "      <script>\n",
              "        const buttonEl =\n",
              "          document.querySelector('#df-93e63051-68ff-4b7e-b0f6-c50d4149e02c button.colab-df-convert');\n",
              "        buttonEl.style.display =\n",
              "          google.colab.kernel.accessAllowed ? 'block' : 'none';\n",
              "\n",
              "        async function convertToInteractive(key) {\n",
              "          const element = document.querySelector('#df-93e63051-68ff-4b7e-b0f6-c50d4149e02c');\n",
              "          const dataTable =\n",
              "            await google.colab.kernel.invokeFunction('convertToInteractive',\n",
              "                                                     [key], {});\n",
              "          if (!dataTable) return;\n",
              "\n",
              "          const docLinkHtml = 'Like what you see? Visit the ' +\n",
              "            '<a target=\"_blank\" href=https://colab.research.google.com/notebooks/data_table.ipynb>data table notebook</a>'\n",
              "            + ' to learn more about interactive tables.';\n",
              "          element.innerHTML = '';\n",
              "          dataTable['output_type'] = 'display_data';\n",
              "          await google.colab.output.renderOutput(dataTable, element);\n",
              "          const docLink = document.createElement('div');\n",
              "          docLink.innerHTML = docLinkHtml;\n",
              "          element.appendChild(docLink);\n",
              "        }\n",
              "      </script>\n",
              "    </div>\n",
              "  </div>\n",
              "  "
            ]
          },
          "metadata": {},
          "execution_count": 83
        }
      ]
    },
    {
      "cell_type": "code",
      "source": [
        "df1.info()"
      ],
      "metadata": {
        "colab": {
          "base_uri": "https://localhost:8080/"
        },
        "id": "-MUlWTD4b8My",
        "outputId": "72b053e8-1d06-46f5-9617-377c161e290c"
      },
      "execution_count": 84,
      "outputs": [
        {
          "output_type": "stream",
          "name": "stdout",
          "text": [
            "<class 'pandas.core.frame.DataFrame'>\n",
            "RangeIndex: 5980 entries, 0 to 5979\n",
            "Columns: 338 entries, IDCNTRY to BTDMDAT\n",
            "dtypes: float64(123), int64(210), object(5)\n",
            "memory usage: 15.4+ MB\n"
          ]
        }
      ]
    },
    {
      "cell_type": "code",
      "source": [
        "df1.describe()"
      ],
      "metadata": {
        "colab": {
          "base_uri": "https://localhost:8080/",
          "height": 393
        },
        "id": "74MJUDLGDwGd",
        "outputId": "8442f148-76fa-49e8-9924-3a08f7e2160e"
      },
      "execution_count": 85,
      "outputs": [
        {
          "output_type": "execute_result",
          "data": {
            "text/plain": [
              "       IDCNTRY       IDBOOK     IDSCHOOL        IDCLASS        IDSTUD  \\\n",
              "count   5980.0  5980.000000  5980.000000    5980.000000  5.980000e+03   \n",
              "mean     364.0     7.511371  5111.388127  511140.704682  5.111409e+07   \n",
              "std        0.0     4.036591    62.831454    6283.111923  6.283112e+05   \n",
              "min      364.0     1.000000  5001.000000  500104.000000  5.001040e+07   \n",
              "25%      364.0     4.000000  5056.000000  505602.000000  5.056021e+07   \n",
              "50%      364.0     7.500000  5113.000000  511303.000000  5.113033e+07   \n",
              "75%      364.0    11.000000  5164.000000  516403.000000  5.164034e+07   \n",
              "max      364.0    14.000000  5220.000000  522001.000000  5.220013e+07   \n",
              "\n",
              "        totalscore       BSBG01       BSBG03       BSBG04      BSBG05A  ...  \\\n",
              "count  5980.000000  5979.000000  5979.000000  5979.000000  5979.000000  ...   \n",
              "mean     11.534551     1.508279     1.790266     2.312260     1.287506  ...   \n",
              "std       7.238191     0.499973     1.060167     1.226452     0.710385  ...   \n",
              "min       0.000000     1.000000     1.000000     1.000000     1.000000  ...   \n",
              "25%       6.000000     1.000000     1.000000     1.000000     1.000000  ...   \n",
              "50%      10.000000     2.000000     1.000000     2.000000     1.000000  ...   \n",
              "75%      15.000000     2.000000     3.000000     3.000000     1.500000  ...   \n",
              "max      39.000000     2.000000     9.000000     9.000000     9.000000  ...   \n",
              "\n",
              "            BTBM23      BTDGEAS      BTDGLSN      BTDGSOS      BTDGTJS  \\\n",
              "count  5980.000000  5980.000000  5980.000000  5980.000000  5980.000000   \n",
              "mean      3.332274     2.511204     2.061873     1.477592     1.481605   \n",
              "std       1.365769     0.583868     0.517159     0.577784     0.645203   \n",
              "min       1.000000     1.000000     1.000000     1.000000     1.000000   \n",
              "25%       2.000000     2.000000     2.000000     1.000000     1.000000   \n",
              "50%       3.000000     3.000000     2.000000     1.000000     1.000000   \n",
              "75%       5.000000     3.000000     2.000000     2.000000     2.000000   \n",
              "max       5.000000     3.000000     3.000000     3.000000     3.000000   \n",
              "\n",
              "           BTDMMME      BTDMNUM      BTDMALG      BTDMGEO      BTDMDAT  \n",
              "count  5980.000000  5980.000000  5980.000000  5980.000000  5980.000000  \n",
              "mean      2.160535   102.876645    43.618234    90.049831    68.932218  \n",
              "std       1.059201    65.127278    71.818927    67.741639    73.962196  \n",
              "min       1.000000    66.666670     0.000000    16.666670     0.000000  \n",
              "25%       1.000000   100.000000    28.571430    83.333330    50.000000  \n",
              "50%       2.000000   100.000000    42.857140    83.333330    66.666670  \n",
              "75%       3.000000   100.000000    42.857140   100.000000    83.333330  \n",
              "max       9.000000   999.000000   999.000000   999.000000   999.000000  \n",
              "\n",
              "[8 rows x 333 columns]"
            ],
            "text/html": [
              "\n",
              "  <div id=\"df-ce3e52eb-6907-4782-942c-a0e2bf27c364\">\n",
              "    <div class=\"colab-df-container\">\n",
              "      <div>\n",
              "<style scoped>\n",
              "    .dataframe tbody tr th:only-of-type {\n",
              "        vertical-align: middle;\n",
              "    }\n",
              "\n",
              "    .dataframe tbody tr th {\n",
              "        vertical-align: top;\n",
              "    }\n",
              "\n",
              "    .dataframe thead th {\n",
              "        text-align: right;\n",
              "    }\n",
              "</style>\n",
              "<table border=\"1\" class=\"dataframe\">\n",
              "  <thead>\n",
              "    <tr style=\"text-align: right;\">\n",
              "      <th></th>\n",
              "      <th>IDCNTRY</th>\n",
              "      <th>IDBOOK</th>\n",
              "      <th>IDSCHOOL</th>\n",
              "      <th>IDCLASS</th>\n",
              "      <th>IDSTUD</th>\n",
              "      <th>totalscore</th>\n",
              "      <th>BSBG01</th>\n",
              "      <th>BSBG03</th>\n",
              "      <th>BSBG04</th>\n",
              "      <th>BSBG05A</th>\n",
              "      <th>...</th>\n",
              "      <th>BTBM23</th>\n",
              "      <th>BTDGEAS</th>\n",
              "      <th>BTDGLSN</th>\n",
              "      <th>BTDGSOS</th>\n",
              "      <th>BTDGTJS</th>\n",
              "      <th>BTDMMME</th>\n",
              "      <th>BTDMNUM</th>\n",
              "      <th>BTDMALG</th>\n",
              "      <th>BTDMGEO</th>\n",
              "      <th>BTDMDAT</th>\n",
              "    </tr>\n",
              "  </thead>\n",
              "  <tbody>\n",
              "    <tr>\n",
              "      <th>count</th>\n",
              "      <td>5980.0</td>\n",
              "      <td>5980.000000</td>\n",
              "      <td>5980.000000</td>\n",
              "      <td>5980.000000</td>\n",
              "      <td>5.980000e+03</td>\n",
              "      <td>5980.000000</td>\n",
              "      <td>5979.000000</td>\n",
              "      <td>5979.000000</td>\n",
              "      <td>5979.000000</td>\n",
              "      <td>5979.000000</td>\n",
              "      <td>...</td>\n",
              "      <td>5980.000000</td>\n",
              "      <td>5980.000000</td>\n",
              "      <td>5980.000000</td>\n",
              "      <td>5980.000000</td>\n",
              "      <td>5980.000000</td>\n",
              "      <td>5980.000000</td>\n",
              "      <td>5980.000000</td>\n",
              "      <td>5980.000000</td>\n",
              "      <td>5980.000000</td>\n",
              "      <td>5980.000000</td>\n",
              "    </tr>\n",
              "    <tr>\n",
              "      <th>mean</th>\n",
              "      <td>364.0</td>\n",
              "      <td>7.511371</td>\n",
              "      <td>5111.388127</td>\n",
              "      <td>511140.704682</td>\n",
              "      <td>5.111409e+07</td>\n",
              "      <td>11.534551</td>\n",
              "      <td>1.508279</td>\n",
              "      <td>1.790266</td>\n",
              "      <td>2.312260</td>\n",
              "      <td>1.287506</td>\n",
              "      <td>...</td>\n",
              "      <td>3.332274</td>\n",
              "      <td>2.511204</td>\n",
              "      <td>2.061873</td>\n",
              "      <td>1.477592</td>\n",
              "      <td>1.481605</td>\n",
              "      <td>2.160535</td>\n",
              "      <td>102.876645</td>\n",
              "      <td>43.618234</td>\n",
              "      <td>90.049831</td>\n",
              "      <td>68.932218</td>\n",
              "    </tr>\n",
              "    <tr>\n",
              "      <th>std</th>\n",
              "      <td>0.0</td>\n",
              "      <td>4.036591</td>\n",
              "      <td>62.831454</td>\n",
              "      <td>6283.111923</td>\n",
              "      <td>6.283112e+05</td>\n",
              "      <td>7.238191</td>\n",
              "      <td>0.499973</td>\n",
              "      <td>1.060167</td>\n",
              "      <td>1.226452</td>\n",
              "      <td>0.710385</td>\n",
              "      <td>...</td>\n",
              "      <td>1.365769</td>\n",
              "      <td>0.583868</td>\n",
              "      <td>0.517159</td>\n",
              "      <td>0.577784</td>\n",
              "      <td>0.645203</td>\n",
              "      <td>1.059201</td>\n",
              "      <td>65.127278</td>\n",
              "      <td>71.818927</td>\n",
              "      <td>67.741639</td>\n",
              "      <td>73.962196</td>\n",
              "    </tr>\n",
              "    <tr>\n",
              "      <th>min</th>\n",
              "      <td>364.0</td>\n",
              "      <td>1.000000</td>\n",
              "      <td>5001.000000</td>\n",
              "      <td>500104.000000</td>\n",
              "      <td>5.001040e+07</td>\n",
              "      <td>0.000000</td>\n",
              "      <td>1.000000</td>\n",
              "      <td>1.000000</td>\n",
              "      <td>1.000000</td>\n",
              "      <td>1.000000</td>\n",
              "      <td>...</td>\n",
              "      <td>1.000000</td>\n",
              "      <td>1.000000</td>\n",
              "      <td>1.000000</td>\n",
              "      <td>1.000000</td>\n",
              "      <td>1.000000</td>\n",
              "      <td>1.000000</td>\n",
              "      <td>66.666670</td>\n",
              "      <td>0.000000</td>\n",
              "      <td>16.666670</td>\n",
              "      <td>0.000000</td>\n",
              "    </tr>\n",
              "    <tr>\n",
              "      <th>25%</th>\n",
              "      <td>364.0</td>\n",
              "      <td>4.000000</td>\n",
              "      <td>5056.000000</td>\n",
              "      <td>505602.000000</td>\n",
              "      <td>5.056021e+07</td>\n",
              "      <td>6.000000</td>\n",
              "      <td>1.000000</td>\n",
              "      <td>1.000000</td>\n",
              "      <td>1.000000</td>\n",
              "      <td>1.000000</td>\n",
              "      <td>...</td>\n",
              "      <td>2.000000</td>\n",
              "      <td>2.000000</td>\n",
              "      <td>2.000000</td>\n",
              "      <td>1.000000</td>\n",
              "      <td>1.000000</td>\n",
              "      <td>1.000000</td>\n",
              "      <td>100.000000</td>\n",
              "      <td>28.571430</td>\n",
              "      <td>83.333330</td>\n",
              "      <td>50.000000</td>\n",
              "    </tr>\n",
              "    <tr>\n",
              "      <th>50%</th>\n",
              "      <td>364.0</td>\n",
              "      <td>7.500000</td>\n",
              "      <td>5113.000000</td>\n",
              "      <td>511303.000000</td>\n",
              "      <td>5.113033e+07</td>\n",
              "      <td>10.000000</td>\n",
              "      <td>2.000000</td>\n",
              "      <td>1.000000</td>\n",
              "      <td>2.000000</td>\n",
              "      <td>1.000000</td>\n",
              "      <td>...</td>\n",
              "      <td>3.000000</td>\n",
              "      <td>3.000000</td>\n",
              "      <td>2.000000</td>\n",
              "      <td>1.000000</td>\n",
              "      <td>1.000000</td>\n",
              "      <td>2.000000</td>\n",
              "      <td>100.000000</td>\n",
              "      <td>42.857140</td>\n",
              "      <td>83.333330</td>\n",
              "      <td>66.666670</td>\n",
              "    </tr>\n",
              "    <tr>\n",
              "      <th>75%</th>\n",
              "      <td>364.0</td>\n",
              "      <td>11.000000</td>\n",
              "      <td>5164.000000</td>\n",
              "      <td>516403.000000</td>\n",
              "      <td>5.164034e+07</td>\n",
              "      <td>15.000000</td>\n",
              "      <td>2.000000</td>\n",
              "      <td>3.000000</td>\n",
              "      <td>3.000000</td>\n",
              "      <td>1.500000</td>\n",
              "      <td>...</td>\n",
              "      <td>5.000000</td>\n",
              "      <td>3.000000</td>\n",
              "      <td>2.000000</td>\n",
              "      <td>2.000000</td>\n",
              "      <td>2.000000</td>\n",
              "      <td>3.000000</td>\n",
              "      <td>100.000000</td>\n",
              "      <td>42.857140</td>\n",
              "      <td>100.000000</td>\n",
              "      <td>83.333330</td>\n",
              "    </tr>\n",
              "    <tr>\n",
              "      <th>max</th>\n",
              "      <td>364.0</td>\n",
              "      <td>14.000000</td>\n",
              "      <td>5220.000000</td>\n",
              "      <td>522001.000000</td>\n",
              "      <td>5.220013e+07</td>\n",
              "      <td>39.000000</td>\n",
              "      <td>2.000000</td>\n",
              "      <td>9.000000</td>\n",
              "      <td>9.000000</td>\n",
              "      <td>9.000000</td>\n",
              "      <td>...</td>\n",
              "      <td>5.000000</td>\n",
              "      <td>3.000000</td>\n",
              "      <td>3.000000</td>\n",
              "      <td>3.000000</td>\n",
              "      <td>3.000000</td>\n",
              "      <td>9.000000</td>\n",
              "      <td>999.000000</td>\n",
              "      <td>999.000000</td>\n",
              "      <td>999.000000</td>\n",
              "      <td>999.000000</td>\n",
              "    </tr>\n",
              "  </tbody>\n",
              "</table>\n",
              "<p>8 rows × 333 columns</p>\n",
              "</div>\n",
              "      <button class=\"colab-df-convert\" onclick=\"convertToInteractive('df-ce3e52eb-6907-4782-942c-a0e2bf27c364')\"\n",
              "              title=\"Convert this dataframe to an interactive table.\"\n",
              "              style=\"display:none;\">\n",
              "        \n",
              "  <svg xmlns=\"http://www.w3.org/2000/svg\" height=\"24px\"viewBox=\"0 0 24 24\"\n",
              "       width=\"24px\">\n",
              "    <path d=\"M0 0h24v24H0V0z\" fill=\"none\"/>\n",
              "    <path d=\"M18.56 5.44l.94 2.06.94-2.06 2.06-.94-2.06-.94-.94-2.06-.94 2.06-2.06.94zm-11 1L8.5 8.5l.94-2.06 2.06-.94-2.06-.94L8.5 2.5l-.94 2.06-2.06.94zm10 10l.94 2.06.94-2.06 2.06-.94-2.06-.94-.94-2.06-.94 2.06-2.06.94z\"/><path d=\"M17.41 7.96l-1.37-1.37c-.4-.4-.92-.59-1.43-.59-.52 0-1.04.2-1.43.59L10.3 9.45l-7.72 7.72c-.78.78-.78 2.05 0 2.83L4 21.41c.39.39.9.59 1.41.59.51 0 1.02-.2 1.41-.59l7.78-7.78 2.81-2.81c.8-.78.8-2.07 0-2.86zM5.41 20L4 18.59l7.72-7.72 1.47 1.35L5.41 20z\"/>\n",
              "  </svg>\n",
              "      </button>\n",
              "      \n",
              "  <style>\n",
              "    .colab-df-container {\n",
              "      display:flex;\n",
              "      flex-wrap:wrap;\n",
              "      gap: 12px;\n",
              "    }\n",
              "\n",
              "    .colab-df-convert {\n",
              "      background-color: #E8F0FE;\n",
              "      border: none;\n",
              "      border-radius: 50%;\n",
              "      cursor: pointer;\n",
              "      display: none;\n",
              "      fill: #1967D2;\n",
              "      height: 32px;\n",
              "      padding: 0 0 0 0;\n",
              "      width: 32px;\n",
              "    }\n",
              "\n",
              "    .colab-df-convert:hover {\n",
              "      background-color: #E2EBFA;\n",
              "      box-shadow: 0px 1px 2px rgba(60, 64, 67, 0.3), 0px 1px 3px 1px rgba(60, 64, 67, 0.15);\n",
              "      fill: #174EA6;\n",
              "    }\n",
              "\n",
              "    [theme=dark] .colab-df-convert {\n",
              "      background-color: #3B4455;\n",
              "      fill: #D2E3FC;\n",
              "    }\n",
              "\n",
              "    [theme=dark] .colab-df-convert:hover {\n",
              "      background-color: #434B5C;\n",
              "      box-shadow: 0px 1px 3px 1px rgba(0, 0, 0, 0.15);\n",
              "      filter: drop-shadow(0px 1px 2px rgba(0, 0, 0, 0.3));\n",
              "      fill: #FFFFFF;\n",
              "    }\n",
              "  </style>\n",
              "\n",
              "      <script>\n",
              "        const buttonEl =\n",
              "          document.querySelector('#df-ce3e52eb-6907-4782-942c-a0e2bf27c364 button.colab-df-convert');\n",
              "        buttonEl.style.display =\n",
              "          google.colab.kernel.accessAllowed ? 'block' : 'none';\n",
              "\n",
              "        async function convertToInteractive(key) {\n",
              "          const element = document.querySelector('#df-ce3e52eb-6907-4782-942c-a0e2bf27c364');\n",
              "          const dataTable =\n",
              "            await google.colab.kernel.invokeFunction('convertToInteractive',\n",
              "                                                     [key], {});\n",
              "          if (!dataTable) return;\n",
              "\n",
              "          const docLinkHtml = 'Like what you see? Visit the ' +\n",
              "            '<a target=\"_blank\" href=https://colab.research.google.com/notebooks/data_table.ipynb>data table notebook</a>'\n",
              "            + ' to learn more about interactive tables.';\n",
              "          element.innerHTML = '';\n",
              "          dataTable['output_type'] = 'display_data';\n",
              "          await google.colab.output.renderOutput(dataTable, element);\n",
              "          const docLink = document.createElement('div');\n",
              "          docLink.innerHTML = docLinkHtml;\n",
              "          element.appendChild(docLink);\n",
              "        }\n",
              "      </script>\n",
              "    </div>\n",
              "  </div>\n",
              "  "
            ]
          },
          "metadata": {},
          "execution_count": 85
        }
      ]
    },
    {
      "cell_type": "markdown",
      "source": [
        "investigate the unique entries on some of the qualitative data"
      ],
      "metadata": {
        "id": "PQW6r-lvDfNj"
      }
    },
    {
      "cell_type": "code",
      "source": [
        "df1['finalscore'].unique()"
      ],
      "metadata": {
        "colab": {
          "base_uri": "https://localhost:8080/"
        },
        "id": "7Oiv5ONmBl_m",
        "outputId": "91363e10-58f4-4dc5-d55a-68c0132c760d"
      },
      "execution_count": 86,
      "outputs": [
        {
          "output_type": "execute_result",
          "data": {
            "text/plain": [
              "array(['D', 'B', 'E', 'C', 'A', nan], dtype=object)"
            ]
          },
          "metadata": {},
          "execution_count": 86
        }
      ]
    },
    {
      "cell_type": "markdown",
      "source": [
        "make a list to drop all columns that are empty or only contain one unqiue value\n"
      ],
      "metadata": {
        "id": "NEbWSq_oDmkJ"
      }
    },
    {
      "cell_type": "code",
      "source": [
        "dff = list(df1.columns[df1.isna().all()])+list(df1.columns[df1.nunique()==1])\n",
        "dff"
      ],
      "metadata": {
        "colab": {
          "base_uri": "https://localhost:8080/"
        },
        "id": "f2NvIhzTDD6W",
        "outputId": "0980ae0e-27be-45d3-f19d-32879f89b301"
      },
      "execution_count": 87,
      "outputs": [
        {
          "output_type": "execute_result",
          "data": {
            "text/plain": [
              "['BSBGSEC', 'BSDGSEC', 'IDCNTRY']"
            ]
          },
          "metadata": {},
          "execution_count": 87
        }
      ]
    },
    {
      "cell_type": "markdown",
      "source": [
        "graph the different counts of gender in the dataset\n"
      ],
      "metadata": {
        "id": "JCWFZAVTEocu"
      }
    },
    {
      "cell_type": "code",
      "source": [
        "# 1 as female and 2 as male\n",
        "df1['ITSEX'].value_counts().plot(kind='bar', stacked=True , colormap='Paired');"
      ],
      "metadata": {
        "colab": {
          "base_uri": "https://localhost:8080/",
          "height": 262
        },
        "id": "sZqoyw3HEc1y",
        "outputId": "22bdb1c4-39c0-48b6-ff77-b6fc80b0fdec"
      },
      "execution_count": 88,
      "outputs": [
        {
          "output_type": "display_data",
          "data": {
            "text/plain": [
              "<Figure size 432x288 with 1 Axes>"
            ],
            "image/png": "[encoded data removed]"
          },
          "metadata": {
            "needs_background": "light"
          }
        }
      ]
    },
    {
      "cell_type": "markdown",
      "source": [
        "# Preprocessing"
      ],
      "metadata": {
        "id": "AI9WWOcJQg1d"
      }
    },
    {
      "cell_type": "markdown",
      "source": [
        "#### removing null values"
      ],
      "metadata": {
        "id": "IZogefuQ26mj"
      }
    },
    {
      "cell_type": "markdown",
      "source": [
        "check if we have any null or nan values"
      ],
      "metadata": {
        "id": "NItpzYFt3Hzk"
      }
    },
    {
      "cell_type": "code",
      "source": [
        "nulls=df1.columns[df1.isna().any()]\n",
        "df1[nulls].isna().sum()"
      ],
      "metadata": {
        "colab": {
          "base_uri": "https://localhost:8080/"
        },
        "id": "jk1KMLQL2c37",
        "outputId": "2a871aea-2595-4a2a-b048-ceecd6b1b94e"
      },
      "execution_count": 89,
      "outputs": [
        {
          "output_type": "execute_result",
          "data": {
            "text/plain": [
              "finalscore              5\n",
              "finalscorealgebra      18\n",
              "finalscoredat          30\n",
              "finalscoregeo          25\n",
              "finalscorenum           7\n",
              "                     ... \n",
              "BSDGSVM                 1\n",
              "BSBGSEC              5980\n",
              "BSDGSEC              5980\n",
              "BSDG05S                 1\n",
              "BSDGEDUP                1\n",
              "Length: 121, dtype: int64"
            ]
          },
          "metadata": {},
          "execution_count": 89
        }
      ]
    },
    {
      "cell_type": "markdown",
      "source": [
        "all the values in \"BSBGSEC\" and \"*BSDGSEC*\" are null so we drop them"
      ],
      "metadata": {
        "id": "VCFtBTy7D_Ov"
      }
    },
    {
      "cell_type": "code",
      "source": [
        "df1 = df1.drop(columns=[ 'BSBGSEC', 'BSDGSEC'])"
      ],
      "metadata": {
        "id": "cx1MqzR0DzVa"
      },
      "execution_count": 90,
      "outputs": []
    },
    {
      "cell_type": "markdown",
      "source": [
        "remove other null values in remaining rows"
      ],
      "metadata": {
        "id": "y1MudKAYEdFj"
      }
    },
    {
      "cell_type": "code",
      "source": [
        "df1 = df1.dropna()"
      ],
      "metadata": {
        "id": "TdsEB-CcuKhv"
      },
      "execution_count": 91,
      "outputs": []
    },
    {
      "cell_type": "markdown",
      "source": [
        "#### removing redundant students"
      ],
      "metadata": {
        "id": "8KfCAszpYgeE"
      }
    },
    {
      "cell_type": "code",
      "source": [
        "df1 = df1.drop_duplicates(subset=['IDSCHOOL' , 'IDSTUD'], keep='first' , inplace=False,)"
      ],
      "metadata": {
        "id": "W6PausRGXPp9"
      },
      "execution_count": 92,
      "outputs": []
    },
    {
      "cell_type": "markdown",
      "source": [
        "#### make sure that all of the students are iranian"
      ],
      "metadata": {
        "id": "yImAXrJ_e33f"
      }
    },
    {
      "cell_type": "code",
      "source": [
        "df1 = df1.loc[df['IDCNTRY'] == 364]"
      ],
      "metadata": {
        "id": "PCh69MQgYVS8"
      },
      "execution_count": 93,
      "outputs": []
    },
    {
      "cell_type": "markdown",
      "source": [
        "#### removing unused columns\n",
        "*   ID columns are bad for making decision tree duo to the hight entropy\n",
        "*   total score has the same result as (IDBOOK + finalscore)\n",
        "\n",
        "\n",
        "\n",
        "\n"
      ],
      "metadata": {
        "id": "AG7_LnaNlG-s"
      }
    },
    {
      "cell_type": "code",
      "source": [
        "df1 = df1.drop(columns=['IDSTUD', 'IDCNTRY', 'IDSCHOOL', 'IDCLASS', 'IDBOOK', 'totalscore',])"
      ],
      "metadata": {
        "id": "VPfdb3SEeATV"
      },
      "execution_count": 94,
      "outputs": []
    },
    {
      "cell_type": "code",
      "source": [
        "df1.head()"
      ],
      "metadata": {
        "colab": {
          "base_uri": "https://localhost:8080/",
          "height": 299
        },
        "id": "wE1PQDJ7ctMM",
        "outputId": "8bcd8bfa-e9e5-4b25-cc03-ed1857ad4fb6"
      },
      "execution_count": 95,
      "outputs": [
        {
          "output_type": "execute_result",
          "data": {
            "text/plain": [
              "  finalscore finalscorealgebra finalscoredat finalscoregeo finalscorenum  \\\n",
              "0          D                 A             D             E             E   \n",
              "1          D                 D             D             E             D   \n",
              "2          B                 B             D             C             B   \n",
              "3          E                 D             E             E             E   \n",
              "4          D                 D             C             E             D   \n",
              "\n",
              "   BSBG01  BSBG03  BSBG04  BSBG05A  BSBG05B  ...  BTBM23  BTDGEAS  BTDGLSN  \\\n",
              "0     1.0     2.0     3.0      1.0      1.0  ...       5        3        2   \n",
              "1     1.0     1.0     3.0      1.0      1.0  ...       5        3        2   \n",
              "2     1.0     1.0     4.0      1.0      1.0  ...       5        3        2   \n",
              "3     1.0     1.0     2.0      2.0      2.0  ...       4        2        2   \n",
              "4     1.0     1.0     2.0      1.0      1.0  ...       4        2        2   \n",
              "\n",
              "   BTDGSOS  BTDGTJS  BTDMMME  BTDMNUM   BTDMALG   BTDMGEO   BTDMDAT  \n",
              "0        1        1        2    100.0  28.57143  83.33333  83.33333  \n",
              "1        1        1        2    100.0  28.57143  83.33333  83.33333  \n",
              "2        1        1        2    100.0  28.57143  83.33333  83.33333  \n",
              "3        2        2        3    100.0  28.57143  83.33333  16.66667  \n",
              "4        2        2        3    100.0  28.57143  83.33333  16.66667  \n",
              "\n",
              "[5 rows x 330 columns]"
            ],
            "text/html": [
              "\n",
              "  <div id=\"df-9b34fbbf-c599-4184-92af-a3b96a158723\">\n",
              "    <div class=\"colab-df-container\">\n",
              "      <div>\n",
              "<style scoped>\n",
              "    .dataframe tbody tr th:only-of-type {\n",
              "        vertical-align: middle;\n",
              "    }\n",
              "\n",
              "    .dataframe tbody tr th {\n",
              "        vertical-align: top;\n",
              "    }\n",
              "\n",
              "    .dataframe thead th {\n",
              "        text-align: right;\n",
              "    }\n",
              "</style>\n",
              "<table border=\"1\" class=\"dataframe\">\n",
              "  <thead>\n",
              "    <tr style=\"text-align: right;\">\n",
              "      <th></th>\n",
              "      <th>finalscore</th>\n",
              "      <th>finalscorealgebra</th>\n",
              "      <th>finalscoredat</th>\n",
              "      <th>finalscoregeo</th>\n",
              "      <th>finalscorenum</th>\n",
              "      <th>BSBG01</th>\n",
              "      <th>BSBG03</th>\n",
              "      <th>BSBG04</th>\n",
              "      <th>BSBG05A</th>\n",
              "      <th>BSBG05B</th>\n",
              "      <th>...</th>\n",
              "      <th>BTBM23</th>\n",
              "      <th>BTDGEAS</th>\n",
              "      <th>BTDGLSN</th>\n",
              "      <th>BTDGSOS</th>\n",
              "      <th>BTDGTJS</th>\n",
              "      <th>BTDMMME</th>\n",
              "      <th>BTDMNUM</th>\n",
              "      <th>BTDMALG</th>\n",
              "      <th>BTDMGEO</th>\n",
              "      <th>BTDMDAT</th>\n",
              "    </tr>\n",
              "  </thead>\n",
              "  <tbody>\n",
              "    <tr>\n",
              "      <th>0</th>\n",
              "      <td>D</td>\n",
              "      <td>A</td>\n",
              "      <td>D</td>\n",
              "      <td>E</td>\n",
              "      <td>E</td>\n",
              "      <td>1.0</td>\n",
              "      <td>2.0</td>\n",
              "      <td>3.0</td>\n",
              "      <td>1.0</td>\n",
              "      <td>1.0</td>\n",
              "      <td>...</td>\n",
              "      <td>5</td>\n",
              "      <td>3</td>\n",
              "      <td>2</td>\n",
              "      <td>1</td>\n",
              "      <td>1</td>\n",
              "      <td>2</td>\n",
              "      <td>100.0</td>\n",
              "      <td>28.57143</td>\n",
              "      <td>83.33333</td>\n",
              "      <td>83.33333</td>\n",
              "    </tr>\n",
              "    <tr>\n",
              "      <th>1</th>\n",
              "      <td>D</td>\n",
              "      <td>D</td>\n",
              "      <td>D</td>\n",
              "      <td>E</td>\n",
              "      <td>D</td>\n",
              "      <td>1.0</td>\n",
              "      <td>1.0</td>\n",
              "      <td>3.0</td>\n",
              "      <td>1.0</td>\n",
              "      <td>1.0</td>\n",
              "      <td>...</td>\n",
              "      <td>5</td>\n",
              "      <td>3</td>\n",
              "      <td>2</td>\n",
              "      <td>1</td>\n",
              "      <td>1</td>\n",
              "      <td>2</td>\n",
              "      <td>100.0</td>\n",
              "      <td>28.57143</td>\n",
              "      <td>83.33333</td>\n",
              "      <td>83.33333</td>\n",
              "    </tr>\n",
              "    <tr>\n",
              "      <th>2</th>\n",
              "      <td>B</td>\n",
              "      <td>B</td>\n",
              "      <td>D</td>\n",
              "      <td>C</td>\n",
              "      <td>B</td>\n",
              "      <td>1.0</td>\n",
              "      <td>1.0</td>\n",
              "      <td>4.0</td>\n",
              "      <td>1.0</td>\n",
              "      <td>1.0</td>\n",
              "      <td>...</td>\n",
              "      <td>5</td>\n",
              "      <td>3</td>\n",
              "      <td>2</td>\n",
              "      <td>1</td>\n",
              "      <td>1</td>\n",
              "      <td>2</td>\n",
              "      <td>100.0</td>\n",
              "      <td>28.57143</td>\n",
              "      <td>83.33333</td>\n",
              "      <td>83.33333</td>\n",
              "    </tr>\n",
              "    <tr>\n",
              "      <th>3</th>\n",
              "      <td>E</td>\n",
              "      <td>D</td>\n",
              "      <td>E</td>\n",
              "      <td>E</td>\n",
              "      <td>E</td>\n",
              "      <td>1.0</td>\n",
              "      <td>1.0</td>\n",
              "      <td>2.0</td>\n",
              "      <td>2.0</td>\n",
              "      <td>2.0</td>\n",
              "      <td>...</td>\n",
              "      <td>4</td>\n",
              "      <td>2</td>\n",
              "      <td>2</td>\n",
              "      <td>2</td>\n",
              "      <td>2</td>\n",
              "      <td>3</td>\n",
              "      <td>100.0</td>\n",
              "      <td>28.57143</td>\n",
              "      <td>83.33333</td>\n",
              "      <td>16.66667</td>\n",
              "    </tr>\n",
              "    <tr>\n",
              "      <th>4</th>\n",
              "      <td>D</td>\n",
              "      <td>D</td>\n",
              "      <td>C</td>\n",
              "      <td>E</td>\n",
              "      <td>D</td>\n",
              "      <td>1.0</td>\n",
              "      <td>1.0</td>\n",
              "      <td>2.0</td>\n",
              "      <td>1.0</td>\n",
              "      <td>1.0</td>\n",
              "      <td>...</td>\n",
              "      <td>4</td>\n",
              "      <td>2</td>\n",
              "      <td>2</td>\n",
              "      <td>2</td>\n",
              "      <td>2</td>\n",
              "      <td>3</td>\n",
              "      <td>100.0</td>\n",
              "      <td>28.57143</td>\n",
              "      <td>83.33333</td>\n",
              "      <td>16.66667</td>\n",
              "    </tr>\n",
              "  </tbody>\n",
              "</table>\n",
              "<p>5 rows × 330 columns</p>\n",
              "</div>\n",
              "      <button class=\"colab-df-convert\" onclick=\"convertToInteractive('df-9b34fbbf-c599-4184-92af-a3b96a158723')\"\n",
              "              title=\"Convert this dataframe to an interactive table.\"\n",
              "              style=\"display:none;\">\n",
              "        \n",
              "  <svg xmlns=\"http://www.w3.org/2000/svg\" height=\"24px\"viewBox=\"0 0 24 24\"\n",
              "       width=\"24px\">\n",
              "    <path d=\"M0 0h24v24H0V0z\" fill=\"none\"/>\n",
              "    <path d=\"M18.56 5.44l.94 2.06.94-2.06 2.06-.94-2.06-.94-.94-2.06-.94 2.06-2.06.94zm-11 1L8.5 8.5l.94-2.06 2.06-.94-2.06-.94L8.5 2.5l-.94 2.06-2.06.94zm10 10l.94 2.06.94-2.06 2.06-.94-2.06-.94-.94-2.06-.94 2.06-2.06.94z\"/><path d=\"M17.41 7.96l-1.37-1.37c-.4-.4-.92-.59-1.43-.59-.52 0-1.04.2-1.43.59L10.3 9.45l-7.72 7.72c-.78.78-.78 2.05 0 2.83L4 21.41c.39.39.9.59 1.41.59.51 0 1.02-.2 1.41-.59l7.78-7.78 2.81-2.81c.8-.78.8-2.07 0-2.86zM5.41 20L4 18.59l7.72-7.72 1.47 1.35L5.41 20z\"/>\n",
              "  </svg>\n",
              "      </button>\n",
              "      \n",
              "  <style>\n",
              "    .colab-df-container {\n",
              "      display:flex;\n",
              "      flex-wrap:wrap;\n",
              "      gap: 12px;\n",
              "    }\n",
              "\n",
              "    .colab-df-convert {\n",
              "      background-color: #E8F0FE;\n",
              "      border: none;\n",
              "      border-radius: 50%;\n",
              "      cursor: pointer;\n",
              "      display: none;\n",
              "      fill: #1967D2;\n",
              "      height: 32px;\n",
              "      padding: 0 0 0 0;\n",
              "      width: 32px;\n",
              "    }\n",
              "\n",
              "    .colab-df-convert:hover {\n",
              "      background-color: #E2EBFA;\n",
              "      box-shadow: 0px 1px 2px rgba(60, 64, 67, 0.3), 0px 1px 3px 1px rgba(60, 64, 67, 0.15);\n",
              "      fill: #174EA6;\n",
              "    }\n",
              "\n",
              "    [theme=dark] .colab-df-convert {\n",
              "      background-color: #3B4455;\n",
              "      fill: #D2E3FC;\n",
              "    }\n",
              "\n",
              "    [theme=dark] .colab-df-convert:hover {\n",
              "      background-color: #434B5C;\n",
              "      box-shadow: 0px 1px 3px 1px rgba(0, 0, 0, 0.15);\n",
              "      filter: drop-shadow(0px 1px 2px rgba(0, 0, 0, 0.3));\n",
              "      fill: #FFFFFF;\n",
              "    }\n",
              "  </style>\n",
              "\n",
              "      <script>\n",
              "        const buttonEl =\n",
              "          document.querySelector('#df-9b34fbbf-c599-4184-92af-a3b96a158723 button.colab-df-convert');\n",
              "        buttonEl.style.display =\n",
              "          google.colab.kernel.accessAllowed ? 'block' : 'none';\n",
              "\n",
              "        async function convertToInteractive(key) {\n",
              "          const element = document.querySelector('#df-9b34fbbf-c599-4184-92af-a3b96a158723');\n",
              "          const dataTable =\n",
              "            await google.colab.kernel.invokeFunction('convertToInteractive',\n",
              "                                                     [key], {});\n",
              "          if (!dataTable) return;\n",
              "\n",
              "          const docLinkHtml = 'Like what you see? Visit the ' +\n",
              "            '<a target=\"_blank\" href=https://colab.research.google.com/notebooks/data_table.ipynb>data table notebook</a>'\n",
              "            + ' to learn more about interactive tables.';\n",
              "          element.innerHTML = '';\n",
              "          dataTable['output_type'] = 'display_data';\n",
              "          await google.colab.output.renderOutput(dataTable, element);\n",
              "          const docLink = document.createElement('div');\n",
              "          docLink.innerHTML = docLinkHtml;\n",
              "          element.appendChild(docLink);\n",
              "        }\n",
              "      </script>\n",
              "    </div>\n",
              "  </div>\n",
              "  "
            ]
          },
          "metadata": {},
          "execution_count": 95
        }
      ]
    },
    {
      "cell_type": "markdown",
      "source": [
        "#### replace all the a/b/c/d/e values with numbers so we can use them in our *analysis*"
      ],
      "metadata": {
        "id": "_7QgHZFLdG7W"
      }
    },
    {
      "cell_type": "code",
      "source": [
        "df1 = df1.replace(['A', 'B', 'C', 'D', 'E'], [5, 4, 3, 2, 1])"
      ],
      "metadata": {
        "id": "RJuGFD4UltAz"
      },
      "execution_count": 96,
      "outputs": []
    },
    {
      "cell_type": "code",
      "source": [
        "df1"
      ],
      "metadata": {
        "colab": {
          "base_uri": "https://localhost:8080/",
          "height": 487
        },
        "id": "4FbSKGdh0fZX",
        "outputId": "e41dd4ca-eed2-437d-da8d-3965bb76ce68"
      },
      "execution_count": 97,
      "outputs": [
        {
          "output_type": "execute_result",
          "data": {
            "text/plain": [
              "      finalscore  finalscorealgebra  finalscoredat  finalscoregeo  \\\n",
              "0              2                  5              2              1   \n",
              "1              2                  2              2              1   \n",
              "2              4                  4              2              3   \n",
              "3              1                  2              1              1   \n",
              "4              2                  2              3              1   \n",
              "...          ...                ...            ...            ...   \n",
              "5975           2                  2              2              2   \n",
              "5976           2                  1              1              3   \n",
              "5977           1                  1              1              2   \n",
              "5978           2                  1              1              3   \n",
              "5979           1                  1              2              1   \n",
              "\n",
              "      finalscorenum  BSBG01  BSBG03  BSBG04  BSBG05A  BSBG05B  ...  BTBM23  \\\n",
              "0                 1     1.0     2.0     3.0      1.0      1.0  ...       5   \n",
              "1                 2     1.0     1.0     3.0      1.0      1.0  ...       5   \n",
              "2                 4     1.0     1.0     4.0      1.0      1.0  ...       5   \n",
              "3                 1     1.0     1.0     2.0      2.0      2.0  ...       4   \n",
              "4                 2     1.0     1.0     2.0      1.0      1.0  ...       4   \n",
              "...             ...     ...     ...     ...      ...      ...  ...     ...   \n",
              "5975              2     2.0     2.0     2.0      2.0      2.0  ...       2   \n",
              "5976              1     1.0     4.0     1.0      2.0      1.0  ...       5   \n",
              "5977              1     1.0     3.0     2.0      1.0      2.0  ...       5   \n",
              "5978              1     2.0     1.0     5.0      1.0      1.0  ...       4   \n",
              "5979              1     2.0     3.0     5.0      2.0      1.0  ...       4   \n",
              "\n",
              "      BTDGEAS  BTDGLSN  BTDGSOS  BTDGTJS  BTDMMME  BTDMNUM   BTDMALG  \\\n",
              "0           3        2        1        1        2    100.0  28.57143   \n",
              "1           3        2        1        1        2    100.0  28.57143   \n",
              "2           3        2        1        1        2    100.0  28.57143   \n",
              "3           2        2        2        2        3    100.0  28.57143   \n",
              "4           2        2        2        2        3    100.0  28.57143   \n",
              "...       ...      ...      ...      ...      ...      ...       ...   \n",
              "5975        3        3        1        1        2    100.0  28.57143   \n",
              "5976        3        2        2        1        2    100.0  71.42857   \n",
              "5977        3        2        2        1        2    100.0  71.42857   \n",
              "5978        3        3        2        3        2    100.0  14.28571   \n",
              "5979        3        3        2        3        2    100.0  14.28571   \n",
              "\n",
              "        BTDMGEO   BTDMDAT  \n",
              "0      83.33333  83.33333  \n",
              "1      83.33333  83.33333  \n",
              "2      83.33333  83.33333  \n",
              "3      83.33333  16.66667  \n",
              "4      83.33333  16.66667  \n",
              "...         ...       ...  \n",
              "5975  100.00000  83.33333  \n",
              "5976  100.00000  83.33333  \n",
              "5977  100.00000  83.33333  \n",
              "5978   83.33333  66.66667  \n",
              "5979   83.33333  66.66667  \n",
              "\n",
              "[5931 rows x 330 columns]"
            ],
            "text/html": [
              "\n",
              "  <div id=\"df-3ea75fee-4d7c-4c5b-99e6-3ee298600649\">\n",
              "    <div class=\"colab-df-container\">\n",
              "      <div>\n",
              "<style scoped>\n",
              "    .dataframe tbody tr th:only-of-type {\n",
              "        vertical-align: middle;\n",
              "    }\n",
              "\n",
              "    .dataframe tbody tr th {\n",
              "        vertical-align: top;\n",
              "    }\n",
              "\n",
              "    .dataframe thead th {\n",
              "        text-align: right;\n",
              "    }\n",
              "</style>\n",
              "<table border=\"1\" class=\"dataframe\">\n",
              "  <thead>\n",
              "    <tr style=\"text-align: right;\">\n",
              "      <th></th>\n",
              "      <th>finalscore</th>\n",
              "      <th>finalscorealgebra</th>\n",
              "      <th>finalscoredat</th>\n",
              "      <th>finalscoregeo</th>\n",
              "      <th>finalscorenum</th>\n",
              "      <th>BSBG01</th>\n",
              "      <th>BSBG03</th>\n",
              "      <th>BSBG04</th>\n",
              "      <th>BSBG05A</th>\n",
              "      <th>BSBG05B</th>\n",
              "      <th>...</th>\n",
              "      <th>BTBM23</th>\n",
              "      <th>BTDGEAS</th>\n",
              "      <th>BTDGLSN</th>\n",
              "      <th>BTDGSOS</th>\n",
              "      <th>BTDGTJS</th>\n",
              "      <th>BTDMMME</th>\n",
              "      <th>BTDMNUM</th>\n",
              "      <th>BTDMALG</th>\n",
              "      <th>BTDMGEO</th>\n",
              "      <th>BTDMDAT</th>\n",
              "    </tr>\n",
              "  </thead>\n",
              "  <tbody>\n",
              "    <tr>\n",
              "      <th>0</th>\n",
              "      <td>2</td>\n",
              "      <td>5</td>\n",
              "      <td>2</td>\n",
              "      <td>1</td>\n",
              "      <td>1</td>\n",
              "      <td>1.0</td>\n",
              "      <td>2.0</td>\n",
              "      <td>3.0</td>\n",
              "      <td>1.0</td>\n",
              "      <td>1.0</td>\n",
              "      <td>...</td>\n",
              "      <td>5</td>\n",
              "      <td>3</td>\n",
              "      <td>2</td>\n",
              "      <td>1</td>\n",
              "      <td>1</td>\n",
              "      <td>2</td>\n",
              "      <td>100.0</td>\n",
              "      <td>28.57143</td>\n",
              "      <td>83.33333</td>\n",
              "      <td>83.33333</td>\n",
              "    </tr>\n",
              "    <tr>\n",
              "      <th>1</th>\n",
              "      <td>2</td>\n",
              "      <td>2</td>\n",
              "      <td>2</td>\n",
              "      <td>1</td>\n",
              "      <td>2</td>\n",
              "      <td>1.0</td>\n",
              "      <td>1.0</td>\n",
              "      <td>3.0</td>\n",
              "      <td>1.0</td>\n",
              "      <td>1.0</td>\n",
              "      <td>...</td>\n",
              "      <td>5</td>\n",
              "      <td>3</td>\n",
              "      <td>2</td>\n",
              "      <td>1</td>\n",
              "      <td>1</td>\n",
              "      <td>2</td>\n",
              "      <td>100.0</td>\n",
              "      <td>28.57143</td>\n",
              "      <td>83.33333</td>\n",
              "      <td>83.33333</td>\n",
              "    </tr>\n",
              "    <tr>\n",
              "      <th>2</th>\n",
              "      <td>4</td>\n",
              "      <td>4</td>\n",
              "      <td>2</td>\n",
              "      <td>3</td>\n",
              "      <td>4</td>\n",
              "      <td>1.0</td>\n",
              "      <td>1.0</td>\n",
              "      <td>4.0</td>\n",
              "      <td>1.0</td>\n",
              "      <td>1.0</td>\n",
              "      <td>...</td>\n",
              "      <td>5</td>\n",
              "      <td>3</td>\n",
              "      <td>2</td>\n",
              "      <td>1</td>\n",
              "      <td>1</td>\n",
              "      <td>2</td>\n",
              "      <td>100.0</td>\n",
              "      <td>28.57143</td>\n",
              "      <td>83.33333</td>\n",
              "      <td>83.33333</td>\n",
              "    </tr>\n",
              "    <tr>\n",
              "      <th>3</th>\n",
              "      <td>1</td>\n",
              "      <td>2</td>\n",
              "      <td>1</td>\n",
              "      <td>1</td>\n",
              "      <td>1</td>\n",
              "      <td>1.0</td>\n",
              "      <td>1.0</td>\n",
              "      <td>2.0</td>\n",
              "      <td>2.0</td>\n",
              "      <td>2.0</td>\n",
              "      <td>...</td>\n",
              "      <td>4</td>\n",
              "      <td>2</td>\n",
              "      <td>2</td>\n",
              "      <td>2</td>\n",
              "      <td>2</td>\n",
              "      <td>3</td>\n",
              "      <td>100.0</td>\n",
              "      <td>28.57143</td>\n",
              "      <td>83.33333</td>\n",
              "      <td>16.66667</td>\n",
              "    </tr>\n",
              "    <tr>\n",
              "      <th>4</th>\n",
              "      <td>2</td>\n",
              "      <td>2</td>\n",
              "      <td>3</td>\n",
              "      <td>1</td>\n",
              "      <td>2</td>\n",
              "      <td>1.0</td>\n",
              "      <td>1.0</td>\n",
              "      <td>2.0</td>\n",
              "      <td>1.0</td>\n",
              "      <td>1.0</td>\n",
              "      <td>...</td>\n",
              "      <td>4</td>\n",
              "      <td>2</td>\n",
              "      <td>2</td>\n",
              "      <td>2</td>\n",
              "      <td>2</td>\n",
              "      <td>3</td>\n",
              "      <td>100.0</td>\n",
              "      <td>28.57143</td>\n",
              "      <td>83.33333</td>\n",
              "      <td>16.66667</td>\n",
              "    </tr>\n",
              "    <tr>\n",
              "      <th>...</th>\n",
              "      <td>...</td>\n",
              "      <td>...</td>\n",
              "      <td>...</td>\n",
              "      <td>...</td>\n",
              "      <td>...</td>\n",
              "      <td>...</td>\n",
              "      <td>...</td>\n",
              "      <td>...</td>\n",
              "      <td>...</td>\n",
              "      <td>...</td>\n",
              "      <td>...</td>\n",
              "      <td>...</td>\n",
              "      <td>...</td>\n",
              "      <td>...</td>\n",
              "      <td>...</td>\n",
              "      <td>...</td>\n",
              "      <td>...</td>\n",
              "      <td>...</td>\n",
              "      <td>...</td>\n",
              "      <td>...</td>\n",
              "      <td>...</td>\n",
              "    </tr>\n",
              "    <tr>\n",
              "      <th>5975</th>\n",
              "      <td>2</td>\n",
              "      <td>2</td>\n",
              "      <td>2</td>\n",
              "      <td>2</td>\n",
              "      <td>2</td>\n",
              "      <td>2.0</td>\n",
              "      <td>2.0</td>\n",
              "      <td>2.0</td>\n",
              "      <td>2.0</td>\n",
              "      <td>2.0</td>\n",
              "      <td>...</td>\n",
              "      <td>2</td>\n",
              "      <td>3</td>\n",
              "      <td>3</td>\n",
              "      <td>1</td>\n",
              "      <td>1</td>\n",
              "      <td>2</td>\n",
              "      <td>100.0</td>\n",
              "      <td>28.57143</td>\n",
              "      <td>100.00000</td>\n",
              "      <td>83.33333</td>\n",
              "    </tr>\n",
              "    <tr>\n",
              "      <th>5976</th>\n",
              "      <td>2</td>\n",
              "      <td>1</td>\n",
              "      <td>1</td>\n",
              "      <td>3</td>\n",
              "      <td>1</td>\n",
              "      <td>1.0</td>\n",
              "      <td>4.0</td>\n",
              "      <td>1.0</td>\n",
              "      <td>2.0</td>\n",
              "      <td>1.0</td>\n",
              "      <td>...</td>\n",
              "      <td>5</td>\n",
              "      <td>3</td>\n",
              "      <td>2</td>\n",
              "      <td>2</td>\n",
              "      <td>1</td>\n",
              "      <td>2</td>\n",
              "      <td>100.0</td>\n",
              "      <td>71.42857</td>\n",
              "      <td>100.00000</td>\n",
              "      <td>83.33333</td>\n",
              "    </tr>\n",
              "    <tr>\n",
              "      <th>5977</th>\n",
              "      <td>1</td>\n",
              "      <td>1</td>\n",
              "      <td>1</td>\n",
              "      <td>2</td>\n",
              "      <td>1</td>\n",
              "      <td>1.0</td>\n",
              "      <td>3.0</td>\n",
              "      <td>2.0</td>\n",
              "      <td>1.0</td>\n",
              "      <td>2.0</td>\n",
              "      <td>...</td>\n",
              "      <td>5</td>\n",
              "      <td>3</td>\n",
              "      <td>2</td>\n",
              "      <td>2</td>\n",
              "      <td>1</td>\n",
              "      <td>2</td>\n",
              "      <td>100.0</td>\n",
              "      <td>71.42857</td>\n",
              "      <td>100.00000</td>\n",
              "      <td>83.33333</td>\n",
              "    </tr>\n",
              "    <tr>\n",
              "      <th>5978</th>\n",
              "      <td>2</td>\n",
              "      <td>1</td>\n",
              "      <td>1</td>\n",
              "      <td>3</td>\n",
              "      <td>1</td>\n",
              "      <td>2.0</td>\n",
              "      <td>1.0</td>\n",
              "      <td>5.0</td>\n",
              "      <td>1.0</td>\n",
              "      <td>1.0</td>\n",
              "      <td>...</td>\n",
              "      <td>4</td>\n",
              "      <td>3</td>\n",
              "      <td>3</td>\n",
              "      <td>2</td>\n",
              "      <td>3</td>\n",
              "      <td>2</td>\n",
              "      <td>100.0</td>\n",
              "      <td>14.28571</td>\n",
              "      <td>83.33333</td>\n",
              "      <td>66.66667</td>\n",
              "    </tr>\n",
              "    <tr>\n",
              "      <th>5979</th>\n",
              "      <td>1</td>\n",
              "      <td>1</td>\n",
              "      <td>2</td>\n",
              "      <td>1</td>\n",
              "      <td>1</td>\n",
              "      <td>2.0</td>\n",
              "      <td>3.0</td>\n",
              "      <td>5.0</td>\n",
              "      <td>2.0</td>\n",
              "      <td>1.0</td>\n",
              "      <td>...</td>\n",
              "      <td>4</td>\n",
              "      <td>3</td>\n",
              "      <td>3</td>\n",
              "      <td>2</td>\n",
              "      <td>3</td>\n",
              "      <td>2</td>\n",
              "      <td>100.0</td>\n",
              "      <td>14.28571</td>\n",
              "      <td>83.33333</td>\n",
              "      <td>66.66667</td>\n",
              "    </tr>\n",
              "  </tbody>\n",
              "</table>\n",
              "<p>5931 rows × 330 columns</p>\n",
              "</div>\n",
              "      <button class=\"colab-df-convert\" onclick=\"convertToInteractive('df-3ea75fee-4d7c-4c5b-99e6-3ee298600649')\"\n",
              "              title=\"Convert this dataframe to an interactive table.\"\n",
              "              style=\"display:none;\">\n",
              "        \n",
              "  <svg xmlns=\"http://www.w3.org/2000/svg\" height=\"24px\"viewBox=\"0 0 24 24\"\n",
              "       width=\"24px\">\n",
              "    <path d=\"M0 0h24v24H0V0z\" fill=\"none\"/>\n",
              "    <path d=\"M18.56 5.44l.94 2.06.94-2.06 2.06-.94-2.06-.94-.94-2.06-.94 2.06-2.06.94zm-11 1L8.5 8.5l.94-2.06 2.06-.94-2.06-.94L8.5 2.5l-.94 2.06-2.06.94zm10 10l.94 2.06.94-2.06 2.06-.94-2.06-.94-.94-2.06-.94 2.06-2.06.94z\"/><path d=\"M17.41 7.96l-1.37-1.37c-.4-.4-.92-.59-1.43-.59-.52 0-1.04.2-1.43.59L10.3 9.45l-7.72 7.72c-.78.78-.78 2.05 0 2.83L4 21.41c.39.39.9.59 1.41.59.51 0 1.02-.2 1.41-.59l7.78-7.78 2.81-2.81c.8-.78.8-2.07 0-2.86zM5.41 20L4 18.59l7.72-7.72 1.47 1.35L5.41 20z\"/>\n",
              "  </svg>\n",
              "      </button>\n",
              "      \n",
              "  <style>\n",
              "    .colab-df-container {\n",
              "      display:flex;\n",
              "      flex-wrap:wrap;\n",
              "      gap: 12px;\n",
              "    }\n",
              "\n",
              "    .colab-df-convert {\n",
              "      background-color: #E8F0FE;\n",
              "      border: none;\n",
              "      border-radius: 50%;\n",
              "      cursor: pointer;\n",
              "      display: none;\n",
              "      fill: #1967D2;\n",
              "      height: 32px;\n",
              "      padding: 0 0 0 0;\n",
              "      width: 32px;\n",
              "    }\n",
              "\n",
              "    .colab-df-convert:hover {\n",
              "      background-color: #E2EBFA;\n",
              "      box-shadow: 0px 1px 2px rgba(60, 64, 67, 0.3), 0px 1px 3px 1px rgba(60, 64, 67, 0.15);\n",
              "      fill: #174EA6;\n",
              "    }\n",
              "\n",
              "    [theme=dark] .colab-df-convert {\n",
              "      background-color: #3B4455;\n",
              "      fill: #D2E3FC;\n",
              "    }\n",
              "\n",
              "    [theme=dark] .colab-df-convert:hover {\n",
              "      background-color: #434B5C;\n",
              "      box-shadow: 0px 1px 3px 1px rgba(0, 0, 0, 0.15);\n",
              "      filter: drop-shadow(0px 1px 2px rgba(0, 0, 0, 0.3));\n",
              "      fill: #FFFFFF;\n",
              "    }\n",
              "  </style>\n",
              "\n",
              "      <script>\n",
              "        const buttonEl =\n",
              "          document.querySelector('#df-3ea75fee-4d7c-4c5b-99e6-3ee298600649 button.colab-df-convert');\n",
              "        buttonEl.style.display =\n",
              "          google.colab.kernel.accessAllowed ? 'block' : 'none';\n",
              "\n",
              "        async function convertToInteractive(key) {\n",
              "          const element = document.querySelector('#df-3ea75fee-4d7c-4c5b-99e6-3ee298600649');\n",
              "          const dataTable =\n",
              "            await google.colab.kernel.invokeFunction('convertToInteractive',\n",
              "                                                     [key], {});\n",
              "          if (!dataTable) return;\n",
              "\n",
              "          const docLinkHtml = 'Like what you see? Visit the ' +\n",
              "            '<a target=\"_blank\" href=https://colab.research.google.com/notebooks/data_table.ipynb>data table notebook</a>'\n",
              "            + ' to learn more about interactive tables.';\n",
              "          element.innerHTML = '';\n",
              "          dataTable['output_type'] = 'display_data';\n",
              "          await google.colab.output.renderOutput(dataTable, element);\n",
              "          const docLink = document.createElement('div');\n",
              "          docLink.innerHTML = docLinkHtml;\n",
              "          element.appendChild(docLink);\n",
              "        }\n",
              "      </script>\n",
              "    </div>\n",
              "  </div>\n",
              "  "
            ]
          },
          "metadata": {},
          "execution_count": 97
        }
      ]
    },
    {
      "cell_type": "markdown",
      "source": [
        "removing correlated features such as BSBG01 and ITSEX, both of them show the same things\n",
        "\n",
        "using corr() function to Compute pairwise correlation of columns, excluding NA/null values.\n",
        "\n",
        "and the method is spearman : Spearman rank correlation"
      ],
      "metadata": {
        "id": "N7D6F5OGsTBz"
      }
    },
    {
      "cell_type": "code",
      "source": [
        "correlation = df1.corr(method=\"spearman\" )\n",
        "corrlist = []\n",
        "\n",
        "#all the columns except finalscores columns that have coefficient upto 0.5\n",
        "for i in correlation.columns:\n",
        "  if i not in (['finalscore', 'finalscorealgebra', 'finalscoredat',\t'finalscoregeo', 'finalscorenum'] + corrlist):\n",
        "    temp = correlation[i]\n",
        "    temp = temp[abs(temp) >= 0.5]\n",
        "    temp = temp[temp.index != i]\n",
        "\n",
        "    for column in list(temp.index):\n",
        "      if column not in corrlist:\n",
        "        corrlist.append(column)\n",
        "df2 = df1.copy()\n",
        "#remove all the correlated columns and just keeps on of them\n",
        "df1 = df1.drop(columns = corrlist)"
      ],
      "metadata": {
        "id": "CYjLI5eGl47j"
      },
      "execution_count": 98,
      "outputs": []
    },
    {
      "cell_type": "markdown",
      "source": [
        "as you can see only remains 206 columns out of 338"
      ],
      "metadata": {
        "id": "7Ixy6qd7sUMN"
      }
    },
    {
      "cell_type": "code",
      "source": [
        "df1"
      ],
      "metadata": {
        "colab": {
          "base_uri": "https://localhost:8080/",
          "height": 487
        },
        "id": "dW11gELompXX",
        "outputId": "8b26cdb9-4e7d-4e15-8a3e-c996aaee0e6e"
      },
      "execution_count": 99,
      "outputs": [
        {
          "output_type": "execute_result",
          "data": {
            "text/plain": [
              "      finalscore  finalscorealgebra  finalscoredat  finalscoregeo  \\\n",
              "0              2                  5              2              1   \n",
              "1              2                  2              2              1   \n",
              "2              4                  4              2              3   \n",
              "3              1                  2              1              1   \n",
              "4              2                  2              3              1   \n",
              "...          ...                ...            ...            ...   \n",
              "5975           2                  2              2              2   \n",
              "5976           2                  1              1              3   \n",
              "5977           1                  1              1              2   \n",
              "5978           2                  1              1              3   \n",
              "5979           1                  1              2              1   \n",
              "\n",
              "      finalscorenum  BSBG01  BSBG03  BSBG04  BSBG05A  BSBG05B  ...  BTBM22BA  \\\n",
              "0                 1     1.0     2.0     3.0      1.0      1.0  ...         1   \n",
              "1                 2     1.0     1.0     3.0      1.0      1.0  ...         1   \n",
              "2                 4     1.0     1.0     4.0      1.0      1.0  ...         1   \n",
              "3                 1     1.0     1.0     2.0      2.0      2.0  ...         2   \n",
              "4                 2     1.0     1.0     2.0      1.0      1.0  ...         2   \n",
              "...             ...     ...     ...     ...      ...      ...  ...       ...   \n",
              "5975              2     2.0     2.0     2.0      2.0      2.0  ...         1   \n",
              "5976              1     1.0     4.0     1.0      2.0      1.0  ...         2   \n",
              "5977              1     1.0     3.0     2.0      1.0      2.0  ...         2   \n",
              "5978              1     2.0     1.0     5.0      1.0      1.0  ...         2   \n",
              "5979              1     2.0     3.0     5.0      2.0      1.0  ...         2   \n",
              "\n",
              "      BTBM22AC  BTBM22AD  BTBM22BD  BTBM22AE  BTBM22AF  BTBM22AG  BTBM22BG  \\\n",
              "0            2         2         1         1         1         2         9   \n",
              "1            2         2         1         1         1         2         9   \n",
              "2            2         2         1         1         1         2         9   \n",
              "3            2         2         1         2         2         2         2   \n",
              "4            2         2         1         2         2         2         2   \n",
              "...        ...       ...       ...       ...       ...       ...       ...   \n",
              "5975         2         1         1         2         2         2         1   \n",
              "5976         1         1         1         1         1         1         1   \n",
              "5977         1         1         1         1         1         1         1   \n",
              "5978         2         2         1         1         1         1         2   \n",
              "5979         2         2         1         1         1         1         2   \n",
              "\n",
              "      BTBM23  BTDMNUM  \n",
              "0          5    100.0  \n",
              "1          5    100.0  \n",
              "2          5    100.0  \n",
              "3          4    100.0  \n",
              "4          4    100.0  \n",
              "...      ...      ...  \n",
              "5975       2    100.0  \n",
              "5976       5    100.0  \n",
              "5977       5    100.0  \n",
              "5978       4    100.0  \n",
              "5979       4    100.0  \n",
              "\n",
              "[5931 rows x 206 columns]"
            ],
            "text/html": [
              "\n",
              "  <div id=\"df-d8aba957-f032-4d02-8cd8-877be3e279db\">\n",
              "    <div class=\"colab-df-container\">\n",
              "      <div>\n",
              "<style scoped>\n",
              "    .dataframe tbody tr th:only-of-type {\n",
              "        vertical-align: middle;\n",
              "    }\n",
              "\n",
              "    .dataframe tbody tr th {\n",
              "        vertical-align: top;\n",
              "    }\n",
              "\n",
              "    .dataframe thead th {\n",
              "        text-align: right;\n",
              "    }\n",
              "</style>\n",
              "<table border=\"1\" class=\"dataframe\">\n",
              "  <thead>\n",
              "    <tr style=\"text-align: right;\">\n",
              "      <th></th>\n",
              "      <th>finalscore</th>\n",
              "      <th>finalscorealgebra</th>\n",
              "      <th>finalscoredat</th>\n",
              "      <th>finalscoregeo</th>\n",
              "      <th>finalscorenum</th>\n",
              "      <th>BSBG01</th>\n",
              "      <th>BSBG03</th>\n",
              "      <th>BSBG04</th>\n",
              "      <th>BSBG05A</th>\n",
              "      <th>BSBG05B</th>\n",
              "      <th>...</th>\n",
              "      <th>BTBM22BA</th>\n",
              "      <th>BTBM22AC</th>\n",
              "      <th>BTBM22AD</th>\n",
              "      <th>BTBM22BD</th>\n",
              "      <th>BTBM22AE</th>\n",
              "      <th>BTBM22AF</th>\n",
              "      <th>BTBM22AG</th>\n",
              "      <th>BTBM22BG</th>\n",
              "      <th>BTBM23</th>\n",
              "      <th>BTDMNUM</th>\n",
              "    </tr>\n",
              "  </thead>\n",
              "  <tbody>\n",
              "    <tr>\n",
              "      <th>0</th>\n",
              "      <td>2</td>\n",
              "      <td>5</td>\n",
              "      <td>2</td>\n",
              "      <td>1</td>\n",
              "      <td>1</td>\n",
              "      <td>1.0</td>\n",
              "      <td>2.0</td>\n",
              "      <td>3.0</td>\n",
              "      <td>1.0</td>\n",
              "      <td>1.0</td>\n",
              "      <td>...</td>\n",
              "      <td>1</td>\n",
              "      <td>2</td>\n",
              "      <td>2</td>\n",
              "      <td>1</td>\n",
              "      <td>1</td>\n",
              "      <td>1</td>\n",
              "      <td>2</td>\n",
              "      <td>9</td>\n",
              "      <td>5</td>\n",
              "      <td>100.0</td>\n",
              "    </tr>\n",
              "    <tr>\n",
              "      <th>1</th>\n",
              "      <td>2</td>\n",
              "      <td>2</td>\n",
              "      <td>2</td>\n",
              "      <td>1</td>\n",
              "      <td>2</td>\n",
              "      <td>1.0</td>\n",
              "      <td>1.0</td>\n",
              "      <td>3.0</td>\n",
              "      <td>1.0</td>\n",
              "      <td>1.0</td>\n",
              "      <td>...</td>\n",
              "      <td>1</td>\n",
              "      <td>2</td>\n",
              "      <td>2</td>\n",
              "      <td>1</td>\n",
              "      <td>1</td>\n",
              "      <td>1</td>\n",
              "      <td>2</td>\n",
              "      <td>9</td>\n",
              "      <td>5</td>\n",
              "      <td>100.0</td>\n",
              "    </tr>\n",
              "    <tr>\n",
              "      <th>2</th>\n",
              "      <td>4</td>\n",
              "      <td>4</td>\n",
              "      <td>2</td>\n",
              "      <td>3</td>\n",
              "      <td>4</td>\n",
              "      <td>1.0</td>\n",
              "      <td>1.0</td>\n",
              "      <td>4.0</td>\n",
              "      <td>1.0</td>\n",
              "      <td>1.0</td>\n",
              "      <td>...</td>\n",
              "      <td>1</td>\n",
              "      <td>2</td>\n",
              "      <td>2</td>\n",
              "      <td>1</td>\n",
              "      <td>1</td>\n",
              "      <td>1</td>\n",
              "      <td>2</td>\n",
              "      <td>9</td>\n",
              "      <td>5</td>\n",
              "      <td>100.0</td>\n",
              "    </tr>\n",
              "    <tr>\n",
              "      <th>3</th>\n",
              "      <td>1</td>\n",
              "      <td>2</td>\n",
              "      <td>1</td>\n",
              "      <td>1</td>\n",
              "      <td>1</td>\n",
              "      <td>1.0</td>\n",
              "      <td>1.0</td>\n",
              "      <td>2.0</td>\n",
              "      <td>2.0</td>\n",
              "      <td>2.0</td>\n",
              "      <td>...</td>\n",
              "      <td>2</td>\n",
              "      <td>2</td>\n",
              "      <td>2</td>\n",
              "      <td>1</td>\n",
              "      <td>2</td>\n",
              "      <td>2</td>\n",
              "      <td>2</td>\n",
              "      <td>2</td>\n",
              "      <td>4</td>\n",
              "      <td>100.0</td>\n",
              "    </tr>\n",
              "    <tr>\n",
              "      <th>4</th>\n",
              "      <td>2</td>\n",
              "      <td>2</td>\n",
              "      <td>3</td>\n",
              "      <td>1</td>\n",
              "      <td>2</td>\n",
              "      <td>1.0</td>\n",
              "      <td>1.0</td>\n",
              "      <td>2.0</td>\n",
              "      <td>1.0</td>\n",
              "      <td>1.0</td>\n",
              "      <td>...</td>\n",
              "      <td>2</td>\n",
              "      <td>2</td>\n",
              "      <td>2</td>\n",
              "      <td>1</td>\n",
              "      <td>2</td>\n",
              "      <td>2</td>\n",
              "      <td>2</td>\n",
              "      <td>2</td>\n",
              "      <td>4</td>\n",
              "      <td>100.0</td>\n",
              "    </tr>\n",
              "    <tr>\n",
              "      <th>...</th>\n",
              "      <td>...</td>\n",
              "      <td>...</td>\n",
              "      <td>...</td>\n",
              "      <td>...</td>\n",
              "      <td>...</td>\n",
              "      <td>...</td>\n",
              "      <td>...</td>\n",
              "      <td>...</td>\n",
              "      <td>...</td>\n",
              "      <td>...</td>\n",
              "      <td>...</td>\n",
              "      <td>...</td>\n",
              "      <td>...</td>\n",
              "      <td>...</td>\n",
              "      <td>...</td>\n",
              "      <td>...</td>\n",
              "      <td>...</td>\n",
              "      <td>...</td>\n",
              "      <td>...</td>\n",
              "      <td>...</td>\n",
              "      <td>...</td>\n",
              "    </tr>\n",
              "    <tr>\n",
              "      <th>5975</th>\n",
              "      <td>2</td>\n",
              "      <td>2</td>\n",
              "      <td>2</td>\n",
              "      <td>2</td>\n",
              "      <td>2</td>\n",
              "      <td>2.0</td>\n",
              "      <td>2.0</td>\n",
              "      <td>2.0</td>\n",
              "      <td>2.0</td>\n",
              "      <td>2.0</td>\n",
              "      <td>...</td>\n",
              "      <td>1</td>\n",
              "      <td>2</td>\n",
              "      <td>1</td>\n",
              "      <td>1</td>\n",
              "      <td>2</td>\n",
              "      <td>2</td>\n",
              "      <td>2</td>\n",
              "      <td>1</td>\n",
              "      <td>2</td>\n",
              "      <td>100.0</td>\n",
              "    </tr>\n",
              "    <tr>\n",
              "      <th>5976</th>\n",
              "      <td>2</td>\n",
              "      <td>1</td>\n",
              "      <td>1</td>\n",
              "      <td>3</td>\n",
              "      <td>1</td>\n",
              "      <td>1.0</td>\n",
              "      <td>4.0</td>\n",
              "      <td>1.0</td>\n",
              "      <td>2.0</td>\n",
              "      <td>1.0</td>\n",
              "      <td>...</td>\n",
              "      <td>2</td>\n",
              "      <td>1</td>\n",
              "      <td>1</td>\n",
              "      <td>1</td>\n",
              "      <td>1</td>\n",
              "      <td>1</td>\n",
              "      <td>1</td>\n",
              "      <td>1</td>\n",
              "      <td>5</td>\n",
              "      <td>100.0</td>\n",
              "    </tr>\n",
              "    <tr>\n",
              "      <th>5977</th>\n",
              "      <td>1</td>\n",
              "      <td>1</td>\n",
              "      <td>1</td>\n",
              "      <td>2</td>\n",
              "      <td>1</td>\n",
              "      <td>1.0</td>\n",
              "      <td>3.0</td>\n",
              "      <td>2.0</td>\n",
              "      <td>1.0</td>\n",
              "      <td>2.0</td>\n",
              "      <td>...</td>\n",
              "      <td>2</td>\n",
              "      <td>1</td>\n",
              "      <td>1</td>\n",
              "      <td>1</td>\n",
              "      <td>1</td>\n",
              "      <td>1</td>\n",
              "      <td>1</td>\n",
              "      <td>1</td>\n",
              "      <td>5</td>\n",
              "      <td>100.0</td>\n",
              "    </tr>\n",
              "    <tr>\n",
              "      <th>5978</th>\n",
              "      <td>2</td>\n",
              "      <td>1</td>\n",
              "      <td>1</td>\n",
              "      <td>3</td>\n",
              "      <td>1</td>\n",
              "      <td>2.0</td>\n",
              "      <td>1.0</td>\n",
              "      <td>5.0</td>\n",
              "      <td>1.0</td>\n",
              "      <td>1.0</td>\n",
              "      <td>...</td>\n",
              "      <td>2</td>\n",
              "      <td>2</td>\n",
              "      <td>2</td>\n",
              "      <td>1</td>\n",
              "      <td>1</td>\n",
              "      <td>1</td>\n",
              "      <td>1</td>\n",
              "      <td>2</td>\n",
              "      <td>4</td>\n",
              "      <td>100.0</td>\n",
              "    </tr>\n",
              "    <tr>\n",
              "      <th>5979</th>\n",
              "      <td>1</td>\n",
              "      <td>1</td>\n",
              "      <td>2</td>\n",
              "      <td>1</td>\n",
              "      <td>1</td>\n",
              "      <td>2.0</td>\n",
              "      <td>3.0</td>\n",
              "      <td>5.0</td>\n",
              "      <td>2.0</td>\n",
              "      <td>1.0</td>\n",
              "      <td>...</td>\n",
              "      <td>2</td>\n",
              "      <td>2</td>\n",
              "      <td>2</td>\n",
              "      <td>1</td>\n",
              "      <td>1</td>\n",
              "      <td>1</td>\n",
              "      <td>1</td>\n",
              "      <td>2</td>\n",
              "      <td>4</td>\n",
              "      <td>100.0</td>\n",
              "    </tr>\n",
              "  </tbody>\n",
              "</table>\n",
              "<p>5931 rows × 206 columns</p>\n",
              "</div>\n",
              "      <button class=\"colab-df-convert\" onclick=\"convertToInteractive('df-d8aba957-f032-4d02-8cd8-877be3e279db')\"\n",
              "              title=\"Convert this dataframe to an interactive table.\"\n",
              "              style=\"display:none;\">\n",
              "        \n",
              "  <svg xmlns=\"http://www.w3.org/2000/svg\" height=\"24px\"viewBox=\"0 0 24 24\"\n",
              "       width=\"24px\">\n",
              "    <path d=\"M0 0h24v24H0V0z\" fill=\"none\"/>\n",
              "    <path d=\"M18.56 5.44l.94 2.06.94-2.06 2.06-.94-2.06-.94-.94-2.06-.94 2.06-2.06.94zm-11 1L8.5 8.5l.94-2.06 2.06-.94-2.06-.94L8.5 2.5l-.94 2.06-2.06.94zm10 10l.94 2.06.94-2.06 2.06-.94-2.06-.94-.94-2.06-.94 2.06-2.06.94z\"/><path d=\"M17.41 7.96l-1.37-1.37c-.4-.4-.92-.59-1.43-.59-.52 0-1.04.2-1.43.59L10.3 9.45l-7.72 7.72c-.78.78-.78 2.05 0 2.83L4 21.41c.39.39.9.59 1.41.59.51 0 1.02-.2 1.41-.59l7.78-7.78 2.81-2.81c.8-.78.8-2.07 0-2.86zM5.41 20L4 18.59l7.72-7.72 1.47 1.35L5.41 20z\"/>\n",
              "  </svg>\n",
              "      </button>\n",
              "      \n",
              "  <style>\n",
              "    .colab-df-container {\n",
              "      display:flex;\n",
              "      flex-wrap:wrap;\n",
              "      gap: 12px;\n",
              "    }\n",
              "\n",
              "    .colab-df-convert {\n",
              "      background-color: #E8F0FE;\n",
              "      border: none;\n",
              "      border-radius: 50%;\n",
              "      cursor: pointer;\n",
              "      display: none;\n",
              "      fill: #1967D2;\n",
              "      height: 32px;\n",
              "      padding: 0 0 0 0;\n",
              "      width: 32px;\n",
              "    }\n",
              "\n",
              "    .colab-df-convert:hover {\n",
              "      background-color: #E2EBFA;\n",
              "      box-shadow: 0px 1px 2px rgba(60, 64, 67, 0.3), 0px 1px 3px 1px rgba(60, 64, 67, 0.15);\n",
              "      fill: #174EA6;\n",
              "    }\n",
              "\n",
              "    [theme=dark] .colab-df-convert {\n",
              "      background-color: #3B4455;\n",
              "      fill: #D2E3FC;\n",
              "    }\n",
              "\n",
              "    [theme=dark] .colab-df-convert:hover {\n",
              "      background-color: #434B5C;\n",
              "      box-shadow: 0px 1px 3px 1px rgba(0, 0, 0, 0.15);\n",
              "      filter: drop-shadow(0px 1px 2px rgba(0, 0, 0, 0.3));\n",
              "      fill: #FFFFFF;\n",
              "    }\n",
              "  </style>\n",
              "\n",
              "      <script>\n",
              "        const buttonEl =\n",
              "          document.querySelector('#df-d8aba957-f032-4d02-8cd8-877be3e279db button.colab-df-convert');\n",
              "        buttonEl.style.display =\n",
              "          google.colab.kernel.accessAllowed ? 'block' : 'none';\n",
              "\n",
              "        async function convertToInteractive(key) {\n",
              "          const element = document.querySelector('#df-d8aba957-f032-4d02-8cd8-877be3e279db');\n",
              "          const dataTable =\n",
              "            await google.colab.kernel.invokeFunction('convertToInteractive',\n",
              "                                                     [key], {});\n",
              "          if (!dataTable) return;\n",
              "\n",
              "          const docLinkHtml = 'Like what you see? Visit the ' +\n",
              "            '<a target=\"_blank\" href=https://colab.research.google.com/notebooks/data_table.ipynb>data table notebook</a>'\n",
              "            + ' to learn more about interactive tables.';\n",
              "          element.innerHTML = '';\n",
              "          dataTable['output_type'] = 'display_data';\n",
              "          await google.colab.output.renderOutput(dataTable, element);\n",
              "          const docLink = document.createElement('div');\n",
              "          docLink.innerHTML = docLinkHtml;\n",
              "          element.appendChild(docLink);\n",
              "        }\n",
              "      </script>\n",
              "    </div>\n",
              "  </div>\n",
              "  "
            ]
          },
          "metadata": {},
          "execution_count": 99
        }
      ]
    },
    {
      "cell_type": "markdown",
      "source": [
        "#### invalid and omitted values"
      ],
      "metadata": {
        "id": "xftc-l9a1zSr"
      }
    },
    {
      "cell_type": "markdown",
      "source": [
        "in our dataframe we have some invalid or omitted values that fill with 9 or 99 ... or 999999\n",
        "\n",
        "first the wall let's check how many omitted values are in each columns"
      ],
      "metadata": {
        "id": "EKM1wwHo54Sd"
      }
    },
    {
      "cell_type": "code",
      "source": [
        "# make an invalid list of items contain the name of the columns and append total omitted values \n",
        "invalidlist = []\n",
        "\n",
        "for i in df1.columns:\n",
        "   invalidlist.append((i, len(df1[df1[i]==9])))\n",
        "\n",
        "# sort invalidlist to have a better view\n",
        "invalidlist.sort(key = lambda x: x[1]) \n",
        "invalidlist"
      ],
      "metadata": {
        "colab": {
          "base_uri": "https://localhost:8080/"
        },
        "id": "yds29HngwQe_",
        "outputId": "cb675e93-62b6-4d8d-e38a-6d72869c38b6"
      },
      "execution_count": 100,
      "outputs": [
        {
          "output_type": "execute_result",
          "data": {
            "text/plain": [
              "[('finalscore', 0),\n",
              " ('finalscorealgebra', 0),\n",
              " ('finalscoredat', 0),\n",
              " ('finalscoregeo', 0),\n",
              " ('finalscorenum', 0),\n",
              " ('BSBG01', 0),\n",
              " ('BSDAGE', 0),\n",
              " ('BCBG04', 0),\n",
              " ('BCBG05A', 0),\n",
              " ('BCBG06A', 0),\n",
              " ('BCBG06B', 0),\n",
              " ('BCBG06C', 0),\n",
              " ('BCBG09', 0),\n",
              " ('BCBG10A', 0),\n",
              " ('BCBG12', 0),\n",
              " ('BCBG13AA', 0),\n",
              " ('BCBG13AG', 0),\n",
              " ('BCBG13BC', 0),\n",
              " ('BCBG14A', 0),\n",
              " ('BCBG14C', 0),\n",
              " ('BCBG14G', 0),\n",
              " ('BCBG14I', 0),\n",
              " ('BCBG14K', 0),\n",
              " ('BCBG15A', 0),\n",
              " ('BCBG15C', 0),\n",
              " ('BCBG15D', 0),\n",
              " ('BCBG15G', 0),\n",
              " ('BCBG15H', 0),\n",
              " ('BCBG16C', 0),\n",
              " ('BCBG17A', 0),\n",
              " ('BCBG20', 0),\n",
              " ('BCDGMRS', 0),\n",
              " ('BTBG04', 0),\n",
              " ('BTBG05F', 0),\n",
              " ('BTBG05G', 0),\n",
              " ('BTBG05H', 0),\n",
              " ('BTBG07A', 0),\n",
              " ('BTBG07D', 0),\n",
              " ('BTBG07H', 0),\n",
              " ('BTBG08A', 0),\n",
              " ('BTBG09F', 0),\n",
              " ('BTBG09G', 0),\n",
              " ('BTBG09H', 0),\n",
              " ('BTBG11', 0),\n",
              " ('BTBG13A', 0),\n",
              " ('BTBG13B', 0),\n",
              " ('BTBG13C', 0),\n",
              " ('BTBG13D', 0),\n",
              " ('BTBG13H', 0),\n",
              " ('BTBM14', 0),\n",
              " ('BTBM15A', 0),\n",
              " ('BTBM15C', 0),\n",
              " ('BTBM15D', 0),\n",
              " ('BTBM15F', 0),\n",
              " ('BTBM16', 0),\n",
              " ('BTBM17A', 0),\n",
              " ('BTBM19CA', 0),\n",
              " ('BTBM19CB', 0),\n",
              " ('BTBM21', 0),\n",
              " ('BTBM23', 0),\n",
              " ('BTDMNUM', 0),\n",
              " ('BSBG03', 6),\n",
              " ('BSBG04', 10),\n",
              " ('BTBG09A', 18),\n",
              " ('BTBG13E', 18),\n",
              " ('BTBM15G', 18),\n",
              " ('BTBG12A', 19),\n",
              " ('BTBG12C', 19),\n",
              " ('BTBG12D', 19),\n",
              " ('BSBG13A', 20),\n",
              " ('BSBM15', 20),\n",
              " ('BSBM18F', 20),\n",
              " ('BSBM16A', 22),\n",
              " ('BTBG05A', 22),\n",
              " ('BSBG12A', 23),\n",
              " ('BTBM19B', 24),\n",
              " ('BTBG09D', 26),\n",
              " ('BTBG13G', 26),\n",
              " ('BSBG08A', 27),\n",
              " ('BTBG09E', 27),\n",
              " ('BTBM19A', 27),\n",
              " ('BCBG15B', 28),\n",
              " ('BTBG06A', 28),\n",
              " ('BSBG10', 29),\n",
              " ('BSBM17A', 29),\n",
              " ('BSBM20A', 29),\n",
              " ('BTBG06C', 29),\n",
              " ('BTBG06E', 29),\n",
              " ('BTBG06K', 29),\n",
              " ('BTBM19CD', 29),\n",
              " ('BCBG14E', 30),\n",
              " ('BTBM22AD', 30),\n",
              " ('BTBM22AG', 30),\n",
              " ('BTBM18AB', 31),\n",
              " ('BSBG05A', 32),\n",
              " ('BSBM18A', 32),\n",
              " ('BCBG16H', 32),\n",
              " ('BCBG16J', 32),\n",
              " ('BTBM18AC', 32),\n",
              " ('BTBM18BA', 32),\n",
              " ('BTBM18BG', 32),\n",
              " ('BTBM18CB', 32),\n",
              " ('BTBM18CC', 32),\n",
              " ('BTBM18CD', 32),\n",
              " ('BTBM18DC', 32),\n",
              " ('BTBM18DF', 32),\n",
              " ('BTBM19CE', 32),\n",
              " ('BSBG05I', 33),\n",
              " ('BSBG07', 35),\n",
              " ('BCBG11', 35),\n",
              " ('BSBG14N', 36),\n",
              " ('BSDGEDUP', 36),\n",
              " ('BSBG05H', 37),\n",
              " ('BTBM15B', 37),\n",
              " ('BSBG05G', 38),\n",
              " ('BSBG12F', 38),\n",
              " ('BSBG14A', 39),\n",
              " ('BSBG14G', 39),\n",
              " ('BCBG16G', 39),\n",
              " ('BSBG05C', 40),\n",
              " ('BSBG13B', 40),\n",
              " ('BSBM20H', 40),\n",
              " ('BCBG16A', 40),\n",
              " ('BSBG05B', 41),\n",
              " ('BSBG09A', 41),\n",
              " ('BSBG13E', 42),\n",
              " ('BSBG11A', 43),\n",
              " ('BSBG12E', 43),\n",
              " ('BTBG09B', 46),\n",
              " ('BTBG12F', 46),\n",
              " ('BSBG12B', 47),\n",
              " ('BTBM15H', 47),\n",
              " ('BSBG14I', 48),\n",
              " ('BSBG14H', 49),\n",
              " ('BSBM17B', 49),\n",
              " ('BCBG13BD', 49),\n",
              " ('BSBM17E', 52),\n",
              " ('BTBG12E', 53),\n",
              " ('BSBG06A', 54),\n",
              " ('BTBG05I', 54),\n",
              " ('BSBG12C', 55),\n",
              " ('BTBM18BE', 55),\n",
              " ('BSBG12D', 56),\n",
              " ('BTBM19CC', 56),\n",
              " ('BTBM18BF', 57),\n",
              " ('BSBG09B', 58),\n",
              " ('BSBG14M', 58),\n",
              " ('BTBG13F', 59),\n",
              " ('BSBG05F', 60),\n",
              " ('BCBG21A', 60),\n",
              " ('BSBG14B', 61),\n",
              " ('BSBM18C', 61),\n",
              " ('BTBM18AA', 61),\n",
              " ('BCBG03A', 62),\n",
              " ('BCBG07', 63),\n",
              " ('BTBM18CA', 63),\n",
              " ('BTBM18DE', 63),\n",
              " ('BSBG05D', 64),\n",
              " ('BTBM18BC', 65),\n",
              " ('BSBM19B', 66),\n",
              " ('BTBG09C', 66),\n",
              " ('BSBM19H', 68),\n",
              " ('BSBM20C', 68),\n",
              " ('BSBG14F', 69),\n",
              " ('BCBG13AF', 69),\n",
              " ('BTBM18CE', 69),\n",
              " ('BSBM19F', 72),\n",
              " ('BSBG14K', 73),\n",
              " ('BTBM18BB', 73),\n",
              " ('BTBM18CF', 73),\n",
              " ('BTBG12B', 77),\n",
              " ('BSBG14E', 78),\n",
              " ('BTBM20D', 78),\n",
              " ('BTBM22AF', 80),\n",
              " ('BSBG13D', 81),\n",
              " ('BTBM22AE', 81),\n",
              " ('BSBG13C', 88),\n",
              " ('BTBM18DD', 88),\n",
              " ('BTBM18DA', 89),\n",
              " ('BSBG05E', 90),\n",
              " ('BTBM22AA', 90),\n",
              " ('BTBM20A', 91),\n",
              " ('BTBG01', 97),\n",
              " ('BTBM20B', 98),\n",
              " ('BSBG14L', 100),\n",
              " ('BTBM20E', 107),\n",
              " ('BSBM16C', 109),\n",
              " ('BCBG13BE', 114),\n",
              " ('BTBM20C', 116),\n",
              " ('BSBG14D', 119),\n",
              " ('BSBM19E', 141),\n",
              " ('BSBM19C', 144),\n",
              " ('BTBM22AC', 146),\n",
              " ('BSBG11B', 148),\n",
              " ('BCBG13AI', 157),\n",
              " ('BCBG08B', 244),\n",
              " ('BTBM22BA', 315),\n",
              " ('BCBG18', 319),\n",
              " ('BTBM22BD', 341),\n",
              " ('BSBM26AA', 365),\n",
              " ('BTBM22BG', 378),\n",
              " ('BSBM26BA', 389),\n",
              " ('BCBG03B', 456),\n",
              " ('BCBG21C', 842),\n",
              " ('BSBM27BA', 1650),\n",
              " ('BSBM27AA', 1654)]"
            ]
          },
          "metadata": {},
          "execution_count": 100
        }
      ]
    },
    {
      "cell_type": "markdown",
      "source": [
        "it's not really reasonable to remove all the columns with omitted values. sometimes thay are useful so it's just better to remove the columns with high number of omitted value for example up to 300"
      ],
      "metadata": {
        "id": "shmQG2AQ_nW_"
      }
    },
    {
      "cell_type": "code",
      "source": [
        "df1 = df1.drop(columns=['BSBM27AA', 'BSBM27BA', 'BCBG21C' ,'BCBG03B' , 'BSBM26BA', 'BTBM22BG', 'BSBM26AA', 'BTBM22BD', 'BCBG18','BTBM22BA'])"
      ],
      "metadata": {
        "id": "k7ZJUedhw33i"
      },
      "execution_count": 101,
      "outputs": []
    },
    {
      "cell_type": "markdown",
      "source": [
        "#### the finall Preprocessed dataframe"
      ],
      "metadata": {
        "id": "8_5aLo774qUQ"
      }
    },
    {
      "cell_type": "code",
      "source": [
        "df1"
      ],
      "metadata": {
        "colab": {
          "base_uri": "https://localhost:8080/",
          "height": 487
        },
        "id": "__gehTzG5XOI",
        "outputId": "b4483927-cb66-442a-db03-1cf343e502aa"
      },
      "execution_count": 102,
      "outputs": [
        {
          "output_type": "execute_result",
          "data": {
            "text/plain": [
              "      finalscore  finalscorealgebra  finalscoredat  finalscoregeo  \\\n",
              "0              2                  5              2              1   \n",
              "1              2                  2              2              1   \n",
              "2              4                  4              2              3   \n",
              "3              1                  2              1              1   \n",
              "4              2                  2              3              1   \n",
              "...          ...                ...            ...            ...   \n",
              "5975           2                  2              2              2   \n",
              "5976           2                  1              1              3   \n",
              "5977           1                  1              1              2   \n",
              "5978           2                  1              1              3   \n",
              "5979           1                  1              2              1   \n",
              "\n",
              "      finalscorenum  BSBG01  BSBG03  BSBG04  BSBG05A  BSBG05B  ...  BTBM20E  \\\n",
              "0                 1     1.0     2.0     3.0      1.0      1.0  ...        3   \n",
              "1                 2     1.0     1.0     3.0      1.0      1.0  ...        3   \n",
              "2                 4     1.0     1.0     4.0      1.0      1.0  ...        3   \n",
              "3                 1     1.0     1.0     2.0      2.0      2.0  ...        3   \n",
              "4                 2     1.0     1.0     2.0      1.0      1.0  ...        3   \n",
              "...             ...     ...     ...     ...      ...      ...  ...      ...   \n",
              "5975              2     2.0     2.0     2.0      2.0      2.0  ...        3   \n",
              "5976              1     1.0     4.0     1.0      2.0      1.0  ...        3   \n",
              "5977              1     1.0     3.0     2.0      1.0      2.0  ...        3   \n",
              "5978              1     2.0     1.0     5.0      1.0      1.0  ...        2   \n",
              "5979              1     2.0     3.0     5.0      2.0      1.0  ...        2   \n",
              "\n",
              "      BTBM21  BTBM22AA  BTBM22AC  BTBM22AD  BTBM22AE  BTBM22AF  BTBM22AG  \\\n",
              "0          5         1         2         2         1         1         2   \n",
              "1          5         1         2         2         1         1         2   \n",
              "2          5         1         2         2         1         1         2   \n",
              "3          3         2         2         2         2         2         2   \n",
              "4          3         2         2         2         2         2         2   \n",
              "...      ...       ...       ...       ...       ...       ...       ...   \n",
              "5975       5         2         2         1         2         2         2   \n",
              "5976       5         1         1         1         1         1         1   \n",
              "5977       5         1         1         1         1         1         1   \n",
              "5978       5         1         2         2         1         1         1   \n",
              "5979       5         1         2         2         1         1         1   \n",
              "\n",
              "      BTBM23  BTDMNUM  \n",
              "0          5    100.0  \n",
              "1          5    100.0  \n",
              "2          5    100.0  \n",
              "3          4    100.0  \n",
              "4          4    100.0  \n",
              "...      ...      ...  \n",
              "5975       2    100.0  \n",
              "5976       5    100.0  \n",
              "5977       5    100.0  \n",
              "5978       4    100.0  \n",
              "5979       4    100.0  \n",
              "\n",
              "[5931 rows x 196 columns]"
            ],
            "text/html": [
              "\n",
              "  <div id=\"df-45a9ced2-648d-4e74-8c9b-a1cfc178fae8\">\n",
              "    <div class=\"colab-df-container\">\n",
              "      <div>\n",
              "<style scoped>\n",
              "    .dataframe tbody tr th:only-of-type {\n",
              "        vertical-align: middle;\n",
              "    }\n",
              "\n",
              "    .dataframe tbody tr th {\n",
              "        vertical-align: top;\n",
              "    }\n",
              "\n",
              "    .dataframe thead th {\n",
              "        text-align: right;\n",
              "    }\n",
              "</style>\n",
              "<table border=\"1\" class=\"dataframe\">\n",
              "  <thead>\n",
              "    <tr style=\"text-align: right;\">\n",
              "      <th></th>\n",
              "      <th>finalscore</th>\n",
              "      <th>finalscorealgebra</th>\n",
              "      <th>finalscoredat</th>\n",
              "      <th>finalscoregeo</th>\n",
              "      <th>finalscorenum</th>\n",
              "      <th>BSBG01</th>\n",
              "      <th>BSBG03</th>\n",
              "      <th>BSBG04</th>\n",
              "      <th>BSBG05A</th>\n",
              "      <th>BSBG05B</th>\n",
              "      <th>...</th>\n",
              "      <th>BTBM20E</th>\n",
              "      <th>BTBM21</th>\n",
              "      <th>BTBM22AA</th>\n",
              "      <th>BTBM22AC</th>\n",
              "      <th>BTBM22AD</th>\n",
              "      <th>BTBM22AE</th>\n",
              "      <th>BTBM22AF</th>\n",
              "      <th>BTBM22AG</th>\n",
              "      <th>BTBM23</th>\n",
              "      <th>BTDMNUM</th>\n",
              "    </tr>\n",
              "  </thead>\n",
              "  <tbody>\n",
              "    <tr>\n",
              "      <th>0</th>\n",
              "      <td>2</td>\n",
              "      <td>5</td>\n",
              "      <td>2</td>\n",
              "      <td>1</td>\n",
              "      <td>1</td>\n",
              "      <td>1.0</td>\n",
              "      <td>2.0</td>\n",
              "      <td>3.0</td>\n",
              "      <td>1.0</td>\n",
              "      <td>1.0</td>\n",
              "      <td>...</td>\n",
              "      <td>3</td>\n",
              "      <td>5</td>\n",
              "      <td>1</td>\n",
              "      <td>2</td>\n",
              "      <td>2</td>\n",
              "      <td>1</td>\n",
              "      <td>1</td>\n",
              "      <td>2</td>\n",
              "      <td>5</td>\n",
              "      <td>100.0</td>\n",
              "    </tr>\n",
              "    <tr>\n",
              "      <th>1</th>\n",
              "      <td>2</td>\n",
              "      <td>2</td>\n",
              "      <td>2</td>\n",
              "      <td>1</td>\n",
              "      <td>2</td>\n",
              "      <td>1.0</td>\n",
              "      <td>1.0</td>\n",
              "      <td>3.0</td>\n",
              "      <td>1.0</td>\n",
              "      <td>1.0</td>\n",
              "      <td>...</td>\n",
              "      <td>3</td>\n",
              "      <td>5</td>\n",
              "      <td>1</td>\n",
              "      <td>2</td>\n",
              "      <td>2</td>\n",
              "      <td>1</td>\n",
              "      <td>1</td>\n",
              "      <td>2</td>\n",
              "      <td>5</td>\n",
              "      <td>100.0</td>\n",
              "    </tr>\n",
              "    <tr>\n",
              "      <th>2</th>\n",
              "      <td>4</td>\n",
              "      <td>4</td>\n",
              "      <td>2</td>\n",
              "      <td>3</td>\n",
              "      <td>4</td>\n",
              "      <td>1.0</td>\n",
              "      <td>1.0</td>\n",
              "      <td>4.0</td>\n",
              "      <td>1.0</td>\n",
              "      <td>1.0</td>\n",
              "      <td>...</td>\n",
              "      <td>3</td>\n",
              "      <td>5</td>\n",
              "      <td>1</td>\n",
              "      <td>2</td>\n",
              "      <td>2</td>\n",
              "      <td>1</td>\n",
              "      <td>1</td>\n",
              "      <td>2</td>\n",
              "      <td>5</td>\n",
              "      <td>100.0</td>\n",
              "    </tr>\n",
              "    <tr>\n",
              "      <th>3</th>\n",
              "      <td>1</td>\n",
              "      <td>2</td>\n",
              "      <td>1</td>\n",
              "      <td>1</td>\n",
              "      <td>1</td>\n",
              "      <td>1.0</td>\n",
              "      <td>1.0</td>\n",
              "      <td>2.0</td>\n",
              "      <td>2.0</td>\n",
              "      <td>2.0</td>\n",
              "      <td>...</td>\n",
              "      <td>3</td>\n",
              "      <td>3</td>\n",
              "      <td>2</td>\n",
              "      <td>2</td>\n",
              "      <td>2</td>\n",
              "      <td>2</td>\n",
              "      <td>2</td>\n",
              "      <td>2</td>\n",
              "      <td>4</td>\n",
              "      <td>100.0</td>\n",
              "    </tr>\n",
              "    <tr>\n",
              "      <th>4</th>\n",
              "      <td>2</td>\n",
              "      <td>2</td>\n",
              "      <td>3</td>\n",
              "      <td>1</td>\n",
              "      <td>2</td>\n",
              "      <td>1.0</td>\n",
              "      <td>1.0</td>\n",
              "      <td>2.0</td>\n",
              "      <td>1.0</td>\n",
              "      <td>1.0</td>\n",
              "      <td>...</td>\n",
              "      <td>3</td>\n",
              "      <td>3</td>\n",
              "      <td>2</td>\n",
              "      <td>2</td>\n",
              "      <td>2</td>\n",
              "      <td>2</td>\n",
              "      <td>2</td>\n",
              "      <td>2</td>\n",
              "      <td>4</td>\n",
              "      <td>100.0</td>\n",
              "    </tr>\n",
              "    <tr>\n",
              "      <th>...</th>\n",
              "      <td>...</td>\n",
              "      <td>...</td>\n",
              "      <td>...</td>\n",
              "      <td>...</td>\n",
              "      <td>...</td>\n",
              "      <td>...</td>\n",
              "      <td>...</td>\n",
              "      <td>...</td>\n",
              "      <td>...</td>\n",
              "      <td>...</td>\n",
              "      <td>...</td>\n",
              "      <td>...</td>\n",
              "      <td>...</td>\n",
              "      <td>...</td>\n",
              "      <td>...</td>\n",
              "      <td>...</td>\n",
              "      <td>...</td>\n",
              "      <td>...</td>\n",
              "      <td>...</td>\n",
              "      <td>...</td>\n",
              "      <td>...</td>\n",
              "    </tr>\n",
              "    <tr>\n",
              "      <th>5975</th>\n",
              "      <td>2</td>\n",
              "      <td>2</td>\n",
              "      <td>2</td>\n",
              "      <td>2</td>\n",
              "      <td>2</td>\n",
              "      <td>2.0</td>\n",
              "      <td>2.0</td>\n",
              "      <td>2.0</td>\n",
              "      <td>2.0</td>\n",
              "      <td>2.0</td>\n",
              "      <td>...</td>\n",
              "      <td>3</td>\n",
              "      <td>5</td>\n",
              "      <td>2</td>\n",
              "      <td>2</td>\n",
              "      <td>1</td>\n",
              "      <td>2</td>\n",
              "      <td>2</td>\n",
              "      <td>2</td>\n",
              "      <td>2</td>\n",
              "      <td>100.0</td>\n",
              "    </tr>\n",
              "    <tr>\n",
              "      <th>5976</th>\n",
              "      <td>2</td>\n",
              "      <td>1</td>\n",
              "      <td>1</td>\n",
              "      <td>3</td>\n",
              "      <td>1</td>\n",
              "      <td>1.0</td>\n",
              "      <td>4.0</td>\n",
              "      <td>1.0</td>\n",
              "      <td>2.0</td>\n",
              "      <td>1.0</td>\n",
              "      <td>...</td>\n",
              "      <td>3</td>\n",
              "      <td>5</td>\n",
              "      <td>1</td>\n",
              "      <td>1</td>\n",
              "      <td>1</td>\n",
              "      <td>1</td>\n",
              "      <td>1</td>\n",
              "      <td>1</td>\n",
              "      <td>5</td>\n",
              "      <td>100.0</td>\n",
              "    </tr>\n",
              "    <tr>\n",
              "      <th>5977</th>\n",
              "      <td>1</td>\n",
              "      <td>1</td>\n",
              "      <td>1</td>\n",
              "      <td>2</td>\n",
              "      <td>1</td>\n",
              "      <td>1.0</td>\n",
              "      <td>3.0</td>\n",
              "      <td>2.0</td>\n",
              "      <td>1.0</td>\n",
              "      <td>2.0</td>\n",
              "      <td>...</td>\n",
              "      <td>3</td>\n",
              "      <td>5</td>\n",
              "      <td>1</td>\n",
              "      <td>1</td>\n",
              "      <td>1</td>\n",
              "      <td>1</td>\n",
              "      <td>1</td>\n",
              "      <td>1</td>\n",
              "      <td>5</td>\n",
              "      <td>100.0</td>\n",
              "    </tr>\n",
              "    <tr>\n",
              "      <th>5978</th>\n",
              "      <td>2</td>\n",
              "      <td>1</td>\n",
              "      <td>1</td>\n",
              "      <td>3</td>\n",
              "      <td>1</td>\n",
              "      <td>2.0</td>\n",
              "      <td>1.0</td>\n",
              "      <td>5.0</td>\n",
              "      <td>1.0</td>\n",
              "      <td>1.0</td>\n",
              "      <td>...</td>\n",
              "      <td>2</td>\n",
              "      <td>5</td>\n",
              "      <td>1</td>\n",
              "      <td>2</td>\n",
              "      <td>2</td>\n",
              "      <td>1</td>\n",
              "      <td>1</td>\n",
              "      <td>1</td>\n",
              "      <td>4</td>\n",
              "      <td>100.0</td>\n",
              "    </tr>\n",
              "    <tr>\n",
              "      <th>5979</th>\n",
              "      <td>1</td>\n",
              "      <td>1</td>\n",
              "      <td>2</td>\n",
              "      <td>1</td>\n",
              "      <td>1</td>\n",
              "      <td>2.0</td>\n",
              "      <td>3.0</td>\n",
              "      <td>5.0</td>\n",
              "      <td>2.0</td>\n",
              "      <td>1.0</td>\n",
              "      <td>...</td>\n",
              "      <td>2</td>\n",
              "      <td>5</td>\n",
              "      <td>1</td>\n",
              "      <td>2</td>\n",
              "      <td>2</td>\n",
              "      <td>1</td>\n",
              "      <td>1</td>\n",
              "      <td>1</td>\n",
              "      <td>4</td>\n",
              "      <td>100.0</td>\n",
              "    </tr>\n",
              "  </tbody>\n",
              "</table>\n",
              "<p>5931 rows × 196 columns</p>\n",
              "</div>\n",
              "      <button class=\"colab-df-convert\" onclick=\"convertToInteractive('df-45a9ced2-648d-4e74-8c9b-a1cfc178fae8')\"\n",
              "              title=\"Convert this dataframe to an interactive table.\"\n",
              "              style=\"display:none;\">\n",
              "        \n",
              "  <svg xmlns=\"http://www.w3.org/2000/svg\" height=\"24px\"viewBox=\"0 0 24 24\"\n",
              "       width=\"24px\">\n",
              "    <path d=\"M0 0h24v24H0V0z\" fill=\"none\"/>\n",
              "    <path d=\"M18.56 5.44l.94 2.06.94-2.06 2.06-.94-2.06-.94-.94-2.06-.94 2.06-2.06.94zm-11 1L8.5 8.5l.94-2.06 2.06-.94-2.06-.94L8.5 2.5l-.94 2.06-2.06.94zm10 10l.94 2.06.94-2.06 2.06-.94-2.06-.94-.94-2.06-.94 2.06-2.06.94z\"/><path d=\"M17.41 7.96l-1.37-1.37c-.4-.4-.92-.59-1.43-.59-.52 0-1.04.2-1.43.59L10.3 9.45l-7.72 7.72c-.78.78-.78 2.05 0 2.83L4 21.41c.39.39.9.59 1.41.59.51 0 1.02-.2 1.41-.59l7.78-7.78 2.81-2.81c.8-.78.8-2.07 0-2.86zM5.41 20L4 18.59l7.72-7.72 1.47 1.35L5.41 20z\"/>\n",
              "  </svg>\n",
              "      </button>\n",
              "      \n",
              "  <style>\n",
              "    .colab-df-container {\n",
              "      display:flex;\n",
              "      flex-wrap:wrap;\n",
              "      gap: 12px;\n",
              "    }\n",
              "\n",
              "    .colab-df-convert {\n",
              "      background-color: #E8F0FE;\n",
              "      border: none;\n",
              "      border-radius: 50%;\n",
              "      cursor: pointer;\n",
              "      display: none;\n",
              "      fill: #1967D2;\n",
              "      height: 32px;\n",
              "      padding: 0 0 0 0;\n",
              "      width: 32px;\n",
              "    }\n",
              "\n",
              "    .colab-df-convert:hover {\n",
              "      background-color: #E2EBFA;\n",
              "      box-shadow: 0px 1px 2px rgba(60, 64, 67, 0.3), 0px 1px 3px 1px rgba(60, 64, 67, 0.15);\n",
              "      fill: #174EA6;\n",
              "    }\n",
              "\n",
              "    [theme=dark] .colab-df-convert {\n",
              "      background-color: #3B4455;\n",
              "      fill: #D2E3FC;\n",
              "    }\n",
              "\n",
              "    [theme=dark] .colab-df-convert:hover {\n",
              "      background-color: #434B5C;\n",
              "      box-shadow: 0px 1px 3px 1px rgba(0, 0, 0, 0.15);\n",
              "      filter: drop-shadow(0px 1px 2px rgba(0, 0, 0, 0.3));\n",
              "      fill: #FFFFFF;\n",
              "    }\n",
              "  </style>\n",
              "\n",
              "      <script>\n",
              "        const buttonEl =\n",
              "          document.querySelector('#df-45a9ced2-648d-4e74-8c9b-a1cfc178fae8 button.colab-df-convert');\n",
              "        buttonEl.style.display =\n",
              "          google.colab.kernel.accessAllowed ? 'block' : 'none';\n",
              "\n",
              "        async function convertToInteractive(key) {\n",
              "          const element = document.querySelector('#df-45a9ced2-648d-4e74-8c9b-a1cfc178fae8');\n",
              "          const dataTable =\n",
              "            await google.colab.kernel.invokeFunction('convertToInteractive',\n",
              "                                                     [key], {});\n",
              "          if (!dataTable) return;\n",
              "\n",
              "          const docLinkHtml = 'Like what you see? Visit the ' +\n",
              "            '<a target=\"_blank\" href=https://colab.research.google.com/notebooks/data_table.ipynb>data table notebook</a>'\n",
              "            + ' to learn more about interactive tables.';\n",
              "          element.innerHTML = '';\n",
              "          dataTable['output_type'] = 'display_data';\n",
              "          await google.colab.output.renderOutput(dataTable, element);\n",
              "          const docLink = document.createElement('div');\n",
              "          docLink.innerHTML = docLinkHtml;\n",
              "          element.appendChild(docLink);\n",
              "        }\n",
              "      </script>\n",
              "    </div>\n",
              "  </div>\n",
              "  "
            ]
          },
          "metadata": {},
          "execution_count": 102
        }
      ]
    },
    {
      "cell_type": "markdown",
      "source": [
        "visualize the relationships between a selection of the available scores for student demographics (1000 randomly sampled students, 6 random sampled variables)\n"
      ],
      "metadata": {
        "id": "2EAZEsAcJ63b"
      }
    },
    {
      "cell_type": "code",
      "source": [
        "g = sns.PairGrid(df1.sample(1000).loc[:,random.sample([col for col in df1.columns if 'BSBG' in col and df1[col].dtype == 'float64'],6)])\n",
        "\n",
        "# upper graphs will show correlation\n",
        "g.map_upper(sns.scatterplot)\n",
        "\n",
        "# lower graphs will show data concentration\n",
        "g.map_lower(sns.kdeplot)\n",
        "\n",
        "# diagonal graphs will show the distribution of each variable\n",
        "g.map_diag(sns.histplot);"
      ],
      "metadata": {
        "colab": {
          "base_uri": "https://localhost:8080/",
          "height": 1000
        },
        "id": "l0o-RwwUIEXl",
        "outputId": "a7edd6bb-af9b-469b-a33f-f6cfaf34a1f3"
      },
      "execution_count": 103,
      "outputs": [
        {
          "output_type": "display_data",
          "data": {
            "text/plain": [
              "<Figure size 1080x1080 with 42 Axes>"
            ],
            "image/png": "[encoded data removed]"
          },
          "metadata": {
            "needs_background": "light"
          }
        }
      ]
    },
    {
      "cell_type": "markdown",
      "source": [
        "create an ordinal categorical variable for the age of the teacher\n"
      ],
      "metadata": {
        "id": "Be7DRX1uRdgu"
      }
    },
    {
      "cell_type": "code",
      "source": [
        "# graph the age distribution of  teachers in the data\n",
        "g =sns.catplot(x='BTBG03', kind='count', palette='pink', data=df);\n",
        "g.set_xticklabels([\"Under 25\", \"25–29\", \"30–39\" ,'40–49', '50–59', '60 or more'])"
      ],
      "metadata": {
        "id": "473p5qY-NDJv",
        "colab": {
          "base_uri": "https://localhost:8080/",
          "height": 386
        },
        "outputId": "74164a47-2587-4254-8d8f-861b0d37fc87"
      },
      "execution_count": 104,
      "outputs": [
        {
          "output_type": "execute_result",
          "data": {
            "text/plain": [
              "<seaborn.axisgrid.FacetGrid at 0x7f65081fc640>"
            ]
          },
          "metadata": {},
          "execution_count": 104
        },
        {
          "output_type": "display_data",
          "data": {
            "text/plain": [
              "<Figure size 360x360 with 1 Axes>"
            ],
            "image/png": "[encoded data removed]"
          },
          "metadata": {
            "needs_background": "light"
          }
        }
      ]
    },
    {
      "cell_type": "markdown",
      "source": [
        "gender distribution of teachers"
      ],
      "metadata": {
        "id": "DJvoNxyG5oKM"
      }
    },
    {
      "cell_type": "code",
      "source": [
        "# graph the gender distribution of teachers in the data\n",
        "c = sns.catplot(x='BTBG02', kind='count', palette='pink', data=df);\n",
        "c.set_xticklabels([\"female\", \"male\",])"
      ],
      "metadata": {
        "id": "l-ZJfbga34mp",
        "colab": {
          "base_uri": "https://localhost:8080/",
          "height": 386
        },
        "outputId": "c4c11fee-d498-4296-87a8-37291e9570c5"
      },
      "execution_count": 105,
      "outputs": [
        {
          "output_type": "execute_result",
          "data": {
            "text/plain": [
              "<seaborn.axisgrid.FacetGrid at 0x7f65081fb370>"
            ]
          },
          "metadata": {},
          "execution_count": 105
        },
        {
          "output_type": "display_data",
          "data": {
            "text/plain": [
              "<Figure size 360x360 with 1 Axes>"
            ],
            "image/png": "[encoded data removed]"
          },
          "metadata": {
            "needs_background": "light"
          }
        }
      ]
    },
    {
      "cell_type": "markdown",
      "source": [
        "# Normalization"
      ],
      "metadata": {
        "id": "c_f6_6lx3kso"
      }
    },
    {
      "cell_type": "markdown",
      "source": [
        "Normalization is an essential part of product information management, preventing data from being replicated in two tables at the same time or unrelated product data being gathered together in the same table. In addition, normalization helps to streamline your data, simplifying your database and making it more concise."
      ],
      "metadata": {
        "id": "B8ME0pzvIM4x"
      }
    },
    {
      "cell_type": "markdown",
      "source": [
        "Z score:\n",
        "\n",
        "If a value is exactly equal to the mean of all the values of the feature, it will be normalized to 0. If it is below the mean, it will be a negative number, and if it is above the mean it will be a positive number."
      ],
      "metadata": {
        "id": "-yX7igiC4KWh"
      }
    },
    {
      "cell_type": "code",
      "source": [
        "def z_score(df):\n",
        "    df_std = df.copy()\n",
        "    for column in df_std.columns:\n",
        "        df_std[column] = (df_std[column] - df_std[column].mean()) / df_std[column].std()\n",
        "        \n",
        "    return df_std"
      ],
      "metadata": {
        "id": "8HYTbgmoyTJ_"
      },
      "execution_count": 106,
      "outputs": []
    },
    {
      "cell_type": "markdown",
      "source": [
        "just to show how it will work"
      ],
      "metadata": {
        "id": "RBiWftez58rZ"
      }
    },
    {
      "cell_type": "code",
      "source": [
        "normal_df = z_score(df1)"
      ],
      "metadata": {
        "id": "bY1jWe83Lz_2"
      },
      "execution_count": 107,
      "outputs": []
    },
    {
      "cell_type": "code",
      "source": [
        "normal_df"
      ],
      "metadata": {
        "colab": {
          "base_uri": "https://localhost:8080/",
          "height": 487
        },
        "id": "k3o79d-XL79s",
        "outputId": "bbcaf428-270a-4635-ea49-924c4f5b64c5"
      },
      "execution_count": 108,
      "outputs": [
        {
          "output_type": "execute_result",
          "data": {
            "text/plain": [
              "      finalscore  finalscorealgebra  finalscoredat  finalscoregeo  \\\n",
              "0      -0.038112           2.534132      -0.063539      -0.665190   \n",
              "1      -0.038112          -0.136591      -0.063539      -0.665190   \n",
              "2       1.936063           1.643891      -0.063539       1.782989   \n",
              "3      -1.025200          -0.136591      -0.998644      -0.665190   \n",
              "4      -0.038112          -0.136591       0.871567      -0.665190   \n",
              "...          ...                ...            ...            ...   \n",
              "5975   -0.038112          -0.136591      -0.063539       0.558900   \n",
              "5976   -0.038112          -1.026832      -0.998644       1.782989   \n",
              "5977   -1.025200          -1.026832      -0.998644       0.558900   \n",
              "5978   -0.038112          -1.026832      -0.998644       1.782989   \n",
              "5979   -1.025200          -1.026832      -0.063539      -0.665190   \n",
              "\n",
              "      finalscorenum    BSBG01    BSBG03    BSBG04   BSBG05A   BSBG05B  ...  \\\n",
              "0         -0.787896 -1.012983  0.200939  0.559222 -0.403291 -0.497422  ...   \n",
              "1          0.460237 -1.012983 -0.743412  0.559222 -0.403291 -0.497422  ...   \n",
              "2          2.956502 -1.012983 -0.743412  1.374748 -0.403291 -0.497422  ...   \n",
              "3         -0.787896 -1.012983 -0.743412 -0.256304  1.001243  0.766592  ...   \n",
              "4          0.460237 -1.012983 -0.743412 -0.256304 -0.403291 -0.497422  ...   \n",
              "...             ...       ...       ...       ...       ...       ...  ...   \n",
              "5975       0.460237  0.987017  0.200939 -0.256304  1.001243  0.766592  ...   \n",
              "5976      -0.787896 -1.012983  2.089643 -1.071831  1.001243 -0.497422  ...   \n",
              "5977      -0.787896 -1.012983  1.145291 -0.256304 -0.403291  0.766592  ...   \n",
              "5978      -0.787896  0.987017 -0.743412  2.190274 -0.403291 -0.497422  ...   \n",
              "5979      -0.787896  0.987017  1.145291  2.190274  1.001243 -0.497422  ...   \n",
              "\n",
              "       BTBM20E    BTBM21  BTBM22AA  BTBM22AC  BTBM22AD  BTBM22AE  BTBM22AF  \\\n",
              "0     0.384378  0.494899 -0.473608  0.218129  0.589478 -0.727705 -0.707353   \n",
              "1     0.384378  0.494899 -0.473608  0.218129  0.589478 -0.727705 -0.707353   \n",
              "2     0.384378  0.494899 -0.473608  0.218129  0.589478 -0.727705 -0.707353   \n",
              "3     0.384378 -1.601704  0.479878  0.218129  0.589478  0.288546  0.309446   \n",
              "4     0.384378 -1.601704  0.479878  0.218129  0.589478  0.288546  0.309446   \n",
              "...        ...       ...       ...       ...       ...       ...       ...   \n",
              "5975  0.384378  0.494899  0.479878  0.218129 -0.786435  0.288546  0.309446   \n",
              "5976  0.384378  0.494899 -0.473608 -0.578008 -0.786435 -0.727705 -0.707353   \n",
              "5977  0.384378  0.494899 -0.473608 -0.578008 -0.786435 -0.727705 -0.707353   \n",
              "5978 -0.565911  0.494899 -0.473608  0.218129  0.589478 -0.727705 -0.707353   \n",
              "5979 -0.565911  0.494899 -0.473608  0.218129  0.589478 -0.727705 -0.707353   \n",
              "\n",
              "      BTBM22AG    BTBM23  BTDMNUM  \n",
              "0     0.535028  1.218847  -0.0447  \n",
              "1     0.535028  1.218847  -0.0447  \n",
              "2     0.535028  1.218847  -0.0447  \n",
              "3     0.535028  0.486502  -0.0447  \n",
              "4     0.535028  0.486502  -0.0447  \n",
              "...        ...       ...      ...  \n",
              "5975  0.535028 -0.978189  -0.0447  \n",
              "5976 -0.851276  1.218847  -0.0447  \n",
              "5977 -0.851276  1.218847  -0.0447  \n",
              "5978 -0.851276  0.486502  -0.0447  \n",
              "5979 -0.851276  0.486502  -0.0447  \n",
              "\n",
              "[5931 rows x 196 columns]"
            ],
            "text/html": [
              "\n",
              "  <div id=\"df-9e24d572-b299-421a-864f-5f3042be235e\">\n",
              "    <div class=\"colab-df-container\">\n",
              "      <div>\n",
              "<style scoped>\n",
              "    .dataframe tbody tr th:only-of-type {\n",
              "        vertical-align: middle;\n",
              "    }\n",
              "\n",
              "    .dataframe tbody tr th {\n",
              "        vertical-align: top;\n",
              "    }\n",
              "\n",
              "    .dataframe thead th {\n",
              "        text-align: right;\n",
              "    }\n",
              "</style>\n",
              "<table border=\"1\" class=\"dataframe\">\n",
              "  <thead>\n",
              "    <tr style=\"text-align: right;\">\n",
              "      <th></th>\n",
              "      <th>finalscore</th>\n",
              "      <th>finalscorealgebra</th>\n",
              "      <th>finalscoredat</th>\n",
              "      <th>finalscoregeo</th>\n",
              "      <th>finalscorenum</th>\n",
              "      <th>BSBG01</th>\n",
              "      <th>BSBG03</th>\n",
              "      <th>BSBG04</th>\n",
              "      <th>BSBG05A</th>\n",
              "      <th>BSBG05B</th>\n",
              "      <th>...</th>\n",
              "      <th>BTBM20E</th>\n",
              "      <th>BTBM21</th>\n",
              "      <th>BTBM22AA</th>\n",
              "      <th>BTBM22AC</th>\n",
              "      <th>BTBM22AD</th>\n",
              "      <th>BTBM22AE</th>\n",
              "      <th>BTBM22AF</th>\n",
              "      <th>BTBM22AG</th>\n",
              "      <th>BTBM23</th>\n",
              "      <th>BTDMNUM</th>\n",
              "    </tr>\n",
              "  </thead>\n",
              "  <tbody>\n",
              "    <tr>\n",
              "      <th>0</th>\n",
              "      <td>-0.038112</td>\n",
              "      <td>2.534132</td>\n",
              "      <td>-0.063539</td>\n",
              "      <td>-0.665190</td>\n",
              "      <td>-0.787896</td>\n",
              "      <td>-1.012983</td>\n",
              "      <td>0.200939</td>\n",
              "      <td>0.559222</td>\n",
              "      <td>-0.403291</td>\n",
              "      <td>-0.497422</td>\n",
              "      <td>...</td>\n",
              "      <td>0.384378</td>\n",
              "      <td>0.494899</td>\n",
              "      <td>-0.473608</td>\n",
              "      <td>0.218129</td>\n",
              "      <td>0.589478</td>\n",
              "      <td>-0.727705</td>\n",
              "      <td>-0.707353</td>\n",
              "      <td>0.535028</td>\n",
              "      <td>1.218847</td>\n",
              "      <td>-0.0447</td>\n",
              "    </tr>\n",
              "    <tr>\n",
              "      <th>1</th>\n",
              "      <td>-0.038112</td>\n",
              "      <td>-0.136591</td>\n",
              "      <td>-0.063539</td>\n",
              "      <td>-0.665190</td>\n",
              "      <td>0.460237</td>\n",
              "      <td>-1.012983</td>\n",
              "      <td>-0.743412</td>\n",
              "      <td>0.559222</td>\n",
              "      <td>-0.403291</td>\n",
              "      <td>-0.497422</td>\n",
              "      <td>...</td>\n",
              "      <td>0.384378</td>\n",
              "      <td>0.494899</td>\n",
              "      <td>-0.473608</td>\n",
              "      <td>0.218129</td>\n",
              "      <td>0.589478</td>\n",
              "      <td>-0.727705</td>\n",
              "      <td>-0.707353</td>\n",
              "      <td>0.535028</td>\n",
              "      <td>1.218847</td>\n",
              "      <td>-0.0447</td>\n",
              "    </tr>\n",
              "    <tr>\n",
              "      <th>2</th>\n",
              "      <td>1.936063</td>\n",
              "      <td>1.643891</td>\n",
              "      <td>-0.063539</td>\n",
              "      <td>1.782989</td>\n",
              "      <td>2.956502</td>\n",
              "      <td>-1.012983</td>\n",
              "      <td>-0.743412</td>\n",
              "      <td>1.374748</td>\n",
              "      <td>-0.403291</td>\n",
              "      <td>-0.497422</td>\n",
              "      <td>...</td>\n",
              "      <td>0.384378</td>\n",
              "      <td>0.494899</td>\n",
              "      <td>-0.473608</td>\n",
              "      <td>0.218129</td>\n",
              "      <td>0.589478</td>\n",
              "      <td>-0.727705</td>\n",
              "      <td>-0.707353</td>\n",
              "      <td>0.535028</td>\n",
              "      <td>1.218847</td>\n",
              "      <td>-0.0447</td>\n",
              "    </tr>\n",
              "    <tr>\n",
              "      <th>3</th>\n",
              "      <td>-1.025200</td>\n",
              "      <td>-0.136591</td>\n",
              "      <td>-0.998644</td>\n",
              "      <td>-0.665190</td>\n",
              "      <td>-0.787896</td>\n",
              "      <td>-1.012983</td>\n",
              "      <td>-0.743412</td>\n",
              "      <td>-0.256304</td>\n",
              "      <td>1.001243</td>\n",
              "      <td>0.766592</td>\n",
              "      <td>...</td>\n",
              "      <td>0.384378</td>\n",
              "      <td>-1.601704</td>\n",
              "      <td>0.479878</td>\n",
              "      <td>0.218129</td>\n",
              "      <td>0.589478</td>\n",
              "      <td>0.288546</td>\n",
              "      <td>0.309446</td>\n",
              "      <td>0.535028</td>\n",
              "      <td>0.486502</td>\n",
              "      <td>-0.0447</td>\n",
              "    </tr>\n",
              "    <tr>\n",
              "      <th>4</th>\n",
              "      <td>-0.038112</td>\n",
              "      <td>-0.136591</td>\n",
              "      <td>0.871567</td>\n",
              "      <td>-0.665190</td>\n",
              "      <td>0.460237</td>\n",
              "      <td>-1.012983</td>\n",
              "      <td>-0.743412</td>\n",
              "      <td>-0.256304</td>\n",
              "      <td>-0.403291</td>\n",
              "      <td>-0.497422</td>\n",
              "      <td>...</td>\n",
              "      <td>0.384378</td>\n",
              "      <td>-1.601704</td>\n",
              "      <td>0.479878</td>\n",
              "      <td>0.218129</td>\n",
              "      <td>0.589478</td>\n",
              "      <td>0.288546</td>\n",
              "      <td>0.309446</td>\n",
              "      <td>0.535028</td>\n",
              "      <td>0.486502</td>\n",
              "      <td>-0.0447</td>\n",
              "    </tr>\n",
              "    <tr>\n",
              "      <th>...</th>\n",
              "      <td>...</td>\n",
              "      <td>...</td>\n",
              "      <td>...</td>\n",
              "      <td>...</td>\n",
              "      <td>...</td>\n",
              "      <td>...</td>\n",
              "      <td>...</td>\n",
              "      <td>...</td>\n",
              "      <td>...</td>\n",
              "      <td>...</td>\n",
              "      <td>...</td>\n",
              "      <td>...</td>\n",
              "      <td>...</td>\n",
              "      <td>...</td>\n",
              "      <td>...</td>\n",
              "      <td>...</td>\n",
              "      <td>...</td>\n",
              "      <td>...</td>\n",
              "      <td>...</td>\n",
              "      <td>...</td>\n",
              "      <td>...</td>\n",
              "    </tr>\n",
              "    <tr>\n",
              "      <th>5975</th>\n",
              "      <td>-0.038112</td>\n",
              "      <td>-0.136591</td>\n",
              "      <td>-0.063539</td>\n",
              "      <td>0.558900</td>\n",
              "      <td>0.460237</td>\n",
              "      <td>0.987017</td>\n",
              "      <td>0.200939</td>\n",
              "      <td>-0.256304</td>\n",
              "      <td>1.001243</td>\n",
              "      <td>0.766592</td>\n",
              "      <td>...</td>\n",
              "      <td>0.384378</td>\n",
              "      <td>0.494899</td>\n",
              "      <td>0.479878</td>\n",
              "      <td>0.218129</td>\n",
              "      <td>-0.786435</td>\n",
              "      <td>0.288546</td>\n",
              "      <td>0.309446</td>\n",
              "      <td>0.535028</td>\n",
              "      <td>-0.978189</td>\n",
              "      <td>-0.0447</td>\n",
              "    </tr>\n",
              "    <tr>\n",
              "      <th>5976</th>\n",
              "      <td>-0.038112</td>\n",
              "      <td>-1.026832</td>\n",
              "      <td>-0.998644</td>\n",
              "      <td>1.782989</td>\n",
              "      <td>-0.787896</td>\n",
              "      <td>-1.012983</td>\n",
              "      <td>2.089643</td>\n",
              "      <td>-1.071831</td>\n",
              "      <td>1.001243</td>\n",
              "      <td>-0.497422</td>\n",
              "      <td>...</td>\n",
              "      <td>0.384378</td>\n",
              "      <td>0.494899</td>\n",
              "      <td>-0.473608</td>\n",
              "      <td>-0.578008</td>\n",
              "      <td>-0.786435</td>\n",
              "      <td>-0.727705</td>\n",
              "      <td>-0.707353</td>\n",
              "      <td>-0.851276</td>\n",
              "      <td>1.218847</td>\n",
              "      <td>-0.0447</td>\n",
              "    </tr>\n",
              "    <tr>\n",
              "      <th>5977</th>\n",
              "      <td>-1.025200</td>\n",
              "      <td>-1.026832</td>\n",
              "      <td>-0.998644</td>\n",
              "      <td>0.558900</td>\n",
              "      <td>-0.787896</td>\n",
              "      <td>-1.012983</td>\n",
              "      <td>1.145291</td>\n",
              "      <td>-0.256304</td>\n",
              "      <td>-0.403291</td>\n",
              "      <td>0.766592</td>\n",
              "      <td>...</td>\n",
              "      <td>0.384378</td>\n",
              "      <td>0.494899</td>\n",
              "      <td>-0.473608</td>\n",
              "      <td>-0.578008</td>\n",
              "      <td>-0.786435</td>\n",
              "      <td>-0.727705</td>\n",
              "      <td>-0.707353</td>\n",
              "      <td>-0.851276</td>\n",
              "      <td>1.218847</td>\n",
              "      <td>-0.0447</td>\n",
              "    </tr>\n",
              "    <tr>\n",
              "      <th>5978</th>\n",
              "      <td>-0.038112</td>\n",
              "      <td>-1.026832</td>\n",
              "      <td>-0.998644</td>\n",
              "      <td>1.782989</td>\n",
              "      <td>-0.787896</td>\n",
              "      <td>0.987017</td>\n",
              "      <td>-0.743412</td>\n",
              "      <td>2.190274</td>\n",
              "      <td>-0.403291</td>\n",
              "      <td>-0.497422</td>\n",
              "      <td>...</td>\n",
              "      <td>-0.565911</td>\n",
              "      <td>0.494899</td>\n",
              "      <td>-0.473608</td>\n",
              "      <td>0.218129</td>\n",
              "      <td>0.589478</td>\n",
              "      <td>-0.727705</td>\n",
              "      <td>-0.707353</td>\n",
              "      <td>-0.851276</td>\n",
              "      <td>0.486502</td>\n",
              "      <td>-0.0447</td>\n",
              "    </tr>\n",
              "    <tr>\n",
              "      <th>5979</th>\n",
              "      <td>-1.025200</td>\n",
              "      <td>-1.026832</td>\n",
              "      <td>-0.063539</td>\n",
              "      <td>-0.665190</td>\n",
              "      <td>-0.787896</td>\n",
              "      <td>0.987017</td>\n",
              "      <td>1.145291</td>\n",
              "      <td>2.190274</td>\n",
              "      <td>1.001243</td>\n",
              "      <td>-0.497422</td>\n",
              "      <td>...</td>\n",
              "      <td>-0.565911</td>\n",
              "      <td>0.494899</td>\n",
              "      <td>-0.473608</td>\n",
              "      <td>0.218129</td>\n",
              "      <td>0.589478</td>\n",
              "      <td>-0.727705</td>\n",
              "      <td>-0.707353</td>\n",
              "      <td>-0.851276</td>\n",
              "      <td>0.486502</td>\n",
              "      <td>-0.0447</td>\n",
              "    </tr>\n",
              "  </tbody>\n",
              "</table>\n",
              "<p>5931 rows × 196 columns</p>\n",
              "</div>\n",
              "      <button class=\"colab-df-convert\" onclick=\"convertToInteractive('df-9e24d572-b299-421a-864f-5f3042be235e')\"\n",
              "              title=\"Convert this dataframe to an interactive table.\"\n",
              "              style=\"display:none;\">\n",
              "        \n",
              "  <svg xmlns=\"http://www.w3.org/2000/svg\" height=\"24px\"viewBox=\"0 0 24 24\"\n",
              "       width=\"24px\">\n",
              "    <path d=\"M0 0h24v24H0V0z\" fill=\"none\"/>\n",
              "    <path d=\"M18.56 5.44l.94 2.06.94-2.06 2.06-.94-2.06-.94-.94-2.06-.94 2.06-2.06.94zm-11 1L8.5 8.5l.94-2.06 2.06-.94-2.06-.94L8.5 2.5l-.94 2.06-2.06.94zm10 10l.94 2.06.94-2.06 2.06-.94-2.06-.94-.94-2.06-.94 2.06-2.06.94z\"/><path d=\"M17.41 7.96l-1.37-1.37c-.4-.4-.92-.59-1.43-.59-.52 0-1.04.2-1.43.59L10.3 9.45l-7.72 7.72c-.78.78-.78 2.05 0 2.83L4 21.41c.39.39.9.59 1.41.59.51 0 1.02-.2 1.41-.59l7.78-7.78 2.81-2.81c.8-.78.8-2.07 0-2.86zM5.41 20L4 18.59l7.72-7.72 1.47 1.35L5.41 20z\"/>\n",
              "  </svg>\n",
              "      </button>\n",
              "      \n",
              "  <style>\n",
              "    .colab-df-container {\n",
              "      display:flex;\n",
              "      flex-wrap:wrap;\n",
              "      gap: 12px;\n",
              "    }\n",
              "\n",
              "    .colab-df-convert {\n",
              "      background-color: #E8F0FE;\n",
              "      border: none;\n",
              "      border-radius: 50%;\n",
              "      cursor: pointer;\n",
              "      display: none;\n",
              "      fill: #1967D2;\n",
              "      height: 32px;\n",
              "      padding: 0 0 0 0;\n",
              "      width: 32px;\n",
              "    }\n",
              "\n",
              "    .colab-df-convert:hover {\n",
              "      background-color: #E2EBFA;\n",
              "      box-shadow: 0px 1px 2px rgba(60, 64, 67, 0.3), 0px 1px 3px 1px rgba(60, 64, 67, 0.15);\n",
              "      fill: #174EA6;\n",
              "    }\n",
              "\n",
              "    [theme=dark] .colab-df-convert {\n",
              "      background-color: #3B4455;\n",
              "      fill: #D2E3FC;\n",
              "    }\n",
              "\n",
              "    [theme=dark] .colab-df-convert:hover {\n",
              "      background-color: #434B5C;\n",
              "      box-shadow: 0px 1px 3px 1px rgba(0, 0, 0, 0.15);\n",
              "      filter: drop-shadow(0px 1px 2px rgba(0, 0, 0, 0.3));\n",
              "      fill: #FFFFFF;\n",
              "    }\n",
              "  </style>\n",
              "\n",
              "      <script>\n",
              "        const buttonEl =\n",
              "          document.querySelector('#df-9e24d572-b299-421a-864f-5f3042be235e button.colab-df-convert');\n",
              "        buttonEl.style.display =\n",
              "          google.colab.kernel.accessAllowed ? 'block' : 'none';\n",
              "\n",
              "        async function convertToInteractive(key) {\n",
              "          const element = document.querySelector('#df-9e24d572-b299-421a-864f-5f3042be235e');\n",
              "          const dataTable =\n",
              "            await google.colab.kernel.invokeFunction('convertToInteractive',\n",
              "                                                     [key], {});\n",
              "          if (!dataTable) return;\n",
              "\n",
              "          const docLinkHtml = 'Like what you see? Visit the ' +\n",
              "            '<a target=\"_blank\" href=https://colab.research.google.com/notebooks/data_table.ipynb>data table notebook</a>'\n",
              "            + ' to learn more about interactive tables.';\n",
              "          element.innerHTML = '';\n",
              "          dataTable['output_type'] = 'display_data';\n",
              "          await google.colab.output.renderOutput(dataTable, element);\n",
              "          const docLink = document.createElement('div');\n",
              "          docLink.innerHTML = docLinkHtml;\n",
              "          element.appendChild(docLink);\n",
              "        }\n",
              "      </script>\n",
              "    </div>\n",
              "  </div>\n",
              "  "
            ]
          },
          "metadata": {},
          "execution_count": 108
        }
      ]
    },
    {
      "cell_type": "markdown",
      "source": [
        "# Analysis"
      ],
      "metadata": {
        "id": "F2Lx9Vw5XUnp"
      }
    },
    {
      "cell_type": "markdown",
      "source": [
        "## Decision tree:\n",
        "\n",
        "A decision tree is a model composed of a collection of \"questions\" organized hierarchically in the shape of a tree. The questions are usually called a condition, a split, or a test. We will use the term \"condition\" in this class. Each non-leaf node contains a condition, and each leaf node contains a prediction."
      ],
      "metadata": {
        "id": "tX0VABZY5CIE"
      }
    },
    {
      "cell_type": "code",
      "source": [
        "# using DesicionTree in scikit_learn.tree library\n",
        "def desicion_tree(dataframe, target_column, unnecessary_columns):\n",
        "  temp = dataframe.nunique().sort_values(ascending=False)\n",
        "\n",
        "  # remove features with distinct value more than 8\n",
        "  temp = temp[temp>8]\n",
        "  not_unique_attributes = list(temp.keys())\n",
        "  print(\"\\nfeatures with more than 8 unique values:\", not_unique_attributes)\n",
        "\n",
        "  # \"y\" is the feature that we want to analys\n",
        "  y = dataframe[target_column]\n",
        "  X = dataframe.drop(columns = not_unique_attributes + [target_column]+ unnecessary_columns)\n",
        "  print(\"\\nafter remove extra features: \\n\", X.nunique().sort_values(ascending=False))\n",
        "\n",
        "  dt = DecisionTreeClassifier()\n",
        "  dt.fit(X, y)\n",
        "\n",
        "  print(\"\\nthe most important features (features on top of the tree): \")\n",
        "\n",
        "  # inorder to dimension reduction, we use features betwean depths 0 to 20\n",
        "  # but thay are useful in correlation analysis so we retrieve them back\n",
        "  best_attributes = pd.DataFrame(dt.feature_importances_, \n",
        "                                 index = X.columns, \n",
        "                                 columns=['importance']).sort_values('importance',\n",
        "                                                                     ascending=False).head(20)\n",
        "  print(best_attributes)\n",
        "  return not_unique_attributes, list(best_attributes.index)"
      ],
      "metadata": {
        "id": "vPyX9LzG5BSA"
      },
      "execution_count": 109,
      "outputs": []
    },
    {
      "cell_type": "markdown",
      "source": [
        "## Correlation\n",
        "\n",
        "The correlation coefficient is a statistical measure of the strength of a linear relationship between two variables. Its values can range from -1 to 1. A correlation coefficient of -1 describes a perfect negative, or inverse, correlation, with values in one series rising as those in the other decline, and vice versa. A coefficient of 1 shows a perfect positive correlation, or a direct relationship. A correlation coefficient of 0 means there is no linear relationship."
      ],
      "metadata": {
        "id": "n5tAYrBi5wdW"
      }
    },
    {
      "cell_type": "code",
      "source": [
        "def correlation_analysis(dataframe, target_column):\n",
        "  corr_results = []\n",
        "  \n",
        "  for i in dataframe.columns:\n",
        "    if i != target_column:\n",
        "      temp = dataframe[[target_column, i]]\n",
        "      feature_max = max(temp[i])\n",
        "\n",
        "      # removing the ommited or invalid values\n",
        "      if feature_max in [9, 99, 999, 9999, 99999, 999999]:\n",
        "        temp = temp[temp[i]<feature_max]\n",
        "      #normalizatoin  \n",
        "      temp = z_score(temp)\n",
        "      #compute the correlation coefficient with target feature\n",
        "      corr_results.append((i, temp.corr()[target_column][i]))\n",
        "\n",
        "  corr_results.sort(key = lambda x: x[1]) \n",
        "  return corr_results"
      ],
      "metadata": {
        "id": "0RCSxF-r5ana"
      },
      "execution_count": 110,
      "outputs": []
    },
    {
      "cell_type": "code",
      "source": [],
      "metadata": {
        "id": "HxVbBHFmci_F"
      },
      "execution_count": 110,
      "outputs": []
    },
    {
      "cell_type": "markdown",
      "source": [
        "this function plot the relation between two feature\n",
        "\n",
        "we plot one pair for instance"
      ],
      "metadata": {
        "id": "JqAudTlQcjrm"
      }
    },
    {
      "cell_type": "code",
      "source": [
        "def plot_relation(dataframe, x, y):\n",
        "  df = dataframe[[x, y]]\n",
        "  feature_max = max(df[x])\n",
        "  if feature_max in [9, 99, 999, 9999, 99999, 999999]:\n",
        "    df = df[df[x]<feature_max]\n",
        "  df = df.groupby(x).mean()\n",
        "  print(\"\\nthe relation between\", y, \"with\", x,': ')\n",
        "  df.plot(y = y, kind='line' , color  = \"pink\" ,  markersize=7 )\n",
        "  plt.show()"
      ],
      "metadata": {
        "id": "rq6ukKQ36DI5"
      },
      "execution_count": 134,
      "outputs": []
    },
    {
      "cell_type": "markdown",
      "source": [
        "for instance the relation betwen geoscore and lack of sleep"
      ],
      "metadata": {
        "id": "Lphkh9_EEny7"
      }
    },
    {
      "cell_type": "code",
      "source": [
        "# geo score\n",
        "# GEN\\LIMIT TEACHING\\LACK OF SLEEP\n",
        "plot_relation(df1, 'finalscoregeo' , 'BTBG13C')"
      ],
      "metadata": {
        "colab": {
          "base_uri": "https://localhost:8080/",
          "height": 314
        },
        "id": "qSshzkAnbPwp",
        "outputId": "388f0de2-eeca-463d-ccc6-c2a1b3482179"
      },
      "execution_count": 135,
      "outputs": [
        {
          "output_type": "stream",
          "name": "stdout",
          "text": [
            "\n",
            "the relation between BTBG13C with finalscoregeo : \n"
          ]
        },
        {
          "output_type": "display_data",
          "data": {
            "text/plain": [
              "<Figure size 432x288 with 1 Axes>"
            ],
            "image/png": "[encoded data removed]"
          },
          "metadata": {
            "needs_background": "light"
          }
        }
      ]
    },
    {
      "cell_type": "markdown",
      "source": [
        "### Q1: the most importent context that affect the iranian student's finalscore?\n",
        "\n",
        "best and more important features are near the root of the tree"
      ],
      "metadata": {
        "id": "ZuCisI-gU5w9"
      }
    },
    {
      "cell_type": "code",
      "source": [
        "# we ain't need the four columns['finalscorealgebra,finalscoredat,finalscoregeo,finalscorenum'] duo to their high correlatin score\n",
        "# and the target_column is \"finalscore\"\n",
        "\n",
        "not_unique_attributes, best_attributes = desicion_tree(df1,\n",
        "                                                       'finalscore',\n",
        "                                                       ['finalscorealgebra', 'finalscoredat',\t'finalscoregeo', 'finalscorenum']\n",
        "                                                       )"
      ],
      "metadata": {
        "colab": {
          "base_uri": "https://localhost:8080/"
        },
        "id": "t8hwbhhqTVS4",
        "outputId": "df964dcc-0c9d-4156-a2ee-50407c069a3e"
      },
      "execution_count": 113,
      "outputs": [
        {
          "output_type": "stream",
          "name": "stdout",
          "text": [
            "\n",
            "features with more than 8 unique values: ['BSDAGE', 'BCBG06A', 'BTBG01', 'BCBG06B', 'BTBM14', 'BCBG07', 'BTBG11', 'BSBG06A']\n",
            "\n",
            "after remove extra features: \n",
            " BCBG05A     8\n",
            "BTBM19B     7\n",
            "BSDGEDUP    7\n",
            "BSBG07      7\n",
            "BTBG06K     6\n",
            "           ..\n",
            "BCBG12      2\n",
            "BTBG05F     2\n",
            "BTBG05G     2\n",
            "BTBG05H     2\n",
            "BSBG01      2\n",
            "Length: 183, dtype: int64\n",
            "\n",
            "the most important features (features on top of the tree): \n",
            "          importance\n",
            "BSBG07      0.043466\n",
            "BSBM19B     0.031183\n",
            "BSDGEDUP    0.026537\n",
            "BSBM19H     0.020877\n",
            "BSBM19C     0.020579\n",
            "BCBG05A     0.017791\n",
            "BSBM18F     0.017448\n",
            "BSBG04      0.016930\n",
            "BSBM19F     0.016844\n",
            "BSBM15      0.016011\n",
            "BSBG03      0.015449\n",
            "BSBM18A     0.015395\n",
            "BSBG10      0.015132\n",
            "BSBG13D     0.015131\n",
            "BSBG11A     0.015099\n",
            "BSBM17E     0.013508\n",
            "BSBG11B     0.012993\n",
            "BSBG13E     0.012908\n",
            "BSBM18C     0.012844\n",
            "BSBG14A     0.011610\n"
          ]
        }
      ]
    },
    {
      "cell_type": "markdown",
      "source": [
        "now that we know our importand features, can make a new dataframe out of them inorder to dimentioan reduction\n",
        "\n",
        "also need to add the target feature, \"finalscore\"."
      ],
      "metadata": {
        "id": "LHfUCdz6_DUv"
      }
    },
    {
      "cell_type": "code",
      "source": [
        "Q1df = df1[['finalscore'] + best_attributes + not_unique_attributes]\n",
        "Q1df.head()"
      ],
      "metadata": {
        "colab": {
          "base_uri": "https://localhost:8080/",
          "height": 299
        },
        "id": "vRObUyJ7T9Db",
        "outputId": "d4d6193e-3ddb-49c2-8322-81456d093273"
      },
      "execution_count": 114,
      "outputs": [
        {
          "output_type": "execute_result",
          "data": {
            "text/plain": [
              "   finalscore  BSBG07  BSBM19B  BSDGEDUP  BSBM19H  BSBM19C  BCBG05A  BSBM18F  \\\n",
              "0           2     5.0      2.0       2.0      3.0      2.0        1      4.0   \n",
              "1           2     4.0      3.0       1.0      1.0      2.0        1      2.0   \n",
              "2           4     6.0      4.0       1.0      4.0      4.0        1      2.0   \n",
              "3           1     6.0      2.0       4.0      1.0      3.0        2      3.0   \n",
              "4           2     3.0      1.0       3.0      4.0      1.0        2      1.0   \n",
              "\n",
              "   BSBG04  BSBM19F  ...  BSBM18C  BSBG14A  BSDAGE  BCBG06A  BTBG01  BCBG06B  \\\n",
              "0     3.0      3.0  ...      4.0      4.0   13.92      170      27      270   \n",
              "1     3.0      2.0  ...      4.0      4.0   14.58      170      27      270   \n",
              "2     4.0      1.0  ...      4.0      3.0   14.42      170      27      270   \n",
              "3     2.0      4.0  ...      3.0      4.0   13.83      160      15      210   \n",
              "4     2.0      4.0  ...      1.0      4.0   14.58      160      15      210   \n",
              "\n",
              "   BTBM14  BCBG07  BTBG11  BSBG06A  \n",
              "0      90       3       0      4.0  \n",
              "1      90       3       0      6.0  \n",
              "2      90       3       0      7.0  \n",
              "3     240       0       5      1.0  \n",
              "4     240       0       5      2.0  \n",
              "\n",
              "[5 rows x 29 columns]"
            ],
            "text/html": [
              "\n",
              "  <div id=\"df-adcdb1f2-750e-4354-b77d-dbab309c38cc\">\n",
              "    <div class=\"colab-df-container\">\n",
              "      <div>\n",
              "<style scoped>\n",
              "    .dataframe tbody tr th:only-of-type {\n",
              "        vertical-align: middle;\n",
              "    }\n",
              "\n",
              "    .dataframe tbody tr th {\n",
              "        vertical-align: top;\n",
              "    }\n",
              "\n",
              "    .dataframe thead th {\n",
              "        text-align: right;\n",
              "    }\n",
              "</style>\n",
              "<table border=\"1\" class=\"dataframe\">\n",
              "  <thead>\n",
              "    <tr style=\"text-align: right;\">\n",
              "      <th></th>\n",
              "      <th>finalscore</th>\n",
              "      <th>BSBG07</th>\n",
              "      <th>BSBM19B</th>\n",
              "      <th>BSDGEDUP</th>\n",
              "      <th>BSBM19H</th>\n",
              "      <th>BSBM19C</th>\n",
              "      <th>BCBG05A</th>\n",
              "      <th>BSBM18F</th>\n",
              "      <th>BSBG04</th>\n",
              "      <th>BSBM19F</th>\n",
              "      <th>...</th>\n",
              "      <th>BSBM18C</th>\n",
              "      <th>BSBG14A</th>\n",
              "      <th>BSDAGE</th>\n",
              "      <th>BCBG06A</th>\n",
              "      <th>BTBG01</th>\n",
              "      <th>BCBG06B</th>\n",
              "      <th>BTBM14</th>\n",
              "      <th>BCBG07</th>\n",
              "      <th>BTBG11</th>\n",
              "      <th>BSBG06A</th>\n",
              "    </tr>\n",
              "  </thead>\n",
              "  <tbody>\n",
              "    <tr>\n",
              "      <th>0</th>\n",
              "      <td>2</td>\n",
              "      <td>5.0</td>\n",
              "      <td>2.0</td>\n",
              "      <td>2.0</td>\n",
              "      <td>3.0</td>\n",
              "      <td>2.0</td>\n",
              "      <td>1</td>\n",
              "      <td>4.0</td>\n",
              "      <td>3.0</td>\n",
              "      <td>3.0</td>\n",
              "      <td>...</td>\n",
              "      <td>4.0</td>\n",
              "      <td>4.0</td>\n",
              "      <td>13.92</td>\n",
              "      <td>170</td>\n",
              "      <td>27</td>\n",
              "      <td>270</td>\n",
              "      <td>90</td>\n",
              "      <td>3</td>\n",
              "      <td>0</td>\n",
              "      <td>4.0</td>\n",
              "    </tr>\n",
              "    <tr>\n",
              "      <th>1</th>\n",
              "      <td>2</td>\n",
              "      <td>4.0</td>\n",
              "      <td>3.0</td>\n",
              "      <td>1.0</td>\n",
              "      <td>1.0</td>\n",
              "      <td>2.0</td>\n",
              "      <td>1</td>\n",
              "      <td>2.0</td>\n",
              "      <td>3.0</td>\n",
              "      <td>2.0</td>\n",
              "      <td>...</td>\n",
              "      <td>4.0</td>\n",
              "      <td>4.0</td>\n",
              "      <td>14.58</td>\n",
              "      <td>170</td>\n",
              "      <td>27</td>\n",
              "      <td>270</td>\n",
              "      <td>90</td>\n",
              "      <td>3</td>\n",
              "      <td>0</td>\n",
              "      <td>6.0</td>\n",
              "    </tr>\n",
              "    <tr>\n",
              "      <th>2</th>\n",
              "      <td>4</td>\n",
              "      <td>6.0</td>\n",
              "      <td>4.0</td>\n",
              "      <td>1.0</td>\n",
              "      <td>4.0</td>\n",
              "      <td>4.0</td>\n",
              "      <td>1</td>\n",
              "      <td>2.0</td>\n",
              "      <td>4.0</td>\n",
              "      <td>1.0</td>\n",
              "      <td>...</td>\n",
              "      <td>4.0</td>\n",
              "      <td>3.0</td>\n",
              "      <td>14.42</td>\n",
              "      <td>170</td>\n",
              "      <td>27</td>\n",
              "      <td>270</td>\n",
              "      <td>90</td>\n",
              "      <td>3</td>\n",
              "      <td>0</td>\n",
              "      <td>7.0</td>\n",
              "    </tr>\n",
              "    <tr>\n",
              "      <th>3</th>\n",
              "      <td>1</td>\n",
              "      <td>6.0</td>\n",
              "      <td>2.0</td>\n",
              "      <td>4.0</td>\n",
              "      <td>1.0</td>\n",
              "      <td>3.0</td>\n",
              "      <td>2</td>\n",
              "      <td>3.0</td>\n",
              "      <td>2.0</td>\n",
              "      <td>4.0</td>\n",
              "      <td>...</td>\n",
              "      <td>3.0</td>\n",
              "      <td>4.0</td>\n",
              "      <td>13.83</td>\n",
              "      <td>160</td>\n",
              "      <td>15</td>\n",
              "      <td>210</td>\n",
              "      <td>240</td>\n",
              "      <td>0</td>\n",
              "      <td>5</td>\n",
              "      <td>1.0</td>\n",
              "    </tr>\n",
              "    <tr>\n",
              "      <th>4</th>\n",
              "      <td>2</td>\n",
              "      <td>3.0</td>\n",
              "      <td>1.0</td>\n",
              "      <td>3.0</td>\n",
              "      <td>4.0</td>\n",
              "      <td>1.0</td>\n",
              "      <td>2</td>\n",
              "      <td>1.0</td>\n",
              "      <td>2.0</td>\n",
              "      <td>4.0</td>\n",
              "      <td>...</td>\n",
              "      <td>1.0</td>\n",
              "      <td>4.0</td>\n",
              "      <td>14.58</td>\n",
              "      <td>160</td>\n",
              "      <td>15</td>\n",
              "      <td>210</td>\n",
              "      <td>240</td>\n",
              "      <td>0</td>\n",
              "      <td>5</td>\n",
              "      <td>2.0</td>\n",
              "    </tr>\n",
              "  </tbody>\n",
              "</table>\n",
              "<p>5 rows × 29 columns</p>\n",
              "</div>\n",
              "      <button class=\"colab-df-convert\" onclick=\"convertToInteractive('df-adcdb1f2-750e-4354-b77d-dbab309c38cc')\"\n",
              "              title=\"Convert this dataframe to an interactive table.\"\n",
              "              style=\"display:none;\">\n",
              "        \n",
              "  <svg xmlns=\"http://www.w3.org/2000/svg\" height=\"24px\"viewBox=\"0 0 24 24\"\n",
              "       width=\"24px\">\n",
              "    <path d=\"M0 0h24v24H0V0z\" fill=\"none\"/>\n",
              "    <path d=\"M18.56 5.44l.94 2.06.94-2.06 2.06-.94-2.06-.94-.94-2.06-.94 2.06-2.06.94zm-11 1L8.5 8.5l.94-2.06 2.06-.94-2.06-.94L8.5 2.5l-.94 2.06-2.06.94zm10 10l.94 2.06.94-2.06 2.06-.94-2.06-.94-.94-2.06-.94 2.06-2.06.94z\"/><path d=\"M17.41 7.96l-1.37-1.37c-.4-.4-.92-.59-1.43-.59-.52 0-1.04.2-1.43.59L10.3 9.45l-7.72 7.72c-.78.78-.78 2.05 0 2.83L4 21.41c.39.39.9.59 1.41.59.51 0 1.02-.2 1.41-.59l7.78-7.78 2.81-2.81c.8-.78.8-2.07 0-2.86zM5.41 20L4 18.59l7.72-7.72 1.47 1.35L5.41 20z\"/>\n",
              "  </svg>\n",
              "      </button>\n",
              "      \n",
              "  <style>\n",
              "    .colab-df-container {\n",
              "      display:flex;\n",
              "      flex-wrap:wrap;\n",
              "      gap: 12px;\n",
              "    }\n",
              "\n",
              "    .colab-df-convert {\n",
              "      background-color: #E8F0FE;\n",
              "      border: none;\n",
              "      border-radius: 50%;\n",
              "      cursor: pointer;\n",
              "      display: none;\n",
              "      fill: #1967D2;\n",
              "      height: 32px;\n",
              "      padding: 0 0 0 0;\n",
              "      width: 32px;\n",
              "    }\n",
              "\n",
              "    .colab-df-convert:hover {\n",
              "      background-color: #E2EBFA;\n",
              "      box-shadow: 0px 1px 2px rgba(60, 64, 67, 0.3), 0px 1px 3px 1px rgba(60, 64, 67, 0.15);\n",
              "      fill: #174EA6;\n",
              "    }\n",
              "\n",
              "    [theme=dark] .colab-df-convert {\n",
              "      background-color: #3B4455;\n",
              "      fill: #D2E3FC;\n",
              "    }\n",
              "\n",
              "    [theme=dark] .colab-df-convert:hover {\n",
              "      background-color: #434B5C;\n",
              "      box-shadow: 0px 1px 3px 1px rgba(0, 0, 0, 0.15);\n",
              "      filter: drop-shadow(0px 1px 2px rgba(0, 0, 0, 0.3));\n",
              "      fill: #FFFFFF;\n",
              "    }\n",
              "  </style>\n",
              "\n",
              "      <script>\n",
              "        const buttonEl =\n",
              "          document.querySelector('#df-adcdb1f2-750e-4354-b77d-dbab309c38cc button.colab-df-convert');\n",
              "        buttonEl.style.display =\n",
              "          google.colab.kernel.accessAllowed ? 'block' : 'none';\n",
              "\n",
              "        async function convertToInteractive(key) {\n",
              "          const element = document.querySelector('#df-adcdb1f2-750e-4354-b77d-dbab309c38cc');\n",
              "          const dataTable =\n",
              "            await google.colab.kernel.invokeFunction('convertToInteractive',\n",
              "                                                     [key], {});\n",
              "          if (!dataTable) return;\n",
              "\n",
              "          const docLinkHtml = 'Like what you see? Visit the ' +\n",
              "            '<a target=\"_blank\" href=https://colab.research.google.com/notebooks/data_table.ipynb>data table notebook</a>'\n",
              "            + ' to learn more about interactive tables.';\n",
              "          element.innerHTML = '';\n",
              "          dataTable['output_type'] = 'display_data';\n",
              "          await google.colab.output.renderOutput(dataTable, element);\n",
              "          const docLink = document.createElement('div');\n",
              "          docLink.innerHTML = docLinkHtml;\n",
              "          element.appendChild(docLink);\n",
              "        }\n",
              "      </script>\n",
              "    </div>\n",
              "  </div>\n",
              "  "
            ]
          },
          "metadata": {},
          "execution_count": 114
        }
      ]
    },
    {
      "cell_type": "markdown",
      "source": [
        "now it's time to pass the Q1df and the target_column to correlation function inorder to find the most correlated features."
      ],
      "metadata": {
        "id": "Z0n_6rRF_-Ah"
      }
    },
    {
      "cell_type": "markdown",
      "source": [
        "we must consider the absolute difference of them so BSDGEDUP, BSBM19H ,BSBG04, BSBM19B will choose\n",
        "\n",
        " but we can plot any of the features and analys the corelation between them to finalscore"
      ],
      "metadata": {
        "id": "fJQkPfhbBYjV"
      }
    },
    {
      "cell_type": "code",
      "source": [
        "correlation_analysis(Q1df, 'finalscore')"
      ],
      "metadata": {
        "colab": {
          "base_uri": "https://localhost:8080/"
        },
        "id": "kk1GDgCjUYSF",
        "outputId": "21f704d4-c4d0-4c0b-a67e-7903ed08066e"
      },
      "execution_count": 115,
      "outputs": [
        {
          "output_type": "execute_result",
          "data": {
            "text/plain": [
              "[('BSDGEDUP', -0.33266606957882655),\n",
              " ('BCBG05A', -0.2666288236472384),\n",
              " ('BSBM19F', -0.25767695285681735),\n",
              " ('BSBM15', -0.21303178097520625),\n",
              " ('BSBG03', -0.1645782516900167),\n",
              " ('BSDAGE', -0.10218872222579233),\n",
              " ('BSBG13E', -0.09827324349329454),\n",
              " ('BTBG11', -0.09214366192999246),\n",
              " ('BSBG13D', 0.003433186633321043),\n",
              " ('BSBM17E', 0.013661308033310077),\n",
              " ('BSBG11A', 0.024586407149018993),\n",
              " ('BSBM18A', 0.03773356451638398),\n",
              " ('BSBG14A', 0.0543733559715198),\n",
              " ('BSBG11B', 0.08389415004617272),\n",
              " ('BSBM18F', 0.08594176282531707),\n",
              " ('BTBG01', 0.08931340303185344),\n",
              " ('BCBG06A', 0.10029319943704611),\n",
              " ('BSBM18C', 0.10770060707648754),\n",
              " ('BTBM14', 0.13640193416856217),\n",
              " ('BSBG10', 0.13903538456937095),\n",
              " ('BSBG06A', 0.18328758868881992),\n",
              " ('BCBG07', 0.18862056265384497),\n",
              " ('BCBG06B', 0.21882354096584916),\n",
              " ('BSBG07', 0.2757774424406588),\n",
              " ('BSBM19C', 0.2840857745061991),\n",
              " ('BSBM19B', 0.3330176554128761),\n",
              " ('BSBG04', 0.3352625639550429),\n",
              " ('BSBM19H', 0.33802508511683543)]"
            ]
          },
          "metadata": {},
          "execution_count": 115
        }
      ]
    },
    {
      "cell_type": "markdown",
      "source": [
        "### inverse relationship between finalscore and Parents' Highest Education Level"
      ],
      "metadata": {
        "id": "fnipDMl1CWhp"
      }
    },
    {
      "cell_type": "code",
      "source": [
        "plot_relation(df1, 'BSDGEDUP', 'finalscore')"
      ],
      "metadata": {
        "colab": {
          "base_uri": "https://localhost:8080/",
          "height": 314
        },
        "id": "0Do7dT-VB92U",
        "outputId": "ddde123a-a5f5-48e5-ca29-9d03735a0701"
      },
      "execution_count": 116,
      "outputs": [
        {
          "output_type": "stream",
          "name": "stdout",
          "text": [
            "\n",
            "the relation between finalscore with BSDGEDUP : \n"
          ]
        },
        {
          "output_type": "display_data",
          "data": {
            "text/plain": [
              "<Figure size 432x288 with 1 Axes>"
            ],
            "image/png": "[encoded data removed]"
          },
          "metadata": {
            "needs_background": "light"
          }
        }
      ]
    },
    {
      "cell_type": "markdown",
      "source": [
        "## direct relationship between finalscore and AGREE MATHEMATICS HARDER FOR ME"
      ],
      "metadata": {
        "id": "TOXm4hW_CUO2"
      }
    },
    {
      "cell_type": "code",
      "source": [
        "plot_relation(df1, 'BSBM19H', 'finalscore')"
      ],
      "metadata": {
        "colab": {
          "base_uri": "https://localhost:8080/",
          "height": 314
        },
        "id": "OetiwAtdDAe4",
        "outputId": "dd959af4-62b0-4ee2-afe3-76e427cc0b38"
      },
      "execution_count": 117,
      "outputs": [
        {
          "output_type": "stream",
          "name": "stdout",
          "text": [
            "\n",
            "the relation between finalscore with BSBM19H : \n"
          ]
        },
        {
          "output_type": "display_data",
          "data": {
            "text/plain": [
              "<Figure size 432x288 with 1 Axes>"
            ],
            "image/png": "[encoded data removed]"
          },
          "metadata": {
            "needs_background": "light"
          }
        }
      ]
    },
    {
      "cell_type": "markdown",
      "source": [
        "## direct relationship between finalscore and AMOUNT OF BOOKS IN YOUR HOME"
      ],
      "metadata": {
        "id": "H2xRPEatDsFE"
      }
    },
    {
      "cell_type": "code",
      "source": [
        "plot_relation(df1, 'BSBG04', 'finalscore')"
      ],
      "metadata": {
        "colab": {
          "base_uri": "https://localhost:8080/",
          "height": 314
        },
        "id": "R4jqJABOUcNJ",
        "outputId": "a0fe0b25-3ebf-4b39-cdf9-56b4f4c05574"
      },
      "execution_count": 118,
      "outputs": [
        {
          "output_type": "stream",
          "name": "stdout",
          "text": [
            "\n",
            "the relation between finalscore with BSBG04 : \n"
          ]
        },
        {
          "output_type": "display_data",
          "data": {
            "text/plain": [
              "<Figure size 432x288 with 1 Axes>"
            ],
            "image/png": "[encoded data removed]"
          },
          "metadata": {
            "needs_background": "light"
          }
        }
      ]
    },
    {
      "cell_type": "markdown",
      "source": [
        "## Q2: how gender will be important for finalscore?"
      ],
      "metadata": {
        "id": "9prZSOa7UyI-"
      }
    },
    {
      "cell_type": "markdown",
      "source": [
        "### for gender analysis:\n",
        "\n",
        "we will just do the same things in Q1 for male and female students then compare themselves with each other in some features"
      ],
      "metadata": {
        "id": "7oCGjxUuGr-s"
      }
    },
    {
      "cell_type": "markdown",
      "source": [
        "make a df out of all male and female students separately"
      ],
      "metadata": {
        "id": "u86HhZXbVGop"
      }
    },
    {
      "cell_type": "code",
      "source": [
        "# 'BSBG01' shows the sex of students. 1 as female and 2 as male\n",
        "male_df = df2.loc[df['BSBG01'] == 2]\n",
        "male_df.head()"
      ],
      "metadata": {
        "colab": {
          "base_uri": "https://localhost:8080/",
          "height": 299
        },
        "id": "4g6wASbKUzK_",
        "outputId": "a99146a9-dfb5-4ed5-bcb5-da7ed1242c6e"
      },
      "execution_count": 119,
      "outputs": [
        {
          "output_type": "execute_result",
          "data": {
            "text/plain": [
              "    finalscore  finalscorealgebra  finalscoredat  finalscoregeo  \\\n",
              "5            1                  2              2              1   \n",
              "6            1                  1              2              1   \n",
              "7            2                  2              1              1   \n",
              "11           1                  2              2              1   \n",
              "12           2                  2              1              1   \n",
              "\n",
              "    finalscorenum  BSBG01  BSBG03  BSBG04  BSBG05A  BSBG05B  ...  BTBM23  \\\n",
              "5               1     2.0     4.0     3.0      2.0      2.0  ...       2   \n",
              "6               1     2.0     4.0     2.0      1.0      1.0  ...       3   \n",
              "7               2     2.0     1.0     2.0      1.0      2.0  ...       3   \n",
              "11              1     2.0     2.0     1.0      1.0      1.0  ...       4   \n",
              "12              2     2.0     3.0     3.0      1.0      2.0  ...       4   \n",
              "\n",
              "    BTDGEAS  BTDGLSN  BTDGSOS  BTDGTJS  BTDMMME  BTDMNUM   BTDMALG    BTDMGEO  \\\n",
              "5         3        1        1        2        4    100.0  28.57143  100.00000   \n",
              "6         3        2        3        1        4    100.0  42.85714   83.33333   \n",
              "7         3        2        3        1        4    100.0  42.85714   83.33333   \n",
              "11        3        1        1        2        2    100.0  42.85714   83.33333   \n",
              "12        3        1        1        2        2    100.0  42.85714   83.33333   \n",
              "\n",
              "      BTDMDAT  \n",
              "5    83.33333  \n",
              "6   100.00000  \n",
              "7   100.00000  \n",
              "11  100.00000  \n",
              "12  100.00000  \n",
              "\n",
              "[5 rows x 330 columns]"
            ],
            "text/html": [
              "\n",
              "  <div id=\"df-3d85e29a-4461-48f3-9d82-082e399f72f2\">\n",
              "    <div class=\"colab-df-container\">\n",
              "      <div>\n",
              "<style scoped>\n",
              "    .dataframe tbody tr th:only-of-type {\n",
              "        vertical-align: middle;\n",
              "    }\n",
              "\n",
              "    .dataframe tbody tr th {\n",
              "        vertical-align: top;\n",
              "    }\n",
              "\n",
              "    .dataframe thead th {\n",
              "        text-align: right;\n",
              "    }\n",
              "</style>\n",
              "<table border=\"1\" class=\"dataframe\">\n",
              "  <thead>\n",
              "    <tr style=\"text-align: right;\">\n",
              "      <th></th>\n",
              "      <th>finalscore</th>\n",
              "      <th>finalscorealgebra</th>\n",
              "      <th>finalscoredat</th>\n",
              "      <th>finalscoregeo</th>\n",
              "      <th>finalscorenum</th>\n",
              "      <th>BSBG01</th>\n",
              "      <th>BSBG03</th>\n",
              "      <th>BSBG04</th>\n",
              "      <th>BSBG05A</th>\n",
              "      <th>BSBG05B</th>\n",
              "      <th>...</th>\n",
              "      <th>BTBM23</th>\n",
              "      <th>BTDGEAS</th>\n",
              "      <th>BTDGLSN</th>\n",
              "      <th>BTDGSOS</th>\n",
              "      <th>BTDGTJS</th>\n",
              "      <th>BTDMMME</th>\n",
              "      <th>BTDMNUM</th>\n",
              "      <th>BTDMALG</th>\n",
              "      <th>BTDMGEO</th>\n",
              "      <th>BTDMDAT</th>\n",
              "    </tr>\n",
              "  </thead>\n",
              "  <tbody>\n",
              "    <tr>\n",
              "      <th>5</th>\n",
              "      <td>1</td>\n",
              "      <td>2</td>\n",
              "      <td>2</td>\n",
              "      <td>1</td>\n",
              "      <td>1</td>\n",
              "      <td>2.0</td>\n",
              "      <td>4.0</td>\n",
              "      <td>3.0</td>\n",
              "      <td>2.0</td>\n",
              "      <td>2.0</td>\n",
              "      <td>...</td>\n",
              "      <td>2</td>\n",
              "      <td>3</td>\n",
              "      <td>1</td>\n",
              "      <td>1</td>\n",
              "      <td>2</td>\n",
              "      <td>4</td>\n",
              "      <td>100.0</td>\n",
              "      <td>28.57143</td>\n",
              "      <td>100.00000</td>\n",
              "      <td>83.33333</td>\n",
              "    </tr>\n",
              "    <tr>\n",
              "      <th>6</th>\n",
              "      <td>1</td>\n",
              "      <td>1</td>\n",
              "      <td>2</td>\n",
              "      <td>1</td>\n",
              "      <td>1</td>\n",
              "      <td>2.0</td>\n",
              "      <td>4.0</td>\n",
              "      <td>2.0</td>\n",
              "      <td>1.0</td>\n",
              "      <td>1.0</td>\n",
              "      <td>...</td>\n",
              "      <td>3</td>\n",
              "      <td>3</td>\n",
              "      <td>2</td>\n",
              "      <td>3</td>\n",
              "      <td>1</td>\n",
              "      <td>4</td>\n",
              "      <td>100.0</td>\n",
              "      <td>42.85714</td>\n",
              "      <td>83.33333</td>\n",
              "      <td>100.00000</td>\n",
              "    </tr>\n",
              "    <tr>\n",
              "      <th>7</th>\n",
              "      <td>2</td>\n",
              "      <td>2</td>\n",
              "      <td>1</td>\n",
              "      <td>1</td>\n",
              "      <td>2</td>\n",
              "      <td>2.0</td>\n",
              "      <td>1.0</td>\n",
              "      <td>2.0</td>\n",
              "      <td>1.0</td>\n",
              "      <td>2.0</td>\n",
              "      <td>...</td>\n",
              "      <td>3</td>\n",
              "      <td>3</td>\n",
              "      <td>2</td>\n",
              "      <td>3</td>\n",
              "      <td>1</td>\n",
              "      <td>4</td>\n",
              "      <td>100.0</td>\n",
              "      <td>42.85714</td>\n",
              "      <td>83.33333</td>\n",
              "      <td>100.00000</td>\n",
              "    </tr>\n",
              "    <tr>\n",
              "      <th>11</th>\n",
              "      <td>1</td>\n",
              "      <td>2</td>\n",
              "      <td>2</td>\n",
              "      <td>1</td>\n",
              "      <td>1</td>\n",
              "      <td>2.0</td>\n",
              "      <td>2.0</td>\n",
              "      <td>1.0</td>\n",
              "      <td>1.0</td>\n",
              "      <td>1.0</td>\n",
              "      <td>...</td>\n",
              "      <td>4</td>\n",
              "      <td>3</td>\n",
              "      <td>1</td>\n",
              "      <td>1</td>\n",
              "      <td>2</td>\n",
              "      <td>2</td>\n",
              "      <td>100.0</td>\n",
              "      <td>42.85714</td>\n",
              "      <td>83.33333</td>\n",
              "      <td>100.00000</td>\n",
              "    </tr>\n",
              "    <tr>\n",
              "      <th>12</th>\n",
              "      <td>2</td>\n",
              "      <td>2</td>\n",
              "      <td>1</td>\n",
              "      <td>1</td>\n",
              "      <td>2</td>\n",
              "      <td>2.0</td>\n",
              "      <td>3.0</td>\n",
              "      <td>3.0</td>\n",
              "      <td>1.0</td>\n",
              "      <td>2.0</td>\n",
              "      <td>...</td>\n",
              "      <td>4</td>\n",
              "      <td>3</td>\n",
              "      <td>1</td>\n",
              "      <td>1</td>\n",
              "      <td>2</td>\n",
              "      <td>2</td>\n",
              "      <td>100.0</td>\n",
              "      <td>42.85714</td>\n",
              "      <td>83.33333</td>\n",
              "      <td>100.00000</td>\n",
              "    </tr>\n",
              "  </tbody>\n",
              "</table>\n",
              "<p>5 rows × 330 columns</p>\n",
              "</div>\n",
              "      <button class=\"colab-df-convert\" onclick=\"convertToInteractive('df-3d85e29a-4461-48f3-9d82-082e399f72f2')\"\n",
              "              title=\"Convert this dataframe to an interactive table.\"\n",
              "              style=\"display:none;\">\n",
              "        \n",
              "  <svg xmlns=\"http://www.w3.org/2000/svg\" height=\"24px\"viewBox=\"0 0 24 24\"\n",
              "       width=\"24px\">\n",
              "    <path d=\"M0 0h24v24H0V0z\" fill=\"none\"/>\n",
              "    <path d=\"M18.56 5.44l.94 2.06.94-2.06 2.06-.94-2.06-.94-.94-2.06-.94 2.06-2.06.94zm-11 1L8.5 8.5l.94-2.06 2.06-.94-2.06-.94L8.5 2.5l-.94 2.06-2.06.94zm10 10l.94 2.06.94-2.06 2.06-.94-2.06-.94-.94-2.06-.94 2.06-2.06.94z\"/><path d=\"M17.41 7.96l-1.37-1.37c-.4-.4-.92-.59-1.43-.59-.52 0-1.04.2-1.43.59L10.3 9.45l-7.72 7.72c-.78.78-.78 2.05 0 2.83L4 21.41c.39.39.9.59 1.41.59.51 0 1.02-.2 1.41-.59l7.78-7.78 2.81-2.81c.8-.78.8-2.07 0-2.86zM5.41 20L4 18.59l7.72-7.72 1.47 1.35L5.41 20z\"/>\n",
              "  </svg>\n",
              "      </button>\n",
              "      \n",
              "  <style>\n",
              "    .colab-df-container {\n",
              "      display:flex;\n",
              "      flex-wrap:wrap;\n",
              "      gap: 12px;\n",
              "    }\n",
              "\n",
              "    .colab-df-convert {\n",
              "      background-color: #E8F0FE;\n",
              "      border: none;\n",
              "      border-radius: 50%;\n",
              "      cursor: pointer;\n",
              "      display: none;\n",
              "      fill: #1967D2;\n",
              "      height: 32px;\n",
              "      padding: 0 0 0 0;\n",
              "      width: 32px;\n",
              "    }\n",
              "\n",
              "    .colab-df-convert:hover {\n",
              "      background-color: #E2EBFA;\n",
              "      box-shadow: 0px 1px 2px rgba(60, 64, 67, 0.3), 0px 1px 3px 1px rgba(60, 64, 67, 0.15);\n",
              "      fill: #174EA6;\n",
              "    }\n",
              "\n",
              "    [theme=dark] .colab-df-convert {\n",
              "      background-color: #3B4455;\n",
              "      fill: #D2E3FC;\n",
              "    }\n",
              "\n",
              "    [theme=dark] .colab-df-convert:hover {\n",
              "      background-color: #434B5C;\n",
              "      box-shadow: 0px 1px 3px 1px rgba(0, 0, 0, 0.15);\n",
              "      filter: drop-shadow(0px 1px 2px rgba(0, 0, 0, 0.3));\n",
              "      fill: #FFFFFF;\n",
              "    }\n",
              "  </style>\n",
              "\n",
              "      <script>\n",
              "        const buttonEl =\n",
              "          document.querySelector('#df-3d85e29a-4461-48f3-9d82-082e399f72f2 button.colab-df-convert');\n",
              "        buttonEl.style.display =\n",
              "          google.colab.kernel.accessAllowed ? 'block' : 'none';\n",
              "\n",
              "        async function convertToInteractive(key) {\n",
              "          const element = document.querySelector('#df-3d85e29a-4461-48f3-9d82-082e399f72f2');\n",
              "          const dataTable =\n",
              "            await google.colab.kernel.invokeFunction('convertToInteractive',\n",
              "                                                     [key], {});\n",
              "          if (!dataTable) return;\n",
              "\n",
              "          const docLinkHtml = 'Like what you see? Visit the ' +\n",
              "            '<a target=\"_blank\" href=https://colab.research.google.com/notebooks/data_table.ipynb>data table notebook</a>'\n",
              "            + ' to learn more about interactive tables.';\n",
              "          element.innerHTML = '';\n",
              "          dataTable['output_type'] = 'display_data';\n",
              "          await google.colab.output.renderOutput(dataTable, element);\n",
              "          const docLink = document.createElement('div');\n",
              "          docLink.innerHTML = docLinkHtml;\n",
              "          element.appendChild(docLink);\n",
              "        }\n",
              "      </script>\n",
              "    </div>\n",
              "  </div>\n",
              "  "
            ]
          },
          "metadata": {},
          "execution_count": 119
        }
      ]
    },
    {
      "cell_type": "code",
      "source": [
        "# 'BSBG01' shows the sex of students. 1 as female and 2 as male\n",
        "female_df = df2.loc[df['BSBG01'] == 1]\n",
        "female_df.head()"
      ],
      "metadata": {
        "colab": {
          "base_uri": "https://localhost:8080/",
          "height": 299
        },
        "id": "SAneZmGMNrGJ",
        "outputId": "6cc61ff0-2722-49a5-c4f6-81cb913c0548"
      },
      "execution_count": 120,
      "outputs": [
        {
          "output_type": "execute_result",
          "data": {
            "text/plain": [
              "   finalscore  finalscorealgebra  finalscoredat  finalscoregeo  finalscorenum  \\\n",
              "0           2                  5              2              1              1   \n",
              "1           2                  2              2              1              2   \n",
              "2           4                  4              2              3              4   \n",
              "3           1                  2              1              1              1   \n",
              "4           2                  2              3              1              2   \n",
              "\n",
              "   BSBG01  BSBG03  BSBG04  BSBG05A  BSBG05B  ...  BTBM23  BTDGEAS  BTDGLSN  \\\n",
              "0     1.0     2.0     3.0      1.0      1.0  ...       5        3        2   \n",
              "1     1.0     1.0     3.0      1.0      1.0  ...       5        3        2   \n",
              "2     1.0     1.0     4.0      1.0      1.0  ...       5        3        2   \n",
              "3     1.0     1.0     2.0      2.0      2.0  ...       4        2        2   \n",
              "4     1.0     1.0     2.0      1.0      1.0  ...       4        2        2   \n",
              "\n",
              "   BTDGSOS  BTDGTJS  BTDMMME  BTDMNUM   BTDMALG   BTDMGEO   BTDMDAT  \n",
              "0        1        1        2    100.0  28.57143  83.33333  83.33333  \n",
              "1        1        1        2    100.0  28.57143  83.33333  83.33333  \n",
              "2        1        1        2    100.0  28.57143  83.33333  83.33333  \n",
              "3        2        2        3    100.0  28.57143  83.33333  16.66667  \n",
              "4        2        2        3    100.0  28.57143  83.33333  16.66667  \n",
              "\n",
              "[5 rows x 330 columns]"
            ],
            "text/html": [
              "\n",
              "  <div id=\"df-66f095cd-b2f5-4e6e-8f92-92567b48dc8f\">\n",
              "    <div class=\"colab-df-container\">\n",
              "      <div>\n",
              "<style scoped>\n",
              "    .dataframe tbody tr th:only-of-type {\n",
              "        vertical-align: middle;\n",
              "    }\n",
              "\n",
              "    .dataframe tbody tr th {\n",
              "        vertical-align: top;\n",
              "    }\n",
              "\n",
              "    .dataframe thead th {\n",
              "        text-align: right;\n",
              "    }\n",
              "</style>\n",
              "<table border=\"1\" class=\"dataframe\">\n",
              "  <thead>\n",
              "    <tr style=\"text-align: right;\">\n",
              "      <th></th>\n",
              "      <th>finalscore</th>\n",
              "      <th>finalscorealgebra</th>\n",
              "      <th>finalscoredat</th>\n",
              "      <th>finalscoregeo</th>\n",
              "      <th>finalscorenum</th>\n",
              "      <th>BSBG01</th>\n",
              "      <th>BSBG03</th>\n",
              "      <th>BSBG04</th>\n",
              "      <th>BSBG05A</th>\n",
              "      <th>BSBG05B</th>\n",
              "      <th>...</th>\n",
              "      <th>BTBM23</th>\n",
              "      <th>BTDGEAS</th>\n",
              "      <th>BTDGLSN</th>\n",
              "      <th>BTDGSOS</th>\n",
              "      <th>BTDGTJS</th>\n",
              "      <th>BTDMMME</th>\n",
              "      <th>BTDMNUM</th>\n",
              "      <th>BTDMALG</th>\n",
              "      <th>BTDMGEO</th>\n",
              "      <th>BTDMDAT</th>\n",
              "    </tr>\n",
              "  </thead>\n",
              "  <tbody>\n",
              "    <tr>\n",
              "      <th>0</th>\n",
              "      <td>2</td>\n",
              "      <td>5</td>\n",
              "      <td>2</td>\n",
              "      <td>1</td>\n",
              "      <td>1</td>\n",
              "      <td>1.0</td>\n",
              "      <td>2.0</td>\n",
              "      <td>3.0</td>\n",
              "      <td>1.0</td>\n",
              "      <td>1.0</td>\n",
              "      <td>...</td>\n",
              "      <td>5</td>\n",
              "      <td>3</td>\n",
              "      <td>2</td>\n",
              "      <td>1</td>\n",
              "      <td>1</td>\n",
              "      <td>2</td>\n",
              "      <td>100.0</td>\n",
              "      <td>28.57143</td>\n",
              "      <td>83.33333</td>\n",
              "      <td>83.33333</td>\n",
              "    </tr>\n",
              "    <tr>\n",
              "      <th>1</th>\n",
              "      <td>2</td>\n",
              "      <td>2</td>\n",
              "      <td>2</td>\n",
              "      <td>1</td>\n",
              "      <td>2</td>\n",
              "      <td>1.0</td>\n",
              "      <td>1.0</td>\n",
              "      <td>3.0</td>\n",
              "      <td>1.0</td>\n",
              "      <td>1.0</td>\n",
              "      <td>...</td>\n",
              "      <td>5</td>\n",
              "      <td>3</td>\n",
              "      <td>2</td>\n",
              "      <td>1</td>\n",
              "      <td>1</td>\n",
              "      <td>2</td>\n",
              "      <td>100.0</td>\n",
              "      <td>28.57143</td>\n",
              "      <td>83.33333</td>\n",
              "      <td>83.33333</td>\n",
              "    </tr>\n",
              "    <tr>\n",
              "      <th>2</th>\n",
              "      <td>4</td>\n",
              "      <td>4</td>\n",
              "      <td>2</td>\n",
              "      <td>3</td>\n",
              "      <td>4</td>\n",
              "      <td>1.0</td>\n",
              "      <td>1.0</td>\n",
              "      <td>4.0</td>\n",
              "      <td>1.0</td>\n",
              "      <td>1.0</td>\n",
              "      <td>...</td>\n",
              "      <td>5</td>\n",
              "      <td>3</td>\n",
              "      <td>2</td>\n",
              "      <td>1</td>\n",
              "      <td>1</td>\n",
              "      <td>2</td>\n",
              "      <td>100.0</td>\n",
              "      <td>28.57143</td>\n",
              "      <td>83.33333</td>\n",
              "      <td>83.33333</td>\n",
              "    </tr>\n",
              "    <tr>\n",
              "      <th>3</th>\n",
              "      <td>1</td>\n",
              "      <td>2</td>\n",
              "      <td>1</td>\n",
              "      <td>1</td>\n",
              "      <td>1</td>\n",
              "      <td>1.0</td>\n",
              "      <td>1.0</td>\n",
              "      <td>2.0</td>\n",
              "      <td>2.0</td>\n",
              "      <td>2.0</td>\n",
              "      <td>...</td>\n",
              "      <td>4</td>\n",
              "      <td>2</td>\n",
              "      <td>2</td>\n",
              "      <td>2</td>\n",
              "      <td>2</td>\n",
              "      <td>3</td>\n",
              "      <td>100.0</td>\n",
              "      <td>28.57143</td>\n",
              "      <td>83.33333</td>\n",
              "      <td>16.66667</td>\n",
              "    </tr>\n",
              "    <tr>\n",
              "      <th>4</th>\n",
              "      <td>2</td>\n",
              "      <td>2</td>\n",
              "      <td>3</td>\n",
              "      <td>1</td>\n",
              "      <td>2</td>\n",
              "      <td>1.0</td>\n",
              "      <td>1.0</td>\n",
              "      <td>2.0</td>\n",
              "      <td>1.0</td>\n",
              "      <td>1.0</td>\n",
              "      <td>...</td>\n",
              "      <td>4</td>\n",
              "      <td>2</td>\n",
              "      <td>2</td>\n",
              "      <td>2</td>\n",
              "      <td>2</td>\n",
              "      <td>3</td>\n",
              "      <td>100.0</td>\n",
              "      <td>28.57143</td>\n",
              "      <td>83.33333</td>\n",
              "      <td>16.66667</td>\n",
              "    </tr>\n",
              "  </tbody>\n",
              "</table>\n",
              "<p>5 rows × 330 columns</p>\n",
              "</div>\n",
              "      <button class=\"colab-df-convert\" onclick=\"convertToInteractive('df-66f095cd-b2f5-4e6e-8f92-92567b48dc8f')\"\n",
              "              title=\"Convert this dataframe to an interactive table.\"\n",
              "              style=\"display:none;\">\n",
              "        \n",
              "  <svg xmlns=\"http://www.w3.org/2000/svg\" height=\"24px\"viewBox=\"0 0 24 24\"\n",
              "       width=\"24px\">\n",
              "    <path d=\"M0 0h24v24H0V0z\" fill=\"none\"/>\n",
              "    <path d=\"M18.56 5.44l.94 2.06.94-2.06 2.06-.94-2.06-.94-.94-2.06-.94 2.06-2.06.94zm-11 1L8.5 8.5l.94-2.06 2.06-.94-2.06-.94L8.5 2.5l-.94 2.06-2.06.94zm10 10l.94 2.06.94-2.06 2.06-.94-2.06-.94-.94-2.06-.94 2.06-2.06.94z\"/><path d=\"M17.41 7.96l-1.37-1.37c-.4-.4-.92-.59-1.43-.59-.52 0-1.04.2-1.43.59L10.3 9.45l-7.72 7.72c-.78.78-.78 2.05 0 2.83L4 21.41c.39.39.9.59 1.41.59.51 0 1.02-.2 1.41-.59l7.78-7.78 2.81-2.81c.8-.78.8-2.07 0-2.86zM5.41 20L4 18.59l7.72-7.72 1.47 1.35L5.41 20z\"/>\n",
              "  </svg>\n",
              "      </button>\n",
              "      \n",
              "  <style>\n",
              "    .colab-df-container {\n",
              "      display:flex;\n",
              "      flex-wrap:wrap;\n",
              "      gap: 12px;\n",
              "    }\n",
              "\n",
              "    .colab-df-convert {\n",
              "      background-color: #E8F0FE;\n",
              "      border: none;\n",
              "      border-radius: 50%;\n",
              "      cursor: pointer;\n",
              "      display: none;\n",
              "      fill: #1967D2;\n",
              "      height: 32px;\n",
              "      padding: 0 0 0 0;\n",
              "      width: 32px;\n",
              "    }\n",
              "\n",
              "    .colab-df-convert:hover {\n",
              "      background-color: #E2EBFA;\n",
              "      box-shadow: 0px 1px 2px rgba(60, 64, 67, 0.3), 0px 1px 3px 1px rgba(60, 64, 67, 0.15);\n",
              "      fill: #174EA6;\n",
              "    }\n",
              "\n",
              "    [theme=dark] .colab-df-convert {\n",
              "      background-color: #3B4455;\n",
              "      fill: #D2E3FC;\n",
              "    }\n",
              "\n",
              "    [theme=dark] .colab-df-convert:hover {\n",
              "      background-color: #434B5C;\n",
              "      box-shadow: 0px 1px 3px 1px rgba(0, 0, 0, 0.15);\n",
              "      filter: drop-shadow(0px 1px 2px rgba(0, 0, 0, 0.3));\n",
              "      fill: #FFFFFF;\n",
              "    }\n",
              "  </style>\n",
              "\n",
              "      <script>\n",
              "        const buttonEl =\n",
              "          document.querySelector('#df-66f095cd-b2f5-4e6e-8f92-92567b48dc8f button.colab-df-convert');\n",
              "        buttonEl.style.display =\n",
              "          google.colab.kernel.accessAllowed ? 'block' : 'none';\n",
              "\n",
              "        async function convertToInteractive(key) {\n",
              "          const element = document.querySelector('#df-66f095cd-b2f5-4e6e-8f92-92567b48dc8f');\n",
              "          const dataTable =\n",
              "            await google.colab.kernel.invokeFunction('convertToInteractive',\n",
              "                                                     [key], {});\n",
              "          if (!dataTable) return;\n",
              "\n",
              "          const docLinkHtml = 'Like what you see? Visit the ' +\n",
              "            '<a target=\"_blank\" href=https://colab.research.google.com/notebooks/data_table.ipynb>data table notebook</a>'\n",
              "            + ' to learn more about interactive tables.';\n",
              "          element.innerHTML = '';\n",
              "          dataTable['output_type'] = 'display_data';\n",
              "          await google.colab.output.renderOutput(dataTable, element);\n",
              "          const docLink = document.createElement('div');\n",
              "          docLink.innerHTML = docLinkHtml;\n",
              "          element.appendChild(docLink);\n",
              "        }\n",
              "      </script>\n",
              "    </div>\n",
              "  </div>\n",
              "  "
            ]
          },
          "metadata": {},
          "execution_count": 120
        }
      ]
    },
    {
      "cell_type": "markdown",
      "source": [
        "not really affect in this feature : Home Educational Resources/IDX"
      ],
      "metadata": {
        "id": "KR4AfdvVKblW"
      }
    },
    {
      "cell_type": "code",
      "source": [
        "plot_relation(male_df, 'BSBGHER', 'finalscore')\n",
        "plot_relation(female_df, 'BSBGHER', 'finalscore')"
      ],
      "metadata": {
        "colab": {
          "base_uri": "https://localhost:8080/",
          "height": 610
        },
        "id": "V-H1AVejVf3F",
        "outputId": "fab089b0-a40d-4f4c-b2da-dbabf3a2537e"
      },
      "execution_count": 121,
      "outputs": [
        {
          "output_type": "stream",
          "name": "stdout",
          "text": [
            "\n",
            "the relation between finalscore with BSBGHER : \n"
          ]
        },
        {
          "output_type": "display_data",
          "data": {
            "text/plain": [
              "<Figure size 432x288 with 1 Axes>"
            ],
            "image/png": "[encoded data removed]"
          },
          "metadata": {
            "needs_background": "light"
          }
        },
        {
          "output_type": "stream",
          "name": "stdout",
          "text": [
            "\n",
            "the relation between finalscore with BSBGHER : \n"
          ]
        },
        {
          "output_type": "display_data",
          "data": {
            "text/plain": [
              "<Figure size 432x288 with 1 Axes>"
            ],
            "image/png": "[encoded data removed]"
          },
          "metadata": {
            "needs_background": "light"
          }
        }
      ]
    },
    {
      "cell_type": "markdown",
      "source": [
        "Student Confident in Mathematics/SCL is more important for female than male"
      ],
      "metadata": {
        "id": "rYMMc8SJKoT6"
      }
    },
    {
      "cell_type": "code",
      "source": [
        "plot_relation(male_df, 'BSBGSCM', 'finalscore')\n",
        "plot_relation(female_df, 'BSBGSCM', 'finalscore')"
      ],
      "metadata": {
        "colab": {
          "base_uri": "https://localhost:8080/",
          "height": 610
        },
        "id": "OQR0QF_WKHCB",
        "outputId": "5e7fa4ac-7475-451b-9f3d-276450774ec0"
      },
      "execution_count": 122,
      "outputs": [
        {
          "output_type": "stream",
          "name": "stdout",
          "text": [
            "\n",
            "the relation between finalscore with BSBGSCM : \n"
          ]
        },
        {
          "output_type": "display_data",
          "data": {
            "text/plain": [
              "<Figure size 432x288 with 1 Axes>"
            ],
            "image/png": "[encoded data removed]"
          },
          "metadata": {
            "needs_background": "light"
          }
        },
        {
          "output_type": "stream",
          "name": "stdout",
          "text": [
            "\n",
            "the relation between finalscore with BSBGSCM : \n"
          ]
        },
        {
          "output_type": "display_data",
          "data": {
            "text/plain": [
              "<Figure size 432x288 with 1 Axes>"
            ],
            "image/png": "[encoded data removed]"
          },
          "metadata": {
            "needs_background": "light"
          }
        }
      ]
    },
    {
      "cell_type": "markdown",
      "source": [
        "PARENTAL SUPPORT is more important for female than male"
      ],
      "metadata": {
        "id": "Py5CkoEzLDr2"
      }
    },
    {
      "cell_type": "code",
      "source": [
        "plot_relation(male_df, 'BCBG14H', 'finalscore')\n",
        "plot_relation(female_df, 'BCBG14H', 'finalscore')"
      ],
      "metadata": {
        "colab": {
          "base_uri": "https://localhost:8080/",
          "height": 610
        },
        "id": "3IiPsseDKGco",
        "outputId": "73a9e9d1-7276-4b90-e5fc-e48b1a51c5a4"
      },
      "execution_count": 123,
      "outputs": [
        {
          "output_type": "stream",
          "name": "stdout",
          "text": [
            "\n",
            "the relation between finalscore with BCBG14H : \n"
          ]
        },
        {
          "output_type": "display_data",
          "data": {
            "text/plain": [
              "<Figure size 432x288 with 1 Axes>"
            ],
            "image/png": "[encoded data removed]"
          },
          "metadata": {
            "needs_background": "light"
          }
        },
        {
          "output_type": "stream",
          "name": "stdout",
          "text": [
            "\n",
            "the relation between finalscore with BCBG14H : \n"
          ]
        },
        {
          "output_type": "display_data",
          "data": {
            "text/plain": [
              "<Figure size 432x288 with 1 Axes>"
            ],
            "image/png": "[encoded data removed]"
          },
          "metadata": {
            "needs_background": "light"
          }
        }
      ]
    },
    {
      "cell_type": "markdown",
      "source": [
        "ENCOURAGE STUDENTS is more important for male than female"
      ],
      "metadata": {
        "id": "oY7oD7ljLYHi"
      }
    },
    {
      "cell_type": "code",
      "source": [
        "plot_relation(male_df, 'BCBG15G', 'finalscore')\n",
        "plot_relation(female_df, 'BCBG15G', 'finalscore')"
      ],
      "metadata": {
        "colab": {
          "base_uri": "https://localhost:8080/",
          "height": 610
        },
        "id": "h17yvOFnKF-s",
        "outputId": "c09af530-2926-4a61-9c4c-f160c8bc8ae6"
      },
      "execution_count": 124,
      "outputs": [
        {
          "output_type": "stream",
          "name": "stdout",
          "text": [
            "\n",
            "the relation between finalscore with BCBG15G : \n"
          ]
        },
        {
          "output_type": "display_data",
          "data": {
            "text/plain": [
              "<Figure size 432x288 with 1 Axes>"
            ],
            "image/png": "[encoded data removed]"
          },
          "metadata": {
            "needs_background": "light"
          }
        },
        {
          "output_type": "stream",
          "name": "stdout",
          "text": [
            "\n",
            "the relation between finalscore with BCBG15G : \n"
          ]
        },
        {
          "output_type": "display_data",
          "data": {
            "text/plain": [
              "<Figure size 432x288 with 1 Axes>"
            ],
            "image/png": "[encoded data removed]"
          },
          "metadata": {
            "needs_background": "light"
          }
        }
      ]
    },
    {
      "cell_type": "markdown",
      "source": [
        "so we assumed that gender is important in some features and not in some of them.\n"
      ],
      "metadata": {
        "id": "6UIFEIz-Relf"
      }
    },
    {
      "cell_type": "markdown",
      "source": [
        "## Q3: how context affect other finalscores?\n",
        "we need to just do the same thing in Q1 for all the finalscores\n",
        "* algebra\n",
        "* dat\n",
        "* geo\n",
        "* num"
      ],
      "metadata": {
        "id": "XYmfkuDRR3gn"
      }
    },
    {
      "cell_type": "markdown",
      "source": [
        "### Algebra:\n",
        "\n"
      ],
      "metadata": {
        "id": "OxH450yyvH81"
      }
    },
    {
      "cell_type": "code",
      "source": [
        "not_unique_attributes, best_attributes = desicion_tree(df1,\n",
        "                                                       'finalscorealgebra',\n",
        "                                                       ['finalscore', 'finalscoredat',\t'finalscoregeo', 'finalscorenum']\n",
        "                                                       )\n",
        "algebra_df = df1[['finalscorealgebra'] + best_attributes + not_unique_attributes]"
      ],
      "metadata": {
        "colab": {
          "base_uri": "https://localhost:8080/"
        },
        "id": "STNPrdcOWB1M",
        "outputId": "896b7dcb-6cf3-4783-d654-91e70eaea351"
      },
      "execution_count": 136,
      "outputs": [
        {
          "output_type": "stream",
          "name": "stdout",
          "text": [
            "\n",
            "features with more than 8 unique values: ['BSDAGE', 'BCBG06A', 'BTBG01', 'BCBG06B', 'BTBM14', 'BCBG07', 'BTBG11', 'BSBG06A']\n",
            "\n",
            "after remove extra features: \n",
            " BCBG05A     8\n",
            "BTBM19B     7\n",
            "BSDGEDUP    7\n",
            "BSBG07      7\n",
            "BTBG06K     6\n",
            "           ..\n",
            "BCBG12      2\n",
            "BTBG05F     2\n",
            "BTBG05G     2\n",
            "BTBG05H     2\n",
            "BSBG01      2\n",
            "Length: 183, dtype: int64\n",
            "\n",
            "the most important features (features on top of the tree): \n",
            "          importance\n",
            "BSBG07      0.028349\n",
            "BSDGEDUP    0.025048\n",
            "BSBG04      0.024075\n",
            "BSBM15      0.023851\n",
            "BSBG11B     0.022389\n",
            "BSBG11A     0.020780\n",
            "BSBM16C     0.020396\n",
            "BSBM18F     0.020299\n",
            "BSBM19E     0.020294\n",
            "BSBM19B     0.020144\n",
            "BSBM19H     0.019133\n",
            "BSBG13E     0.018356\n",
            "BSBG13C     0.017364\n",
            "BSBM19F     0.017022\n",
            "BSBG10      0.016497\n",
            "BCBG05A     0.015514\n",
            "BSBM17E     0.015470\n",
            "BSBG14B     0.014840\n",
            "BSBG14D     0.014126\n",
            "BSBG13A     0.013900\n"
          ]
        }
      ]
    },
    {
      "cell_type": "markdown",
      "source": [
        "BSBM19H and BSBG04 will choose"
      ],
      "metadata": {
        "id": "ode5MUpnTV3w"
      }
    },
    {
      "cell_type": "code",
      "source": [
        "correlation_analysis(algebra_df, 'finalscorealgebra')"
      ],
      "metadata": {
        "colab": {
          "base_uri": "https://localhost:8080/"
        },
        "id": "f20tKPGLMZ1x",
        "outputId": "b486612d-293c-4974-bfed-8da8886accc4"
      },
      "execution_count": 138,
      "outputs": [
        {
          "output_type": "execute_result",
          "data": {
            "text/plain": [
              "[('BSDGEDUP', -0.2706372480836301),\n",
              " ('BCBG05A', -0.23007794130070885),\n",
              " ('BSBM19F', -0.2277770152717095),\n",
              " ('BSBM15', -0.17616879235802727),\n",
              " ('BSDAGE', -0.09989372810257884),\n",
              " ('BSBG13E', -0.09157070953482038),\n",
              " ('BTBG11', -0.09023165062822837),\n",
              " ('BSBM17E', -0.012302318591844505),\n",
              " ('BSBG13C', -0.00010916942781410487),\n",
              " ('BSBG13A', 0.006122922926200876),\n",
              " ('BSBG11A', 0.03160598039238841),\n",
              " ('BTBG01', 0.06096757180479207),\n",
              " ('BSBG14B', 0.06145453136360599),\n",
              " ('BCBG06A', 0.07021322547468799),\n",
              " ('BSBM18F', 0.08260877607156736),\n",
              " ('BSBG11B', 0.08661661465609269),\n",
              " ('BSBG14D', 0.09245880421584537),\n",
              " ('BTBM14', 0.12432600621391635),\n",
              " ('BSBG10', 0.12722731624531722),\n",
              " ('BSBG06A', 0.15827161827064104),\n",
              " ('BSBM16C', 0.16862336353285004),\n",
              " ('BCBG07', 0.1709191986208085),\n",
              " ('BCBG06B', 0.18176201269870712),\n",
              " ('BSBM19E', 0.18616890985751436),\n",
              " ('BSBG07', 0.23570303713143753),\n",
              " ('BSBM19B', 0.26863822633507545),\n",
              " ('BSBG04', 0.2723104929629121),\n",
              " ('BSBM19H', 0.27584236152077507)]"
            ]
          },
          "metadata": {},
          "execution_count": 138
        }
      ]
    },
    {
      "cell_type": "markdown",
      "source": [
        "### dat:"
      ],
      "metadata": {
        "id": "ESjhAUJCTyK4"
      }
    },
    {
      "cell_type": "code",
      "source": [
        "not_unique_attributes, best_attributes = desicion_tree(df1,\n",
        "                         \n",
        "                                                       'finalscoredat',\n",
        "                                                       ['finalscore', 'finalscorealgebra',\t'finalscoregeo', 'finalscorenum']\n",
        "                                                       )\n",
        "dat_df = df1[['finalscoredat'] + best_attributes + not_unique_attributes]"
      ],
      "metadata": {
        "colab": {
          "base_uri": "https://localhost:8080/"
        },
        "id": "eIrZw1szvSPl",
        "outputId": "d600ecf7-2c57-435e-a73d-33cd31ae235c"
      },
      "execution_count": 141,
      "outputs": [
        {
          "output_type": "stream",
          "name": "stdout",
          "text": [
            "\n",
            "features with more than 8 unique values: ['BSDAGE', 'BCBG06A', 'BTBG01', 'BCBG06B', 'BTBM14', 'BCBG07', 'BTBG11', 'BSBG06A']\n",
            "\n",
            "after remove extra features: \n",
            " BCBG05A     8\n",
            "BTBM19B     7\n",
            "BSDGEDUP    7\n",
            "BSBG07      7\n",
            "BTBG06K     6\n",
            "           ..\n",
            "BCBG12      2\n",
            "BTBG05F     2\n",
            "BTBG05G     2\n",
            "BTBG05H     2\n",
            "BSBG01      2\n",
            "Length: 183, dtype: int64\n",
            "\n",
            "the most important features (features on top of the tree): \n",
            "          importance\n",
            "BSBG07      0.025770\n",
            "BSBG04      0.021225\n",
            "BSBM15      0.020120\n",
            "BSDGEDUP    0.018525\n",
            "BSBG11B     0.017380\n",
            "BSBM19H     0.017044\n",
            "BSBM18F     0.016936\n",
            "BSBG13C     0.016601\n",
            "BSBG10      0.016174\n",
            "BSBM18C     0.015986\n",
            "BSBM16C     0.015569\n",
            "BSBM18A     0.014620\n",
            "BSBM19F     0.014331\n",
            "BSBM20C     0.014279\n",
            "BSBG13D     0.014268\n",
            "BSBM19B     0.014089\n",
            "BSBM19C     0.012843\n",
            "BSBM19E     0.012816\n",
            "BSBM20A     0.012778\n",
            "BSBG12D     0.012649\n"
          ]
        }
      ]
    },
    {
      "cell_type": "markdown",
      "source": [
        "BSBG04 and BSBM19H will choose"
      ],
      "metadata": {
        "id": "mhxzqOunT8hg"
      }
    },
    {
      "cell_type": "code",
      "source": [
        "correlation_analysis(dat_df, 'finalscoredat')"
      ],
      "metadata": {
        "colab": {
          "base_uri": "https://localhost:8080/"
        },
        "id": "8724Y9A0MZ_V",
        "outputId": "5c36b682-f614-4d7f-cf40-f0ca5a7116a5"
      },
      "execution_count": 142,
      "outputs": [
        {
          "output_type": "execute_result",
          "data": {
            "text/plain": [
              "[('BSDGEDUP', -0.1890571366619257),\n",
              " ('BSBM19F', -0.1261169124576973),\n",
              " ('BSBM15', -0.1138176684897606),\n",
              " ('BSBM20C', -0.05980580803588002),\n",
              " ('BTBG11', -0.058109110610448246),\n",
              " ('BSDAGE', -0.055133523020261276),\n",
              " ('BSBM20A', -0.01707039992744596),\n",
              " ('BSBG12D', 0.003779047356364438),\n",
              " ('BSBM18A', 0.005041122054805481),\n",
              " ('BSBG13D', 0.02117029139093333),\n",
              " ('BSBG13C', 0.028725064389609426),\n",
              " ('BSBG11B', 0.03843383071983767),\n",
              " ('BSBM18F', 0.049016576522333155),\n",
              " ('BCBG06A', 0.05293411753221539),\n",
              " ('BSBM18C', 0.0560307612671377),\n",
              " ('BTBG01', 0.05957701387324498),\n",
              " ('BTBM14', 0.08073473259641997),\n",
              " ('BSBG10', 0.08727597407995016),\n",
              " ('BSBM16C', 0.09884450310750614),\n",
              " ('BSBG06A', 0.10672430395078288),\n",
              " ('BCBG07', 0.11656621905157664),\n",
              " ('BSBM19E', 0.12079816156949885),\n",
              " ('BCBG06B', 0.1218947776747533),\n",
              " ('BSBM19C', 0.16379704701771605),\n",
              " ('BSBG07', 0.17757122359130176),\n",
              " ('BSBM19B', 0.19267594261116738),\n",
              " ('BSBM19H', 0.1938954312609641),\n",
              " ('BSBG04', 0.20472273900686822)]"
            ]
          },
          "metadata": {},
          "execution_count": 142
        }
      ]
    },
    {
      "cell_type": "markdown",
      "source": [
        "### geo:"
      ],
      "metadata": {
        "id": "gcIQ_oL4w-DG"
      }
    },
    {
      "cell_type": "code",
      "source": [
        "not_unique_attributes, best_attributes = desicion_tree(df1,\n",
        "                                                       'finalscoregeo',\n",
        "                                                       ['finalscore', 'finalscoredat',\t'finalscorealgebra', 'finalscorenum']\n",
        "                                                       )\n",
        "geo_df = df1[['finalscoregeo'] + best_attributes + not_unique_attributes]"
      ],
      "metadata": {
        "colab": {
          "base_uri": "https://localhost:8080/"
        },
        "id": "L_2NzDZ3w68j",
        "outputId": "e66ca6f0-a55e-4eab-b93e-a1b19208edbb"
      },
      "execution_count": 143,
      "outputs": [
        {
          "output_type": "stream",
          "name": "stdout",
          "text": [
            "\n",
            "features with more than 8 unique values: ['BSDAGE', 'BCBG06A', 'BTBG01', 'BCBG06B', 'BTBM14', 'BCBG07', 'BTBG11', 'BSBG06A']\n",
            "\n",
            "after remove extra features: \n",
            " BCBG05A     8\n",
            "BTBM19B     7\n",
            "BSDGEDUP    7\n",
            "BSBG07      7\n",
            "BTBG06K     6\n",
            "           ..\n",
            "BCBG12      2\n",
            "BTBG05F     2\n",
            "BTBG05G     2\n",
            "BTBG05H     2\n",
            "BSBG01      2\n",
            "Length: 183, dtype: int64\n",
            "\n",
            "the most important features (features on top of the tree): \n",
            "          importance\n",
            "BSBM19H     0.035407\n",
            "BSDGEDUP    0.030977\n",
            "BSBM19C     0.022583\n",
            "BSBM19B     0.020974\n",
            "BSBM19F     0.019952\n",
            "BSBM19E     0.019399\n",
            "BSBG14B     0.019192\n",
            "BSBG04      0.018867\n",
            "BSBM15      0.018796\n",
            "BSBG11B     0.018516\n",
            "BSBM18F     0.016805\n",
            "BSBG10      0.016556\n",
            "BSBM16A     0.016209\n",
            "BSBG13C     0.015709\n",
            "BSBG13E     0.015408\n",
            "BSBG13A     0.014436\n",
            "BSBG11A     0.014022\n",
            "BSBM17B     0.013149\n",
            "BSBG07      0.012714\n",
            "BSBM20H     0.012526\n"
          ]
        }
      ]
    },
    {
      "cell_type": "markdown",
      "source": [
        "BSBM19H and BSBG04 will choose"
      ],
      "metadata": {
        "id": "o_QS929QUWro"
      }
    },
    {
      "cell_type": "code",
      "source": [
        "correlation_analysis(geo_df, 'finalscoregeo')"
      ],
      "metadata": {
        "colab": {
          "base_uri": "https://localhost:8080/"
        },
        "id": "cuMsIRT2MaCX",
        "outputId": "c2d69011-924d-4728-df7d-d09ab949bbbf"
      },
      "execution_count": 144,
      "outputs": [
        {
          "output_type": "execute_result",
          "data": {
            "text/plain": [
              "[('BSDGEDUP', -0.20625590070115965),\n",
              " ('BSBM19F', -0.15359438454489466),\n",
              " ('BSBM15', -0.13680518510699352),\n",
              " ('BSBM16A', -0.10163312371987314),\n",
              " ('BSBM17B', -0.08886641889419053),\n",
              " ('BSBG13E', -0.06669611094967252),\n",
              " ('BSDAGE', -0.060445889272833474),\n",
              " ('BTBG11', -0.05174994993601228),\n",
              " ('BSBM20H', -0.04777847923211326),\n",
              " ('BSBG13A', -0.0022384774466131636),\n",
              " ('BSBG13C', 0.00890167488836651),\n",
              " ('BSBG11A', 0.02215793283848011),\n",
              " ('BSBG14B', 0.024600841966142744),\n",
              " ('BSBG11B', 0.031404143177292836),\n",
              " ('BTBG01', 0.05671954359615429),\n",
              " ('BSBM18F', 0.057373485237973365),\n",
              " ('BCBG06A', 0.059192587694705694),\n",
              " ('BTBM14', 0.07470360767827165),\n",
              " ('BSBG10', 0.08548097774046667),\n",
              " ('BCBG07', 0.11363336469725618),\n",
              " ('BSBG06A', 0.12103859383702015),\n",
              " ('BCBG06B', 0.12758524802136723),\n",
              " ('BSBM19E', 0.1346981161385403),\n",
              " ('BSBG07', 0.147260156018739),\n",
              " ('BSBM19C', 0.17477297371155773),\n",
              " ('BSBM19B', 0.1974249892119734),\n",
              " ('BSBG04', 0.20075254594233186),\n",
              " ('BSBM19H', 0.2050508143155805)]"
            ]
          },
          "metadata": {},
          "execution_count": 144
        }
      ]
    },
    {
      "cell_type": "markdown",
      "source": [
        "### num:"
      ],
      "metadata": {
        "id": "FsyCxQrhxL6W"
      }
    },
    {
      "cell_type": "code",
      "source": [
        "not_unique_attributes, best_attributes = desicion_tree(df1,\n",
        "                                                       'finalscorenum',\n",
        "                                                       ['finalscore', 'finalscoredat',\t'finalscoregeo', 'finalscorealgebra']\n",
        "                                                       )\n",
        "num_df = df1[['finalscorenum'] + best_attributes + not_unique_attributes]\n"
      ],
      "metadata": {
        "colab": {
          "base_uri": "https://localhost:8080/"
        },
        "id": "2AhEVvoDxJDm",
        "outputId": "bb0c72ab-511e-437b-e7e8-2ce3c59983bf"
      },
      "execution_count": 145,
      "outputs": [
        {
          "output_type": "stream",
          "name": "stdout",
          "text": [
            "\n",
            "features with more than 8 unique values: ['BSDAGE', 'BCBG06A', 'BTBG01', 'BCBG06B', 'BTBM14', 'BCBG07', 'BTBG11', 'BSBG06A']\n",
            "\n",
            "after remove extra features: \n",
            " BCBG05A     8\n",
            "BTBM19B     7\n",
            "BSDGEDUP    7\n",
            "BSBG07      7\n",
            "BTBG06K     6\n",
            "           ..\n",
            "BCBG12      2\n",
            "BTBG05F     2\n",
            "BTBG05G     2\n",
            "BTBG05H     2\n",
            "BSBG01      2\n",
            "Length: 183, dtype: int64\n",
            "\n",
            "the most important features (features on top of the tree): \n",
            "          importance\n",
            "BSBG04      0.039098\n",
            "BSBM19H     0.026424\n",
            "BSBM19B     0.024901\n",
            "BSDGEDUP    0.022388\n",
            "BSBM15      0.018420\n",
            "BSBM19F     0.017631\n",
            "BSBM19C     0.016987\n",
            "BSBM18A     0.016186\n",
            "BSBG13E     0.015551\n",
            "BSBG10      0.014603\n",
            "BSBG13C     0.014531\n",
            "BSBM18F     0.014401\n",
            "BSBM18C     0.014383\n",
            "BSBM16C     0.013254\n",
            "BSBG13B     0.012914\n",
            "BSBG13A     0.012817\n",
            "BSBG11B     0.012658\n",
            "BCBG05A     0.012521\n",
            "BSBM16A     0.012406\n",
            "BSBG11A     0.011871\n"
          ]
        }
      ]
    },
    {
      "cell_type": "markdown",
      "source": [
        "BSBM19H and BSBG04 will choose"
      ],
      "metadata": {
        "id": "419ZfJrxUsTN"
      }
    },
    {
      "cell_type": "code",
      "source": [
        "correlation_analysis(num_df, 'finalscorenum')"
      ],
      "metadata": {
        "colab": {
          "base_uri": "https://localhost:8080/"
        },
        "id": "yeBElpCkMaFA",
        "outputId": "f4a264a8-16b2-4871-c849-fa7b0956fdb1"
      },
      "execution_count": 146,
      "outputs": [
        {
          "output_type": "execute_result",
          "data": {
            "text/plain": [
              "[('BSDGEDUP', -0.26586554042759974),\n",
              " ('BSBM19F', -0.22334151878898184),\n",
              " ('BCBG05A', -0.20365351944793766),\n",
              " ('BSBM15', -0.16830178713474692),\n",
              " ('BSBM16A', -0.1433639580820446),\n",
              " ('BSBG13E', -0.0878978915463617),\n",
              " ('BSDAGE', -0.07499876175885178),\n",
              " ('BTBG11', -0.07118551409924773),\n",
              " ('BSBG13B', 0.004130763565495522),\n",
              " ('BSBG13C', 0.012843264551765694),\n",
              " ('BSBG11A', 0.016600328276726074),\n",
              " ('BSBG13A', 0.018089237446549132),\n",
              " ('BSBM18A', 0.028077759065989024),\n",
              " ('BSBG11B', 0.06444103873392981),\n",
              " ('BTBG01', 0.07272253740474183),\n",
              " ('BSBM18F', 0.07716572819358887),\n",
              " ('BCBG06A', 0.08585392601044196),\n",
              " ('BSBM18C', 0.08738873300193556),\n",
              " ('BTBM14', 0.09009732781327177),\n",
              " ('BSBG10', 0.10416626053096639),\n",
              " ('BSBG06A', 0.154028188811247),\n",
              " ('BCBG07', 0.1608141690821196),\n",
              " ('BCBG06B', 0.17643702142400214),\n",
              " ('BSBM16C', 0.1798639029863146),\n",
              " ('BSBM19C', 0.2307979689605781),\n",
              " ('BSBM19B', 0.2694058916771361),\n",
              " ('BSBG04', 0.28267777287071577),\n",
              " ('BSBM19H', 0.29036379957699987)]"
            ]
          },
          "metadata": {},
          "execution_count": 146
        }
      ]
    },
    {
      "cell_type": "markdown",
      "source": [
        "there are some different features in each course compare to eachother and some common features.\n",
        "\n",
        "for instance \"BSBG04\"  : \"AMOUNT OF BOOKS IN YOUR HOME\" is important for all of them.\n",
        "\n",
        "let's check the plot of it for all kind finalscores:"
      ],
      "metadata": {
        "id": "dCrNoifcVAUZ"
      }
    },
    {
      "cell_type": "code",
      "source": [
        "# BSBG04 = AMOUNT OF BOOKS IN YOUR HOME\n",
        "plot_relation(algebra_df, 'BSBG04', 'finalscorealgebra')\n",
        "plot_relation(dat_df, 'BSBG04', 'finalscoredat')\n",
        "plot_relation(geo_df, 'BSBG04', 'finalscoregeo')\n",
        "plot_relation(num_df, 'BSBG04', 'finalscorenum')\n"
      ],
      "metadata": {
        "colab": {
          "base_uri": "https://localhost:8080/",
          "height": 1000
        },
        "id": "Z90GamsRMaHl",
        "outputId": "2effb032-ce6c-4611-e73b-8de76b8af493"
      },
      "execution_count": 147,
      "outputs": [
        {
          "output_type": "stream",
          "name": "stdout",
          "text": [
            "\n",
            "the relation between finalscorealgebra with BSBG04 : \n"
          ]
        },
        {
          "output_type": "display_data",
          "data": {
            "text/plain": [
              "<Figure size 432x288 with 1 Axes>"
            ],
            "image/png": "[encoded data removed]"
          },
          "metadata": {
            "needs_background": "light"
          }
        },
        {
          "output_type": "stream",
          "name": "stdout",
          "text": [
            "\n",
            "the relation between finalscoredat with BSBG04 : \n"
          ]
        },
        {
          "output_type": "display_data",
          "data": {
            "text/plain": [
              "<Figure size 432x288 with 1 Axes>"
            ],
            "image/png": "[encoded data removed]"
          },
          "metadata": {
            "needs_background": "light"
          }
        },
        {
          "output_type": "stream",
          "name": "stdout",
          "text": [
            "\n",
            "the relation between finalscoregeo with BSBG04 : \n"
          ]
        },
        {
          "output_type": "display_data",
          "data": {
            "text/plain": [
              "<Figure size 432x288 with 1 Axes>"
            ],
            "image/png": "[encoded data removed]"
          },
          "metadata": {
            "needs_background": "light"
          }
        },
        {
          "output_type": "stream",
          "name": "stdout",
          "text": [
            "\n",
            "the relation between finalscorenum with BSBG04 : \n"
          ]
        },
        {
          "output_type": "display_data",
          "data": {
            "text/plain": [
              "<Figure size 432x288 with 1 Axes>"
            ],
            "image/png": "[encoded data removed]"
          },
          "metadata": {
            "needs_background": "light"
          }
        }
      ]
    },
    {
      "cell_type": "markdown",
      "source": [
        "we can compare other features too"
      ],
      "metadata": {
        "id": "1L17PeomWYaG"
      }
    },
    {
      "cell_type": "code",
      "source": [
        "# BSBM19H = MATHEMATICS HARDER FOR ME\n",
        "# hardly affect\n",
        "\n",
        "plot_relation(algebra_df, 'BSBM19H', 'finalscorealgebra')\n",
        "plot_relation(dat_df, 'BSBM19H', 'finalscoredat')\n",
        "plot_relation(geo_df, 'BSBM19H', 'finalscoregeo')\n",
        "plot_relation(num_df, 'BSBM19H', 'finalscorenum')\n"
      ],
      "metadata": {
        "colab": {
          "base_uri": "https://localhost:8080/",
          "height": 1000
        },
        "id": "83_IiNklMaKY",
        "outputId": "84c94fb6-afc1-4892-9de4-6b1857f2ea96"
      },
      "execution_count": 150,
      "outputs": [
        {
          "output_type": "stream",
          "name": "stdout",
          "text": [
            "\n",
            "the relation between finalscorealgebra with BSBM19H : \n"
          ]
        },
        {
          "output_type": "display_data",
          "data": {
            "text/plain": [
              "<Figure size 432x288 with 1 Axes>"
            ],
            "image/png": "[encoded data removed]"
          },
          "metadata": {
            "needs_background": "light"
          }
        },
        {
          "output_type": "stream",
          "name": "stdout",
          "text": [
            "\n",
            "the relation between finalscoredat with BSBM19H : \n"
          ]
        },
        {
          "output_type": "display_data",
          "data": {
            "text/plain": [
              "<Figure size 432x288 with 1 Axes>"
            ],
            "image/png": "[encoded data removed]"
          },
          "metadata": {
            "needs_background": "light"
          }
        },
        {
          "output_type": "stream",
          "name": "stdout",
          "text": [
            "\n",
            "the relation between finalscoregeo with BSBM19H : \n"
          ]
        },
        {
          "output_type": "display_data",
          "data": {
            "text/plain": [
              "<Figure size 432x288 with 1 Axes>"
            ],
            "image/png": "[encoded data removed]"
          },
          "metadata": {
            "needs_background": "light"
          }
        },
        {
          "output_type": "stream",
          "name": "stdout",
          "text": [
            "\n",
            "the relation between finalscorenum with BSBM19H : \n"
          ]
        },
        {
          "output_type": "display_data",
          "data": {
            "text/plain": [
              "<Figure size 432x288 with 1 Axes>"
            ],
            "image/png": "[encoded data removed]"
          },
          "metadata": {
            "needs_background": "light"
          }
        }
      ]
    },
    {
      "cell_type": "code",
      "source": [
        "# BSBM19B = MATHEMATICS IS MORE DIFFICULT\n",
        "\n",
        "plot_relation(algebra_df, 'BSBM19B', 'finalscorealgebra')\n",
        "plot_relation(dat_df, 'BSBM19B', 'finalscoredat')\n",
        "plot_relation(geo_df, 'BSBM19B', 'finalscoregeo')\n",
        "plot_relation(num_df, 'BSBM19B', 'finalscorenum')\n"
      ],
      "metadata": {
        "colab": {
          "base_uri": "https://localhost:8080/",
          "height": 1000
        },
        "id": "yqUtzZa9MaM0",
        "outputId": "4fb8a035-b4fc-4591-c87b-089492ecdd90"
      },
      "execution_count": 158,
      "outputs": [
        {
          "output_type": "stream",
          "name": "stdout",
          "text": [
            "\n",
            "the relation between finalscorealgebra with BSBM19B : \n"
          ]
        },
        {
          "output_type": "display_data",
          "data": {
            "text/plain": [
              "<Figure size 432x288 with 1 Axes>"
            ],
            "image/png": "[encoded data removed]"
          },
          "metadata": {
            "needs_background": "light"
          }
        },
        {
          "output_type": "stream",
          "name": "stdout",
          "text": [
            "\n",
            "the relation between finalscoredat with BSBM19B : \n"
          ]
        },
        {
          "output_type": "display_data",
          "data": {
            "text/plain": [
              "<Figure size 432x288 with 1 Axes>"
            ],
            "image/png": "[encoded data removed]"
          },
          "metadata": {
            "needs_background": "light"
          }
        },
        {
          "output_type": "stream",
          "name": "stdout",
          "text": [
            "\n",
            "the relation between finalscoregeo with BSBM19B : \n"
          ]
        },
        {
          "output_type": "display_data",
          "data": {
            "text/plain": [
              "<Figure size 432x288 with 1 Axes>"
            ],
            "image/png": "[encoded data removed]"
          },
          "metadata": {
            "needs_background": "light"
          }
        },
        {
          "output_type": "stream",
          "name": "stdout",
          "text": [
            "\n",
            "the relation between finalscorenum with BSBM19B : \n"
          ]
        },
        {
          "output_type": "display_data",
          "data": {
            "text/plain": [
              "<Figure size 432x288 with 1 Axes>"
            ],
            "image/png": "[encoded data removed]"
          },
          "metadata": {
            "needs_background": "light"
          }
        }
      ]
    },
    {
      "cell_type": "markdown",
      "source": [
        "we can assume that the context of exam will be kinda affected in some features and not in others."
      ],
      "metadata": {
        "id": "x_V0voAbYO8z"
      }
    },
    {
      "cell_type": "code",
      "source": [],
      "metadata": {
        "id": "ZGuQXm9iMaPQ"
      },
      "execution_count": 158,
      "outputs": []
    }
  ]
}